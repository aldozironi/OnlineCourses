{
 "cells": [
  {
   "cell_type": "markdown",
   "metadata": {},
   "source": [
    "# Chapter 9: Tuples\n",
    "\n",
    "A **data structure** is a mechanism for grouping and organizing data to make it easier to use. A **tuple** is one of Python's data structures, and it serves to group any number of items into a single compound value. In order to build a tuple, simply write the desired values separating them by commas. It's also usual to find them enclosed between parentheses.\n",
    "\n",
    "For example:"
   ]
  },
  {
   "cell_type": "code",
   "execution_count": 1,
   "metadata": {},
   "outputs": [],
   "source": [
    "# Example of a tuple\n",
    "julia = (\n",
    "    \"Julia\",\n",
    "    \"Roberts\",\n",
    "    1967,\n",
    "    \"Duplicity\",\n",
    "    2009,\n",
    "    \"Actress\",\n",
    "    \"Atlanta, Georgia\"\n",
    ")"
   ]
  },
  {
   "cell_type": "markdown",
   "metadata": {},
   "source": [
    "Tuples are immutable, and accept the same sequence operations as strings, like indexing and slicing.\n",
    "\n",
    "## Tuple Unpacking\n",
    "\n",
    "We can perform multiple variable assignments by **unpacking** tuples:"
   ]
  },
  {
   "cell_type": "code",
   "execution_count": 2,
   "metadata": {},
   "outputs": [
    {
     "name": "stdout",
     "output_type": "stream",
     "text": [
      "The \"name\" variable contains \"Bob\".\n"
     ]
    }
   ],
   "source": [
    "b = (\"Bob\", 19, \"CS\")    # tuple packing\n",
    "(name, age, studies) = b    # tuple unpacking\n",
    "print(f'The \"name\" variable contains \"{name}\".')"
   ]
  },
  {
   "cell_type": "markdown",
   "metadata": {},
   "source": [
    "This trick allows us to swap the values of variables:"
   ]
  },
  {
   "cell_type": "code",
   "execution_count": 3,
   "metadata": {},
   "outputs": [
    {
     "name": "stdout",
     "output_type": "stream",
     "text": [
      "The original value of \"a\" is \"world\".\n",
      "The original value of \"b\" is \"hello\".\n",
      "\n",
      "The updated value of \"a\" is \"hello\".\n",
      "The updated value of \"b\" is \"world\".\n"
     ]
    }
   ],
   "source": [
    "a = 'world'\n",
    "b = 'hello'\n",
    "\n",
    "print(f'The original value of \"a\" is \"{a}\".')\n",
    "print(f'The original value of \"b\" is \"{b}\".')\n",
    "\n",
    "(a, b) = (b, a)\n",
    "\n",
    "print()\n",
    "print(f'The updated value of \"a\" is \"{a}\".')\n",
    "print(f'The updated value of \"b\" is \"{b}\".')"
   ]
  },
  {
   "cell_type": "markdown",
   "metadata": {},
   "source": [
    "## Tuple as Return Values\n",
    "\n",
    "So far we've used functions to return a single value. Since tuples are considered _single values_ by Python, we can use them to return multiple values.\n",
    "\n",
    "For example, the following function returns both the area and circumference of a circle with rarius $r$:"
   ]
  },
  {
   "cell_type": "code",
   "execution_count": 4,
   "metadata": {},
   "outputs": [
    {
     "data": {
      "text/plain": [
       "(25.132741228718345, 50.26548245743669)"
      ]
     },
     "execution_count": 4,
     "metadata": {},
     "output_type": "execute_result"
    }
   ],
   "source": [
    "import math\n",
    "\n",
    "def f(r):\n",
    "    \"\"\"\n",
    "    Return (circumference, area) of a circle of radius r\n",
    "    \"\"\"\n",
    "    c = 2 * math.pi * r\n",
    "    a = math.pi * r * r\n",
    "    return (c, a)\n",
    "\n",
    "f(4)"
   ]
  },
  {
   "cell_type": "markdown",
   "metadata": {},
   "source": [
    "## Composability of Data Structures\n",
    "\n",
    "You can **compose** data structures, meaning that you can make tuples of tuples, or lists of tuples, or tuples of lists, or tuples of tuples of tuples, etc.\n",
    "\n",
    "In general, when a tuple or list contains different data types, its said to be **heterogenious**.\n",
    "\n",
    "For example, the following tuple is heteregenious and contains strings, tuples and lists:"
   ]
  },
  {
   "cell_type": "code",
   "execution_count": 5,
   "metadata": {},
   "outputs": [],
   "source": [
    "julia_more_info = (\n",
    "    (\"Julia\", \"Roberts\"),\n",
    "    (8, \"October\", 1967),\n",
    "    \"Actress\",\n",
    "    (\"Atlanta\", \"Georgia\"),\n",
    "    [(\"Duplicity\", 2009),\n",
    "     (\"Notting Hill\", 1999),\n",
    "     (\"Pretty Woman\", 1990),\n",
    "     (\"Erin Brockovich\", 2000),\n",
    "     (\"Eat Pray Love\", 2010),\n",
    "     (\"Mona Lisa Smile\", 2003),\n",
    "     (\"Oceans Twelve\", 2004)\n",
    "    ]\n",
    ")"
   ]
  },
  {
   "cell_type": "markdown",
   "metadata": {},
   "source": [
    "## Excercises:\n",
    "\n",
    "### 1\n",
    "\n",
    "Test whether you can pass a tuple as an _argument_ of a function.\n",
    "\n",
    "#### Answer\n",
    "\n",
    "Yes, you can."
   ]
  },
  {
   "cell_type": "code",
   "execution_count": 6,
   "metadata": {},
   "outputs": [
    {
     "name": "stdout",
     "output_type": "stream",
     "text": [
      "Contents of element 1: \"('Julia', 'Roberts')\"\n",
      "Contents of element 2: \"(8, 'October', 1967)\"\n",
      "Contents of element 3: \"Actress\"\n",
      "Contents of element 4: \"('Atlanta', 'Georgia')\"\n",
      "Contents of element 5: \"[('Duplicity', 2009), ('Notting Hill', 1999), ('Pretty Woman', 1990), ('Erin Brockovich', 2000), ('Eat Pray Love', 2010), ('Mona Lisa Smile', 2003), ('Oceans Twelve', 2004)]\"\n"
     ]
    }
   ],
   "source": [
    "def print_tuple(tup):\n",
    "    \"\"\"\n",
    "    Print elements of a tuple.\n",
    "    \"\"\"\n",
    "    counter = 0\n",
    "    for element in tup:\n",
    "        counter += 1\n",
    "        print(f'Contents of element {counter}: \"{element}\"')\n",
    "        \n",
    "print_tuple(julia_more_info)"
   ]
  },
  {
   "cell_type": "markdown",
   "metadata": {},
   "source": [
    "### 2\n",
    "\n",
    "Is a pair a generalization of a tuple, or is a tuple a generalization of a pair?\n",
    "\n",
    "#### Answer\n",
    "\n",
    "A tuple is a generalization of a pair because a pair is the particular case of a tuple with two elements.\n",
    "\n",
    "### 3\n",
    "\n",
    "Is a pair a kind of tuple, or is a tuple a kind of pair?\n",
    "\n",
    "#### Answer\n",
    "\n",
    "A pair is a kind of tuple (see answer to question 2."
   ]
  }
 ],
 "metadata": {
  "kernelspec": {
   "display_name": "Python 3",
   "language": "python",
   "name": "python3"
  },
  "language_info": {
   "codemirror_mode": {
    "name": "ipython",
    "version": 3
   },
   "file_extension": ".py",
   "mimetype": "text/x-python",
   "name": "python",
   "nbconvert_exporter": "python",
   "pygments_lexer": "ipython3",
   "version": "3.6.4"
  }
 },
 "nbformat": 4,
 "nbformat_minor": 4
}
