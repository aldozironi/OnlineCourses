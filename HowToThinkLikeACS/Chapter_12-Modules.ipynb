{
 "cells": [
  {
   "cell_type": "markdown",
   "metadata": {},
   "source": [
    "# Chapter 12: Modules\n",
    "\n",
    "A **module** is a file containing definitions and statements intended for use in other programs. So far, we've played with the `turtles` module. There are many others.\n",
    "\n",
    "## `random`\n",
    "\n",
    "The `random` module allows you to use random numbers in programs. Some methods within include:\n",
    "\n",
    "1. `Random().randrange(initial_int, final_int)`: Return a random integer between `initial_int` (inclusive) and `final_int` (exclusive). Draw is uniformly distributed.\n",
    "2. `Random().random()`: Return a random number between 0 and 1. Draw is uniformly distributed.\n",
    "3. `Random().shuffle(a_list)`: Shuffle (permute) the elements in `a_list`.\n",
    "\n",
    "Examples:"
   ]
  },
  {
   "cell_type": "code",
   "execution_count": 1,
   "metadata": {},
   "outputs": [
    {
     "name": "stdout",
     "output_type": "stream",
     "text": [
      "A random integer between 1 and 4: 2.\n",
      "A random float between 0 and 1: 0.0585.\n",
      "A random permutation of the list [1, 2, 3]:\n",
      "[2, 3, 1]\n"
     ]
    }
   ],
   "source": [
    "import random\n",
    "\n",
    "# Random number generator to avoid calling Random() all the time.\n",
    "rng = random.Random()\n",
    "\n",
    "# Use of randrange\n",
    "print(f'A random integer between 1 and 4: {rng.randrange(1, 4)}.')\n",
    "# Use of random\n",
    "print(f'A random float between 0 and 1: {rng.random():.4f}.')\n",
    "# Use of shuffle\n",
    "list_a = [1, 2, 3]\n",
    "print(f'A random permutation of the list {list_a}:')\n",
    "rng.shuffle(list_a)\n",
    "print(f'{list_a}')"
   ]
  },
  {
   "cell_type": "markdown",
   "metadata": {},
   "source": [
    "Note that if we repeat calls to the random number generator, the results may change:"
   ]
  },
  {
   "cell_type": "code",
   "execution_count": 2,
   "metadata": {},
   "outputs": [
    {
     "name": "stdout",
     "output_type": "stream",
     "text": [
      "A random float between 0 and 1: 0.0411.\n",
      "Another draw for a random float between 0 and 1: 0.4353.\n"
     ]
    }
   ],
   "source": [
    "# Reset the rng\n",
    "rng = random.Random()\n",
    "\n",
    "print(f'A random float between 0 and 1: {rng.random():.4f}.')\n",
    "print(f'Another draw for a random float between 0 and 1: {rng.random():.4f}.')"
   ]
  },
  {
   "cell_type": "markdown",
   "metadata": {},
   "source": [
    "This is because each time we call the functions in random, a new draw is made. Sometimes, specially when testing and debugging, we want the results of a random draw to be the same each and every time. To accomplish this, we first need to understand how a **random number generator (RNG)** works.\n",
    "\n",
    "The phrase \"random number generator\" is in itself an oxymoron. Are the numbers generated, or are they actually random? The answer is that we can't actually obtain truly random numbers using a computer. Instead, we rely on **deterministic** (non-random) algrithms to produce random numbers. How does that work?\n",
    "\n",
    "1. We consider at a starting number, called **seed**.\n",
    "2. We then apply the deterministic function, aka. RNG, to this initial number to obtain the \"random\" number, called **pseudo-random number**.\n",
    "\n",
    "Thus, what we need to randomize draws is to rndomize the seed, and what we need to fix the draws is to ensure that the seed remains constant.\n",
    "\n",
    "The `random` module by default uses random seeds, which can be obtained from current time or any other source of information that will yield a relatively random seed.\n",
    "\n",
    "To ensure that the seed remains constant, you can set an initial state for seed generation. This means that the first call will always be the same, so will the second one and so on, though the first and second calls may be different from one another. "
   ]
  },
  {
   "cell_type": "code",
   "execution_count": 3,
   "metadata": {},
   "outputs": [
    {
     "name": "stdout",
     "output_type": "stream",
     "text": [
      "First draw of a float between 0 and 1 using seed 42: 0.6394.\n",
      "Second draw of a float between 0 and 1 using seed 42: 0.0250.\n",
      "\n",
      "Resetting RNG\n",
      "First draw of a float between 0 and 1 using seed 42: 0.6394.\n",
      "Second draw of a float between 0 and 1 using seed 42: 0.0250.\n"
     ]
    }
   ],
   "source": [
    "seed = 42\n",
    "\n",
    "# Set seed for RNG\n",
    "rng = random.Random(seed)\n",
    "print(f'First draw of a float between 0 and 1 using seed {seed}: {rng.random():.4f}.')\n",
    "print(f'Second draw of a float between 0 and 1 using seed {seed}: {rng.random():.4f}.')\n",
    "\n",
    "print('\\nResetting RNG')\n",
    "# Reset RNG using the same seed \n",
    "rng = random.Random(seed)\n",
    "print(f'First draw of a float between 0 and 1 using seed {seed}: {rng.random():.4f}.')\n",
    "print(f'Second draw of a float between 0 and 1 using seed {seed}: {rng.random():.4f}.')"
   ]
  },
  {
   "cell_type": "markdown",
   "metadata": {},
   "source": [
    "## `time`\n",
    "\n",
    "The `time` module allows us to time how long a program to execute. This allows us to test different implementations in terms of efficiency. Generally speaking, faster is better, though some speedups may come at the cost of undertandability of the code; choose your trade-offs carefully.\n",
    "\n",
    "Keep in mind that most computers can perform many operations quickly, so you might need to do many iterations or use a large database to test your implementations.\n",
    "\n",
    "Example: Comparing naïve implementation to sum a list against the `sum` function."
   ]
  },
  {
   "cell_type": "code",
   "execution_count": 4,
   "metadata": {},
   "outputs": [
    {
     "name": "stdout",
     "output_type": "stream",
     "text": [
      "my_result    = 49999995000000 (time taken = 0.9702 seconds)\n",
      "their_result = 49999995000000 (time taken = 0.3198 seconds)\n"
     ]
    }
   ],
   "source": [
    "import time\n",
    "\n",
    "def do_my_sum(xs):\n",
    "    result = 0\n",
    "    for v in xs:\n",
    "        result += v\n",
    "    return result\n",
    "\n",
    "sz = 10000000        # Lets have 10 million elements in the list\n",
    "testdata = range(sz)\n",
    "\n",
    "t0 = time.clock()\n",
    "my_result = do_my_sum(testdata)\n",
    "t1 = time.clock()\n",
    "print(\"my_result    = {0} (time taken = {1:.4f} seconds)\"\n",
    "        .format(my_result, t1-t0))\n",
    "\n",
    "t2 = time.clock()\n",
    "their_result = sum(testdata)\n",
    "t3 = time.clock()\n",
    "print(\"their_result = {0} (time taken = {1:.4f} seconds)\"\n",
    "        .format(their_result, t3-t2))"
   ]
  },
  {
   "cell_type": "markdown",
   "metadata": {},
   "source": [
    "## `math`\n",
    "\n",
    "The `math` module contains some mathematical functions and constants:\n",
    "\n",
    "* `sqrt(number)`: Compute the square root of `number`.\n",
    "* `radians(angle)`: Convert `angle` from degrees to radians.\n",
    "* `sin(number)`: Compute the sine of an angle in radians.\n",
    "* `pi`: The mathematical constant $\\pi$.\n",
    "* `e`: The mathematical constant $e$.\n",
    "\n",
    "Examples:"
   ]
  },
  {
   "cell_type": "code",
   "execution_count": 5,
   "metadata": {},
   "outputs": [
    {
     "name": "stdout",
     "output_type": "stream",
     "text": [
      "The sqare root of 2 is 1.4142135623730951.\n",
      "An angle of 90 degrees in radians is 1.5707963267948966.\n",
      "The sine of an angle of 90 degrees is 1.0.\n",
      "The constant pi is 3.141592653589793.\n",
      "The constant e is 2.718281828459045.\n"
     ]
    }
   ],
   "source": [
    "import math\n",
    "\n",
    "print(f'The sqare root of 2 is {math.sqrt(2)}.')\n",
    "print(f'An angle of 90 degrees in radians is {math.radians(90)}.')\n",
    "print(f'The sine of an angle of 90 degrees is {math.sin(math.radians(90))}.')\n",
    "print(f'The constant pi is {math.pi}.')\n",
    "print(f'The constant e is {math.e}.')"
   ]
  },
  {
   "cell_type": "markdown",
   "metadata": {},
   "source": [
    "## Creating Your Own Modules\n",
    "\n",
    "To create your own module, write the functions and constants in a script in the same folder you're working on. Then use the `import` statement to access them.\n",
    "\n",
    "## Namespaces\n",
    "\n",
    "A **namespace** is a collection of identifiers that belong to a module, function, or class. Each module, function and class has their own namespaces. In the following example, we define the `n` variable in the active module and within a function."
   ]
  },
  {
   "cell_type": "code",
   "execution_count": 6,
   "metadata": {},
   "outputs": [
    {
     "name": "stdout",
     "output_type": "stream",
     "text": [
      "printing n before calling f: 11\n",
      "printing n inside of f: 7\n",
      "printing n after calling f: 11\n"
     ]
    }
   ],
   "source": [
    "def f():\n",
    "    n = 7\n",
    "    print(\"printing n inside of f:\", n)\n",
    "\n",
    "\n",
    "n = 11\n",
    "print(\"printing n before calling f:\", n)\n",
    "f()\n",
    "print(\"printing n after calling f:\", n)"
   ]
  },
  {
   "cell_type": "markdown",
   "metadata": {},
   "source": [
    "Note that since `f` has `n` defined inside, it w will live inside its namespace, it uses the **local** value for `n`, and the outside variable remains unchanged. This separation of namespaces is called a scope.\n",
    "\n",
    "### Scopes\n",
    "\n",
    "The region of a program in which a particular identifier can be accessed is called a **scope**. Python handles 3 main scopes:\n",
    "\n",
    "1. **Local**: Identifiers defined within a function. They're kept in the namespace for the function, and each function has its own namespace.\n",
    "2. **Global**: All the identifiers declared within the current module or file.\n",
    "3. **Built-in**: all the identifiers built into Python, like the `sum`, `len`, and `range` functions we've used.\n",
    "\n",
    "### Scope Lookup Rules.\n",
    "\n",
    "Let's stop to think further about our previous example:\n",
    "\n",
    "1. We defined `n` in the global scope.\n",
    "2. We created a new variable, `n` in a local scope.\n",
    "3. When we access the variable `n` within the local scope, it uses the value in the local scope.\n",
    "4. When we access the global `n`, the local variable no longer exists.\n",
    "\n",
    "In other words, we've made a temporal alias of the variable `n`! This would seem to imply that the lookup happens in the scope you're in; but as we mentioned, the built-in scope contains some functions we've used without importing them to the global scope. What gives? Python has a set of rules on **how** to look for variables in the different scopes. They are as follows:\n",
    "\n",
    "1. Python will always look for names in the smallest (most local) scope available.\n",
    "2. If Python doesn't find the name in that scope, it will look for it in whatever scope contains said scope. $^*$\n",
    "3. Python will repeat the step 2 until one of two things happens: if Python finds the name, it will use it and stop iterating (it will use the name in the most local scope it can find the name); if Python reaches the built-in scope and doesn't find the name there, it will raise a NameError.\n",
    "\n",
    "**Note:** Lookup rules imply that you can redefine built-in functions if you want, though you generally should avoid doing it because it can lead to confusion.\n",
    "\n",
    "For example, if you define the function `f` within the function `g` and you try to access a name inside the function `f`, Python will first look for the name in the scope of `f`. If it doesn't find it, it looks for it in the **enveloping** scope (that of `g`). If Python hasn't found it yet, it will look in the global scope and finally in the built-in scope. In code:\n",
    "\n",
    "$^*$: There is an exception wich well cover a little later."
   ]
  },
  {
   "cell_type": "code",
   "execution_count": 7,
   "metadata": {},
   "outputs": [
    {
     "name": "stdout",
     "output_type": "stream",
     "text": [
      "For z, we look locally to find the value 2\n",
      "For m, we look one level up to find the value 3\n",
      "For a, we look globally to find the value 5\n"
     ]
    }
   ],
   "source": [
    "a = 5\n",
    "m = 5\n",
    "z = 5\n",
    "\n",
    "def g():\n",
    "    def f():\n",
    "        z = 2\n",
    "        print(f'For z, we look locally to find the value {z}')\n",
    "        print(f'For m, we look one level up to find the value {m}')\n",
    "        print(f'For a, we look globally to find the value {a}')\n",
    "        return None\n",
    "    m = 3\n",
    "    f()\n",
    "    return None\n",
    "\n",
    "g()"
   ]
  },
  {
   "cell_type": "markdown",
   "metadata": {},
   "source": [
    "#### Lookup Rules Exception\n",
    "\n",
    "There is an exception in the lookup rule number 2, and that is this:\n",
    "\n",
    "> Any variable that gets assigned in a local scope will only be looked up locally.\n",
    "\n",
    "This means that if you do a variable assignment inside a function, it will never look at it outside the local scope. This is the reason we needed to state the `state_num` variable as global in chapter 10: without it, Python would not be able to find the name, which was defined globally:"
   ]
  },
  {
   "cell_type": "code",
   "execution_count": 8,
   "metadata": {},
   "outputs": [
    {
     "ename": "UnboundLocalError",
     "evalue": "local variable 'state_num' referenced before assignment",
     "output_type": "error",
     "traceback": [
      "\u001b[0;31m---------------------------------------------------------------------------\u001b[0m",
      "\u001b[0;31mUnboundLocalError\u001b[0m                         Traceback (most recent call last)",
      "\u001b[0;32m<ipython-input-8-65ff992494fd>\u001b[0m in \u001b[0;36m<module>\u001b[0;34m\u001b[0m\n\u001b[1;32m     12\u001b[0m \u001b[0;34m\u001b[0m\u001b[0m\n\u001b[1;32m     13\u001b[0m \u001b[0;31m# Python can't find state_num\u001b[0m\u001b[0;34m\u001b[0m\u001b[0;34m\u001b[0m\u001b[0m\n\u001b[0;32m---> 14\u001b[0;31m \u001b[0madvance_state_machine\u001b[0m\u001b[0;34m(\u001b[0m\u001b[0;34m)\u001b[0m\u001b[0;34m\u001b[0m\u001b[0m\n\u001b[0m",
      "\u001b[0;32m<ipython-input-8-65ff992494fd>\u001b[0m in \u001b[0;36madvance_state_machine\u001b[0;34m()\u001b[0m\n\u001b[1;32m      4\u001b[0m \u001b[0;31m# state_num is defined locally only because there are assignments to that variable\u001b[0m\u001b[0;34m\u001b[0m\u001b[0;34m\u001b[0m\u001b[0m\n\u001b[1;32m      5\u001b[0m \u001b[0;32mdef\u001b[0m \u001b[0madvance_state_machine\u001b[0m\u001b[0;34m(\u001b[0m\u001b[0;34m)\u001b[0m\u001b[0;34m:\u001b[0m\u001b[0;34m\u001b[0m\u001b[0m\n\u001b[0;32m----> 6\u001b[0;31m     \u001b[0;32mif\u001b[0m \u001b[0mstate_num\u001b[0m \u001b[0;34m==\u001b[0m \u001b[0;36m0\u001b[0m\u001b[0;34m:\u001b[0m       \u001b[0;31m# Transition from state 0 to state 1\u001b[0m\u001b[0;34m\u001b[0m\u001b[0m\n\u001b[0m\u001b[1;32m      7\u001b[0m         \u001b[0mstate_num\u001b[0m \u001b[0;34m=\u001b[0m \u001b[0;36m1\u001b[0m\u001b[0;34m\u001b[0m\u001b[0m\n\u001b[1;32m      8\u001b[0m     \u001b[0;32melif\u001b[0m \u001b[0mstate_num\u001b[0m \u001b[0;34m==\u001b[0m \u001b[0;36m1\u001b[0m\u001b[0;34m:\u001b[0m     \u001b[0;31m# Transition from state 1 to state 2\u001b[0m\u001b[0;34m\u001b[0m\u001b[0m\n",
      "\u001b[0;31mUnboundLocalError\u001b[0m: local variable 'state_num' referenced before assignment"
     ]
    }
   ],
   "source": [
    "# Define variable globaly\n",
    "state_num = 0\n",
    "\n",
    "# state_num is defined locally only because there are assignments to that variable\n",
    "def advance_state_machine():\n",
    "    if state_num == 0:       # Transition from state 0 to state 1\n",
    "        state_num = 1\n",
    "    elif state_num == 1:     # Transition from state 1 to state 2\n",
    "        state_num = 2\n",
    "    else:                    # Transition from state 2 to state 0\n",
    "        state_num = 0\n",
    "        \n",
    "# Python can't find state_num\n",
    "advance_state_machine()"
   ]
  },
  {
   "cell_type": "markdown",
   "metadata": {},
   "source": [
    "## Importing Modules\n",
    "\n",
    "We've already imported modules using the `import` statement. There are some useful variants you need to be aware of.\n",
    "\n",
    "### Import the Entire Module\n",
    "\n",
    "What's going on when we run the code \n",
    "\n",
    "```\n",
    "import module\n",
    "```\n",
    "\n",
    "? Python does the following:\n",
    "\n",
    "1. First, it loads the module in memory.\n",
    "2. It creates, in the current namespace, the name `module`.\n",
    "3. It maps the name to the object in memory.\n",
    "\n",
    "Since a module is an object, we can access its attributes and methods using the following syntax:\n",
    "\n",
    "```\n",
    "module.method(params)\n",
    "```\n",
    "\n",
    "This is the way we've been working with modules so far."
   ]
  },
  {
   "cell_type": "code",
   "execution_count": 9,
   "metadata": {},
   "outputs": [
    {
     "data": {
      "text/plain": [
       "[(1, 'a'), (1, 'b'), (2, 'a'), (2, 'b')]"
      ]
     },
     "execution_count": 9,
     "metadata": {},
     "output_type": "execute_result"
    }
   ],
   "source": [
    "# Import module\n",
    "import itertools\n",
    "\n",
    "# Access a method from the module.\n",
    "p = itertools.product([1,2], ['a', 'b'])\n",
    "\n",
    "# Print response\n",
    "list(p)"
   ]
  },
  {
   "cell_type": "markdown",
   "metadata": {},
   "source": [
    "### Import and Alias\n",
    "\n",
    "When we import the entire module, in step 2, Python creates a name that matches the module name. We can modify this behaviour and tell Python exactly what name we want to be created. This is useful whan the module's name is too lengthy to write. The syntax is\n",
    "\n",
    "```\n",
    "import module as alias\n",
    "```\n",
    "\n",
    "Example:"
   ]
  },
  {
   "cell_type": "code",
   "execution_count": 10,
   "metadata": {},
   "outputs": [
    {
     "name": "stdout",
     "output_type": "stream",
     "text": [
      "Accessing an element via the alias: 2/3.\n",
      "\n"
     ]
    },
    {
     "ename": "NameError",
     "evalue": "name 'fractions' is not defined",
     "output_type": "error",
     "traceback": [
      "\u001b[0;31m---------------------------------------------------------------------------\u001b[0m",
      "\u001b[0;31mNameError\u001b[0m                                 Traceback (most recent call last)",
      "\u001b[0;32m<ipython-input-10-e1d2bd0c03cd>\u001b[0m in \u001b[0;36m<module>\u001b[0;34m\u001b[0m\n\u001b[1;32m      6\u001b[0m \u001b[0;34m\u001b[0m\u001b[0m\n\u001b[1;32m      7\u001b[0m \u001b[0;31m# However, we can't access it by its name.\u001b[0m\u001b[0;34m\u001b[0m\u001b[0;34m\u001b[0m\u001b[0m\n\u001b[0;32m----> 8\u001b[0;31m \u001b[0mfractions\u001b[0m\u001b[0;34m.\u001b[0m\u001b[0mFraction\u001b[0m\u001b[0;34m(\u001b[0m\u001b[0;36m2\u001b[0m\u001b[0;34m,\u001b[0m\u001b[0;36m3\u001b[0m\u001b[0;34m)\u001b[0m\u001b[0;34m\u001b[0m\u001b[0m\n\u001b[0m",
      "\u001b[0;31mNameError\u001b[0m: name 'fractions' is not defined"
     ]
    }
   ],
   "source": [
    "# Import module with an alias.\n",
    "import fractions as fr\n",
    "\n",
    "# Now we access the module's attribute through its alias.\n",
    "print(f'Accessing an element via the alias: {fr.Fraction(2,3)}.\\n')\n",
    "\n",
    "# However, we can't access it by its name.\n",
    "fractions.Fraction(2,3)"
   ]
  },
  {
   "cell_type": "markdown",
   "metadata": {},
   "source": [
    "### Importing Desired Attributes Only\n",
    "\n",
    "Python allows us to access only desired names from a module using the following syntax:\n",
    "\n",
    "```\n",
    "from module import attribute_1, attribute_2, ...\n",
    "```\n",
    "\n",
    "The importing flow is as follows:\n",
    "\n",
    "1. First, it loads the module in memory.\n",
    "2. It creates, for each attribute to be imported, a matching name.\n",
    "3. It maps each name to the attribute in memory.\n",
    "\n",
    "This means that you don't need to access the attributes by accessing the object; you have direct access to them.\n",
    "\n",
    "**Note:** From the previous flow we can see that the entire module is loaded up in memory, so importing desired attributes is not more memory efficient than importing the module.\n",
    "\n",
    "Example:"
   ]
  },
  {
   "cell_type": "code",
   "execution_count": 11,
   "metadata": {},
   "outputs": [
    {
     "name": "stdout",
     "output_type": "stream",
     "text": [
      "Is the 'sys' module currently loaded up? True.\n",
      "\n"
     ]
    },
    {
     "ename": "NameError",
     "evalue": "name 'sys' is not defined",
     "output_type": "error",
     "traceback": [
      "\u001b[0;31m---------------------------------------------------------------------------\u001b[0m",
      "\u001b[0;31mNameError\u001b[0m                                 Traceback (most recent call last)",
      "\u001b[0;32m<ipython-input-11-7957a5e2705a>\u001b[0m in \u001b[0;36m<module>\u001b[0;34m\u001b[0m\n\u001b[1;32m      6\u001b[0m \u001b[0;34m\u001b[0m\u001b[0m\n\u001b[1;32m      7\u001b[0m \u001b[0;31m# However, we can't access the sys module itself.\u001b[0m\u001b[0;34m\u001b[0m\u001b[0;34m\u001b[0m\u001b[0m\n\u001b[0;32m----> 8\u001b[0;31m \u001b[0msys\u001b[0m\u001b[0;34m.\u001b[0m\u001b[0mmodules\u001b[0m\u001b[0;34m\u001b[0m\u001b[0m\n\u001b[0m",
      "\u001b[0;31mNameError\u001b[0m: name 'sys' is not defined"
     ]
    }
   ],
   "source": [
    "# Import the modules attribute of the sys module\n",
    "from sys import modules\n",
    "\n",
    "# Modules is a dictionary with all loaded modules and their addresses.\n",
    "print(f\"Is the 'sys' module currently loaded up? {'sys' in modules}.\\n\")\n",
    "\n",
    "# However, we can't access the sys module itself.\n",
    "sys.modules"
   ]
  },
  {
   "cell_type": "markdown",
   "metadata": {},
   "source": [
    "### Importing All Attributes\n",
    "\n",
    "A variation of the previous importing scheme is to import **all** of the attributes without needing to spell them all out. This is generally considered a bad practice because it can overwrite existing names and lead to bugs. The syntax is:\n",
    "\n",
    "```\n",
    "from module import *\n",
    "```\n",
    "\n",
    "Example:"
   ]
  },
  {
   "cell_type": "code",
   "execution_count": 12,
   "metadata": {},
   "outputs": [
    {
     "name": "stdout",
     "output_type": "stream",
     "text": [
      "Import cmath to operate with complex numbers.\n",
      "Find the exponential of a complex number: (-3.074932320639359+6.71884969742825j).\n",
      "\n",
      "Import math as well\n",
      "\n"
     ]
    },
    {
     "ename": "TypeError",
     "evalue": "can't convert complex to float",
     "output_type": "error",
     "traceback": [
      "\u001b[0;31m---------------------------------------------------------------------------\u001b[0m",
      "\u001b[0;31mTypeError\u001b[0m                                 Traceback (most recent call last)",
      "\u001b[0;32m<ipython-input-12-833b9d4133fa>\u001b[0m in \u001b[0;36m<module>\u001b[0;34m\u001b[0m\n\u001b[1;32m     13\u001b[0m \u001b[0;31m# Now we can't exponentiate a complex number because exp\u001b[0m\u001b[0;34m\u001b[0m\u001b[0;34m\u001b[0m\u001b[0m\n\u001b[1;32m     14\u001b[0m \u001b[0;31m# now is the math implementation, not the one in cmath\u001b[0m\u001b[0;34m\u001b[0m\u001b[0;34m\u001b[0m\u001b[0m\n\u001b[0;32m---> 15\u001b[0;31m \u001b[0mprint\u001b[0m\u001b[0;34m(\u001b[0m\u001b[0;34mf'Find the exponential of a complex number: {exp(2+2j)}.'\u001b[0m\u001b[0;34m)\u001b[0m\u001b[0;34m\u001b[0m\u001b[0m\n\u001b[0m",
      "\u001b[0;31mTypeError\u001b[0m: can't convert complex to float"
     ]
    }
   ],
   "source": [
    "# Import all attributes in the cmath module\n",
    "# cmath allows us to do math with complex numbers\n",
    "print('Import cmath to operate with complex numbers.')\n",
    "from cmath import *\n",
    "\n",
    "# Make use of cmath's exp function.\n",
    "print(f'Find the exponential of a complex number: {exp(2+2j)}.')\n",
    "\n",
    "# Importing all attributes in math overwrites exp:\n",
    "print('\\nImport math as well\\n')\n",
    "from math import *\n",
    "\n",
    "# Now we can't exponentiate a complex number because exp \n",
    "# now is the math implementation, not the one in cmath\n",
    "print(f'Find the exponential of a complex number: {exp(2+2j)}.')"
   ]
  },
  {
   "cell_type": "markdown",
   "metadata": {},
   "source": [
    "## Excercises\n",
    "\n",
    "### 1\n",
    "\n",
    "#### 1.1\n",
    "\n",
    "Try the following:\n",
    "\n",
    "```\n",
    "import calendar\n",
    "cal = calendar.TextCalendar()      # Create an instance\n",
    "cal.pryear(2012)                   # What happens here\n",
    "```\n",
    "\n",
    "**Answer:**\n",
    "\n",
    "A full calendar for 2012 gets printed."
   ]
  },
  {
   "cell_type": "code",
   "execution_count": 13,
   "metadata": {},
   "outputs": [
    {
     "name": "stdout",
     "output_type": "stream",
     "text": [
      "                                  2012\n",
      "\n",
      "      January                   February                   March\n",
      "Mo Tu We Th Fr Sa Su      Mo Tu We Th Fr Sa Su      Mo Tu We Th Fr Sa Su\n",
      "                   1             1  2  3  4  5                1  2  3  4\n",
      " 2  3  4  5  6  7  8       6  7  8  9 10 11 12       5  6  7  8  9 10 11\n",
      " 9 10 11 12 13 14 15      13 14 15 16 17 18 19      12 13 14 15 16 17 18\n",
      "16 17 18 19 20 21 22      20 21 22 23 24 25 26      19 20 21 22 23 24 25\n",
      "23 24 25 26 27 28 29      27 28 29                  26 27 28 29 30 31\n",
      "30 31\n",
      "\n",
      "       April                      May                       June\n",
      "Mo Tu We Th Fr Sa Su      Mo Tu We Th Fr Sa Su      Mo Tu We Th Fr Sa Su\n",
      "                   1          1  2  3  4  5  6                   1  2  3\n",
      " 2  3  4  5  6  7  8       7  8  9 10 11 12 13       4  5  6  7  8  9 10\n",
      " 9 10 11 12 13 14 15      14 15 16 17 18 19 20      11 12 13 14 15 16 17\n",
      "16 17 18 19 20 21 22      21 22 23 24 25 26 27      18 19 20 21 22 23 24\n",
      "23 24 25 26 27 28 29      28 29 30 31               25 26 27 28 29 30\n",
      "30\n",
      "\n",
      "        July                     August                  September\n",
      "Mo Tu We Th Fr Sa Su      Mo Tu We Th Fr Sa Su      Mo Tu We Th Fr Sa Su\n",
      "                   1             1  2  3  4  5                      1  2\n",
      " 2  3  4  5  6  7  8       6  7  8  9 10 11 12       3  4  5  6  7  8  9\n",
      " 9 10 11 12 13 14 15      13 14 15 16 17 18 19      10 11 12 13 14 15 16\n",
      "16 17 18 19 20 21 22      20 21 22 23 24 25 26      17 18 19 20 21 22 23\n",
      "23 24 25 26 27 28 29      27 28 29 30 31            24 25 26 27 28 29 30\n",
      "30 31\n",
      "\n",
      "      October                   November                  December\n",
      "Mo Tu We Th Fr Sa Su      Mo Tu We Th Fr Sa Su      Mo Tu We Th Fr Sa Su\n",
      " 1  2  3  4  5  6  7                1  2  3  4                      1  2\n",
      " 8  9 10 11 12 13 14       5  6  7  8  9 10 11       3  4  5  6  7  8  9\n",
      "15 16 17 18 19 20 21      12 13 14 15 16 17 18      10 11 12 13 14 15 16\n",
      "22 23 24 25 26 27 28      19 20 21 22 23 24 25      17 18 19 20 21 22 23\n",
      "29 30 31                  26 27 28 29 30            24 25 26 27 28 29 30\n",
      "                                                    31\n",
      "\n"
     ]
    }
   ],
   "source": [
    "import calendar\n",
    "cal = calendar.TextCalendar()      # Create an instance\n",
    "cal.pryear(2012)                   # What happens here"
   ]
  },
  {
   "cell_type": "markdown",
   "metadata": {},
   "source": [
    "#### 1.2\n",
    "\n",
    "Observe that the week starts on Monday. An adventurous CompSci student believes that it is better mental chunking to have his week start on Thursday, because then there are only two working days to the weekend, and every week has a break in the middle. Read the documentation for TextCalendar, and see how you can help him print a calendar that suits his needs."
   ]
  },
  {
   "cell_type": "code",
   "execution_count": 14,
   "metadata": {},
   "outputs": [
    {
     "name": "stdout",
     "output_type": "stream",
     "text": [
      "                                  2012\n",
      "\n",
      "      January                   February                   March\n",
      "Th Fr Sa Su Mo Tu We      Th Fr Sa Su Mo Tu We      Th Fr Sa Su Mo Tu We\n",
      "          1  2  3  4                         1       1  2  3  4  5  6  7\n",
      " 5  6  7  8  9 10 11       2  3  4  5  6  7  8       8  9 10 11 12 13 14\n",
      "12 13 14 15 16 17 18       9 10 11 12 13 14 15      15 16 17 18 19 20 21\n",
      "19 20 21 22 23 24 25      16 17 18 19 20 21 22      22 23 24 25 26 27 28\n",
      "26 27 28 29 30 31         23 24 25 26 27 28 29      29 30 31\n",
      "\n",
      "       April                      May                       June\n",
      "Th Fr Sa Su Mo Tu We      Th Fr Sa Su Mo Tu We      Th Fr Sa Su Mo Tu We\n",
      "          1  2  3  4                      1  2          1  2  3  4  5  6\n",
      " 5  6  7  8  9 10 11       3  4  5  6  7  8  9       7  8  9 10 11 12 13\n",
      "12 13 14 15 16 17 18      10 11 12 13 14 15 16      14 15 16 17 18 19 20\n",
      "19 20 21 22 23 24 25      17 18 19 20 21 22 23      21 22 23 24 25 26 27\n",
      "26 27 28 29 30            24 25 26 27 28 29 30      28 29 30\n",
      "                          31\n",
      "\n",
      "        July                     August                  September\n",
      "Th Fr Sa Su Mo Tu We      Th Fr Sa Su Mo Tu We      Th Fr Sa Su Mo Tu We\n",
      "          1  2  3  4                         1             1  2  3  4  5\n",
      " 5  6  7  8  9 10 11       2  3  4  5  6  7  8       6  7  8  9 10 11 12\n",
      "12 13 14 15 16 17 18       9 10 11 12 13 14 15      13 14 15 16 17 18 19\n",
      "19 20 21 22 23 24 25      16 17 18 19 20 21 22      20 21 22 23 24 25 26\n",
      "26 27 28 29 30 31         23 24 25 26 27 28 29      27 28 29 30\n",
      "                          30 31\n",
      "\n",
      "      October                   November                  December\n",
      "Th Fr Sa Su Mo Tu We      Th Fr Sa Su Mo Tu We      Th Fr Sa Su Mo Tu We\n",
      "             1  2  3       1  2  3  4  5  6  7             1  2  3  4  5\n",
      " 4  5  6  7  8  9 10       8  9 10 11 12 13 14       6  7  8  9 10 11 12\n",
      "11 12 13 14 15 16 17      15 16 17 18 19 20 21      13 14 15 16 17 18 19\n",
      "18 19 20 21 22 23 24      22 23 24 25 26 27 28      20 21 22 23 24 25 26\n",
      "25 26 27 28 29 30 31      29 30                     27 28 29 30 31\n",
      "\n"
     ]
    }
   ],
   "source": [
    "cal = calendar.TextCalendar(calendar.THURSDAY) \n",
    "cal.pryear(2012)"
   ]
  },
  {
   "cell_type": "markdown",
   "metadata": {},
   "source": [
    "#### 1.3\n",
    "\n",
    "Find a function to print just the month in which your birthday occurs this year."
   ]
  },
  {
   "cell_type": "code",
   "execution_count": 15,
   "metadata": {},
   "outputs": [
    {
     "name": "stdout",
     "output_type": "stream",
     "text": [
      "   February 2020\n",
      "Mo Tu We Th Fr Sa Su\n",
      "                1  2\n",
      " 3  4  5  6  7  8  9\n",
      "10 11 12 13 14 15 16\n",
      "17 18 19 20 21 22 23\n",
      "24 25 26 27 28 29\n"
     ]
    }
   ],
   "source": [
    "calendar.prmonth(theyear=2020, themonth=2)"
   ]
  },
  {
   "cell_type": "markdown",
   "metadata": {},
   "source": [
    "#### 1.4\n",
    "\n",
    "Try this:\n",
    "\n",
    "```\n",
    "d = calendar.LocaleTextCalendar(6, \"SPANISH\")\n",
    "d.pryear(2012)\n",
    "```\n",
    "\n",
    "Try a few other languages, including one that doesn’t work, and see what happens.\n",
    "\n",
    "**Answer:**\n",
    "\n",
    "If the locale doesn't exist an error gets raised."
   ]
  },
  {
   "cell_type": "code",
   "execution_count": 16,
   "metadata": {},
   "outputs": [
    {
     "ename": "Error",
     "evalue": "unsupported locale setting",
     "output_type": "error",
     "traceback": [
      "\u001b[0;31m---------------------------------------------------------------------------\u001b[0m",
      "\u001b[0;31mError\u001b[0m                                     Traceback (most recent call last)",
      "\u001b[0;32m<ipython-input-16-e4f8f8a35265>\u001b[0m in \u001b[0;36m<module>\u001b[0;34m\u001b[0m\n\u001b[1;32m      1\u001b[0m \u001b[0md\u001b[0m \u001b[0;34m=\u001b[0m \u001b[0mcalendar\u001b[0m\u001b[0;34m.\u001b[0m\u001b[0mLocaleTextCalendar\u001b[0m\u001b[0;34m(\u001b[0m\u001b[0;36m6\u001b[0m\u001b[0;34m,\u001b[0m \u001b[0;34m\"SPANISH\"\u001b[0m\u001b[0;34m)\u001b[0m\u001b[0;34m\u001b[0m\u001b[0m\n\u001b[0;32m----> 2\u001b[0;31m \u001b[0md\u001b[0m\u001b[0;34m.\u001b[0m\u001b[0mpryear\u001b[0m\u001b[0;34m(\u001b[0m\u001b[0;36m2012\u001b[0m\u001b[0;34m)\u001b[0m\u001b[0;34m\u001b[0m\u001b[0m\n\u001b[0m",
      "\u001b[0;32m/usr/local/Cellar/python/3.6.4_2/Frameworks/Python.framework/Versions/3.6/lib/python3.6/calendar.py\u001b[0m in \u001b[0;36mpryear\u001b[0;34m(self, theyear, w, l, c, m)\u001b[0m\n\u001b[1;32m    372\u001b[0m     \u001b[0;32mdef\u001b[0m \u001b[0mpryear\u001b[0m\u001b[0;34m(\u001b[0m\u001b[0mself\u001b[0m\u001b[0;34m,\u001b[0m \u001b[0mtheyear\u001b[0m\u001b[0;34m,\u001b[0m \u001b[0mw\u001b[0m\u001b[0;34m=\u001b[0m\u001b[0;36m0\u001b[0m\u001b[0;34m,\u001b[0m \u001b[0ml\u001b[0m\u001b[0;34m=\u001b[0m\u001b[0;36m0\u001b[0m\u001b[0;34m,\u001b[0m \u001b[0mc\u001b[0m\u001b[0;34m=\u001b[0m\u001b[0;36m6\u001b[0m\u001b[0;34m,\u001b[0m \u001b[0mm\u001b[0m\u001b[0;34m=\u001b[0m\u001b[0;36m3\u001b[0m\u001b[0;34m)\u001b[0m\u001b[0;34m:\u001b[0m\u001b[0;34m\u001b[0m\u001b[0m\n\u001b[1;32m    373\u001b[0m         \u001b[0;34m\"\"\"Print a year's calendar.\"\"\"\u001b[0m\u001b[0;34m\u001b[0m\u001b[0m\n\u001b[0;32m--> 374\u001b[0;31m         \u001b[0mprint\u001b[0m\u001b[0;34m(\u001b[0m\u001b[0mself\u001b[0m\u001b[0;34m.\u001b[0m\u001b[0mformatyear\u001b[0m\u001b[0;34m(\u001b[0m\u001b[0mtheyear\u001b[0m\u001b[0;34m,\u001b[0m \u001b[0mw\u001b[0m\u001b[0;34m,\u001b[0m \u001b[0ml\u001b[0m\u001b[0;34m,\u001b[0m \u001b[0mc\u001b[0m\u001b[0;34m,\u001b[0m \u001b[0mm\u001b[0m\u001b[0;34m)\u001b[0m\u001b[0;34m)\u001b[0m\u001b[0;34m\u001b[0m\u001b[0m\n\u001b[0m\u001b[1;32m    375\u001b[0m \u001b[0;34m\u001b[0m\u001b[0m\n\u001b[1;32m    376\u001b[0m \u001b[0;34m\u001b[0m\u001b[0m\n",
      "\u001b[0;32m/usr/local/Cellar/python/3.6.4_2/Frameworks/Python.framework/Versions/3.6/lib/python3.6/calendar.py\u001b[0m in \u001b[0;36mformatyear\u001b[0;34m(self, theyear, w, l, c, m)\u001b[0m\n\u001b[1;32m    345\u001b[0m         \u001b[0ma\u001b[0m\u001b[0;34m(\u001b[0m\u001b[0mrepr\u001b[0m\u001b[0;34m(\u001b[0m\u001b[0mtheyear\u001b[0m\u001b[0;34m)\u001b[0m\u001b[0;34m.\u001b[0m\u001b[0mcenter\u001b[0m\u001b[0;34m(\u001b[0m\u001b[0mcolwidth\u001b[0m\u001b[0;34m*\u001b[0m\u001b[0mm\u001b[0m\u001b[0;34m+\u001b[0m\u001b[0mc\u001b[0m\u001b[0;34m*\u001b[0m\u001b[0;34m(\u001b[0m\u001b[0mm\u001b[0m\u001b[0;34m-\u001b[0m\u001b[0;36m1\u001b[0m\u001b[0;34m)\u001b[0m\u001b[0;34m)\u001b[0m\u001b[0;34m.\u001b[0m\u001b[0mrstrip\u001b[0m\u001b[0;34m(\u001b[0m\u001b[0;34m)\u001b[0m\u001b[0;34m)\u001b[0m\u001b[0;34m\u001b[0m\u001b[0m\n\u001b[1;32m    346\u001b[0m         \u001b[0ma\u001b[0m\u001b[0;34m(\u001b[0m\u001b[0;34m'\\n'\u001b[0m\u001b[0;34m*\u001b[0m\u001b[0ml\u001b[0m\u001b[0;34m)\u001b[0m\u001b[0;34m\u001b[0m\u001b[0m\n\u001b[0;32m--> 347\u001b[0;31m         \u001b[0mheader\u001b[0m \u001b[0;34m=\u001b[0m \u001b[0mself\u001b[0m\u001b[0;34m.\u001b[0m\u001b[0mformatweekheader\u001b[0m\u001b[0;34m(\u001b[0m\u001b[0mw\u001b[0m\u001b[0;34m)\u001b[0m\u001b[0;34m\u001b[0m\u001b[0m\n\u001b[0m\u001b[1;32m    348\u001b[0m         \u001b[0;32mfor\u001b[0m \u001b[0;34m(\u001b[0m\u001b[0mi\u001b[0m\u001b[0;34m,\u001b[0m \u001b[0mrow\u001b[0m\u001b[0;34m)\u001b[0m \u001b[0;32min\u001b[0m \u001b[0menumerate\u001b[0m\u001b[0;34m(\u001b[0m\u001b[0mself\u001b[0m\u001b[0;34m.\u001b[0m\u001b[0myeardays2calendar\u001b[0m\u001b[0;34m(\u001b[0m\u001b[0mtheyear\u001b[0m\u001b[0;34m,\u001b[0m \u001b[0mm\u001b[0m\u001b[0;34m)\u001b[0m\u001b[0;34m)\u001b[0m\u001b[0;34m:\u001b[0m\u001b[0;34m\u001b[0m\u001b[0m\n\u001b[1;32m    349\u001b[0m             \u001b[0;31m# months in this row\u001b[0m\u001b[0;34m\u001b[0m\u001b[0;34m\u001b[0m\u001b[0m\n",
      "\u001b[0;32m/usr/local/Cellar/python/3.6.4_2/Frameworks/Python.framework/Versions/3.6/lib/python3.6/calendar.py\u001b[0m in \u001b[0;36mformatweekheader\u001b[0;34m(self, width)\u001b[0m\n\u001b[1;32m    300\u001b[0m         \u001b[0mReturn\u001b[0m \u001b[0ma\u001b[0m \u001b[0mheader\u001b[0m \u001b[0;32mfor\u001b[0m \u001b[0ma\u001b[0m \u001b[0mweek\u001b[0m\u001b[0;34m.\u001b[0m\u001b[0;34m\u001b[0m\u001b[0m\n\u001b[1;32m    301\u001b[0m         \"\"\"\n\u001b[0;32m--> 302\u001b[0;31m         \u001b[0;32mreturn\u001b[0m \u001b[0;34m' '\u001b[0m\u001b[0;34m.\u001b[0m\u001b[0mjoin\u001b[0m\u001b[0;34m(\u001b[0m\u001b[0mself\u001b[0m\u001b[0;34m.\u001b[0m\u001b[0mformatweekday\u001b[0m\u001b[0;34m(\u001b[0m\u001b[0mi\u001b[0m\u001b[0;34m,\u001b[0m \u001b[0mwidth\u001b[0m\u001b[0;34m)\u001b[0m \u001b[0;32mfor\u001b[0m \u001b[0mi\u001b[0m \u001b[0;32min\u001b[0m \u001b[0mself\u001b[0m\u001b[0;34m.\u001b[0m\u001b[0miterweekdays\u001b[0m\u001b[0;34m(\u001b[0m\u001b[0;34m)\u001b[0m\u001b[0;34m)\u001b[0m\u001b[0;34m\u001b[0m\u001b[0m\n\u001b[0m\u001b[1;32m    303\u001b[0m \u001b[0;34m\u001b[0m\u001b[0m\n\u001b[1;32m    304\u001b[0m     \u001b[0;32mdef\u001b[0m \u001b[0mformatmonthname\u001b[0m\u001b[0;34m(\u001b[0m\u001b[0mself\u001b[0m\u001b[0;34m,\u001b[0m \u001b[0mtheyear\u001b[0m\u001b[0;34m,\u001b[0m \u001b[0mthemonth\u001b[0m\u001b[0;34m,\u001b[0m \u001b[0mwidth\u001b[0m\u001b[0;34m,\u001b[0m \u001b[0mwithyear\u001b[0m\u001b[0;34m=\u001b[0m\u001b[0;32mTrue\u001b[0m\u001b[0;34m)\u001b[0m\u001b[0;34m:\u001b[0m\u001b[0;34m\u001b[0m\u001b[0m\n",
      "\u001b[0;32m/usr/local/Cellar/python/3.6.4_2/Frameworks/Python.framework/Versions/3.6/lib/python3.6/calendar.py\u001b[0m in \u001b[0;36m<genexpr>\u001b[0;34m(.0)\u001b[0m\n\u001b[1;32m    300\u001b[0m         \u001b[0mReturn\u001b[0m \u001b[0ma\u001b[0m \u001b[0mheader\u001b[0m \u001b[0;32mfor\u001b[0m \u001b[0ma\u001b[0m \u001b[0mweek\u001b[0m\u001b[0;34m.\u001b[0m\u001b[0;34m\u001b[0m\u001b[0m\n\u001b[1;32m    301\u001b[0m         \"\"\"\n\u001b[0;32m--> 302\u001b[0;31m         \u001b[0;32mreturn\u001b[0m \u001b[0;34m' '\u001b[0m\u001b[0;34m.\u001b[0m\u001b[0mjoin\u001b[0m\u001b[0;34m(\u001b[0m\u001b[0mself\u001b[0m\u001b[0;34m.\u001b[0m\u001b[0mformatweekday\u001b[0m\u001b[0;34m(\u001b[0m\u001b[0mi\u001b[0m\u001b[0;34m,\u001b[0m \u001b[0mwidth\u001b[0m\u001b[0;34m)\u001b[0m \u001b[0;32mfor\u001b[0m \u001b[0mi\u001b[0m \u001b[0;32min\u001b[0m \u001b[0mself\u001b[0m\u001b[0;34m.\u001b[0m\u001b[0miterweekdays\u001b[0m\u001b[0;34m(\u001b[0m\u001b[0;34m)\u001b[0m\u001b[0;34m)\u001b[0m\u001b[0;34m\u001b[0m\u001b[0m\n\u001b[0m\u001b[1;32m    303\u001b[0m \u001b[0;34m\u001b[0m\u001b[0m\n\u001b[1;32m    304\u001b[0m     \u001b[0;32mdef\u001b[0m \u001b[0mformatmonthname\u001b[0m\u001b[0;34m(\u001b[0m\u001b[0mself\u001b[0m\u001b[0;34m,\u001b[0m \u001b[0mtheyear\u001b[0m\u001b[0;34m,\u001b[0m \u001b[0mthemonth\u001b[0m\u001b[0;34m,\u001b[0m \u001b[0mwidth\u001b[0m\u001b[0;34m,\u001b[0m \u001b[0mwithyear\u001b[0m\u001b[0;34m=\u001b[0m\u001b[0;32mTrue\u001b[0m\u001b[0;34m)\u001b[0m\u001b[0;34m:\u001b[0m\u001b[0;34m\u001b[0m\u001b[0m\n",
      "\u001b[0;32m/usr/local/Cellar/python/3.6.4_2/Frameworks/Python.framework/Versions/3.6/lib/python3.6/calendar.py\u001b[0m in \u001b[0;36mformatweekday\u001b[0;34m(self, day, width)\u001b[0m\n\u001b[1;32m    514\u001b[0m \u001b[0;34m\u001b[0m\u001b[0m\n\u001b[1;32m    515\u001b[0m     \u001b[0;32mdef\u001b[0m \u001b[0mformatweekday\u001b[0m\u001b[0;34m(\u001b[0m\u001b[0mself\u001b[0m\u001b[0;34m,\u001b[0m \u001b[0mday\u001b[0m\u001b[0;34m,\u001b[0m \u001b[0mwidth\u001b[0m\u001b[0;34m)\u001b[0m\u001b[0;34m:\u001b[0m\u001b[0;34m\u001b[0m\u001b[0m\n\u001b[0;32m--> 516\u001b[0;31m         \u001b[0;32mwith\u001b[0m \u001b[0mdifferent_locale\u001b[0m\u001b[0;34m(\u001b[0m\u001b[0mself\u001b[0m\u001b[0;34m.\u001b[0m\u001b[0mlocale\u001b[0m\u001b[0;34m)\u001b[0m\u001b[0;34m:\u001b[0m\u001b[0;34m\u001b[0m\u001b[0m\n\u001b[0m\u001b[1;32m    517\u001b[0m             \u001b[0;32mif\u001b[0m \u001b[0mwidth\u001b[0m \u001b[0;34m>=\u001b[0m \u001b[0;36m9\u001b[0m\u001b[0;34m:\u001b[0m\u001b[0;34m\u001b[0m\u001b[0m\n\u001b[1;32m    518\u001b[0m                 \u001b[0mnames\u001b[0m \u001b[0;34m=\u001b[0m \u001b[0mday_name\u001b[0m\u001b[0;34m\u001b[0m\u001b[0m\n",
      "\u001b[0;32m/usr/local/Cellar/python/3.6.4_2/Frameworks/Python.framework/Versions/3.6/lib/python3.6/calendar.py\u001b[0m in \u001b[0;36m__enter__\u001b[0;34m(self)\u001b[0m\n\u001b[1;32m    493\u001b[0m     \u001b[0;32mdef\u001b[0m \u001b[0m__enter__\u001b[0m\u001b[0;34m(\u001b[0m\u001b[0mself\u001b[0m\u001b[0;34m)\u001b[0m\u001b[0;34m:\u001b[0m\u001b[0;34m\u001b[0m\u001b[0m\n\u001b[1;32m    494\u001b[0m         \u001b[0mself\u001b[0m\u001b[0;34m.\u001b[0m\u001b[0moldlocale\u001b[0m \u001b[0;34m=\u001b[0m \u001b[0m_locale\u001b[0m\u001b[0;34m.\u001b[0m\u001b[0mgetlocale\u001b[0m\u001b[0;34m(\u001b[0m\u001b[0m_locale\u001b[0m\u001b[0;34m.\u001b[0m\u001b[0mLC_TIME\u001b[0m\u001b[0;34m)\u001b[0m\u001b[0;34m\u001b[0m\u001b[0m\n\u001b[0;32m--> 495\u001b[0;31m         \u001b[0m_locale\u001b[0m\u001b[0;34m.\u001b[0m\u001b[0msetlocale\u001b[0m\u001b[0;34m(\u001b[0m\u001b[0m_locale\u001b[0m\u001b[0;34m.\u001b[0m\u001b[0mLC_TIME\u001b[0m\u001b[0;34m,\u001b[0m \u001b[0mself\u001b[0m\u001b[0;34m.\u001b[0m\u001b[0mlocale\u001b[0m\u001b[0;34m)\u001b[0m\u001b[0;34m\u001b[0m\u001b[0m\n\u001b[0m\u001b[1;32m    496\u001b[0m \u001b[0;34m\u001b[0m\u001b[0m\n\u001b[1;32m    497\u001b[0m     \u001b[0;32mdef\u001b[0m \u001b[0m__exit__\u001b[0m\u001b[0;34m(\u001b[0m\u001b[0mself\u001b[0m\u001b[0;34m,\u001b[0m \u001b[0;34m*\u001b[0m\u001b[0margs\u001b[0m\u001b[0;34m)\u001b[0m\u001b[0;34m:\u001b[0m\u001b[0;34m\u001b[0m\u001b[0m\n",
      "\u001b[0;32m/usr/local/Cellar/python/3.6.4_2/Frameworks/Python.framework/Versions/3.6/lib/python3.6/locale.py\u001b[0m in \u001b[0;36msetlocale\u001b[0;34m(category, locale)\u001b[0m\n\u001b[1;32m    596\u001b[0m         \u001b[0;31m# convert to string\u001b[0m\u001b[0;34m\u001b[0m\u001b[0;34m\u001b[0m\u001b[0m\n\u001b[1;32m    597\u001b[0m         \u001b[0mlocale\u001b[0m \u001b[0;34m=\u001b[0m \u001b[0mnormalize\u001b[0m\u001b[0;34m(\u001b[0m\u001b[0m_build_localename\u001b[0m\u001b[0;34m(\u001b[0m\u001b[0mlocale\u001b[0m\u001b[0;34m)\u001b[0m\u001b[0;34m)\u001b[0m\u001b[0;34m\u001b[0m\u001b[0m\n\u001b[0;32m--> 598\u001b[0;31m     \u001b[0;32mreturn\u001b[0m \u001b[0m_setlocale\u001b[0m\u001b[0;34m(\u001b[0m\u001b[0mcategory\u001b[0m\u001b[0;34m,\u001b[0m \u001b[0mlocale\u001b[0m\u001b[0;34m)\u001b[0m\u001b[0;34m\u001b[0m\u001b[0m\n\u001b[0m\u001b[1;32m    599\u001b[0m \u001b[0;34m\u001b[0m\u001b[0m\n\u001b[1;32m    600\u001b[0m \u001b[0;32mdef\u001b[0m \u001b[0mresetlocale\u001b[0m\u001b[0;34m(\u001b[0m\u001b[0mcategory\u001b[0m\u001b[0;34m=\u001b[0m\u001b[0mLC_ALL\u001b[0m\u001b[0;34m)\u001b[0m\u001b[0;34m:\u001b[0m\u001b[0;34m\u001b[0m\u001b[0m\n",
      "\u001b[0;31mError\u001b[0m: unsupported locale setting"
     ]
    }
   ],
   "source": [
    "d = calendar.LocaleTextCalendar(6, \"SPANISH\")\n",
    "d.pryear(2012)"
   ]
  },
  {
   "cell_type": "code",
   "execution_count": 17,
   "metadata": {},
   "outputs": [
    {
     "name": "stdout",
     "output_type": "stream",
     "text": [
      "                                  2012\n",
      "\n",
      "      janvier                   février                     mars\n",
      "Di Lu Ma Me Je Ve Sa      Di Lu Ma Me Je Ve Sa      Di Lu Ma Me Je Ve Sa\n",
      " 1  2  3  4  5  6  7                1  2  3  4                   1  2  3\n",
      " 8  9 10 11 12 13 14       5  6  7  8  9 10 11       4  5  6  7  8  9 10\n",
      "15 16 17 18 19 20 21      12 13 14 15 16 17 18      11 12 13 14 15 16 17\n",
      "22 23 24 25 26 27 28      19 20 21 22 23 24 25      18 19 20 21 22 23 24\n",
      "29 30 31                  26 27 28 29               25 26 27 28 29 30 31\n",
      "\n",
      "       avril                      mai                       juin\n",
      "Di Lu Ma Me Je Ve Sa      Di Lu Ma Me Je Ve Sa      Di Lu Ma Me Je Ve Sa\n",
      " 1  2  3  4  5  6  7             1  2  3  4  5                      1  2\n",
      " 8  9 10 11 12 13 14       6  7  8  9 10 11 12       3  4  5  6  7  8  9\n",
      "15 16 17 18 19 20 21      13 14 15 16 17 18 19      10 11 12 13 14 15 16\n",
      "22 23 24 25 26 27 28      20 21 22 23 24 25 26      17 18 19 20 21 22 23\n",
      "29 30                     27 28 29 30 31            24 25 26 27 28 29 30\n",
      "\n",
      "      juillet                     août                   septembre\n",
      "Di Lu Ma Me Je Ve Sa      Di Lu Ma Me Je Ve Sa      Di Lu Ma Me Je Ve Sa\n",
      " 1  2  3  4  5  6  7                1  2  3  4                         1\n",
      " 8  9 10 11 12 13 14       5  6  7  8  9 10 11       2  3  4  5  6  7  8\n",
      "15 16 17 18 19 20 21      12 13 14 15 16 17 18       9 10 11 12 13 14 15\n",
      "22 23 24 25 26 27 28      19 20 21 22 23 24 25      16 17 18 19 20 21 22\n",
      "29 30 31                  26 27 28 29 30 31         23 24 25 26 27 28 29\n",
      "                                                    30\n",
      "\n",
      "      octobre                   novembre                  décembre\n",
      "Di Lu Ma Me Je Ve Sa      Di Lu Ma Me Je Ve Sa      Di Lu Ma Me Je Ve Sa\n",
      "    1  2  3  4  5  6                   1  2  3                         1\n",
      " 7  8  9 10 11 12 13       4  5  6  7  8  9 10       2  3  4  5  6  7  8\n",
      "14 15 16 17 18 19 20      11 12 13 14 15 16 17       9 10 11 12 13 14 15\n",
      "21 22 23 24 25 26 27      18 19 20 21 22 23 24      16 17 18 19 20 21 22\n",
      "28 29 30 31               25 26 27 28 29 30         23 24 25 26 27 28 29\n",
      "                                                    30 31\n",
      "\n"
     ]
    }
   ],
   "source": [
    "d = calendar.LocaleTextCalendar(6, \"fr_FR\")\n",
    "d.pryear(2012)"
   ]
  },
  {
   "cell_type": "markdown",
   "metadata": {},
   "source": [
    "#### 1.5\n",
    "\n",
    "Experiment with `calendar.isleap()`. What does it expect as an argument? What does it return as a result? What kind of a function is this?\n",
    "\n",
    "**Answer:**\n",
    "\n",
    "`calendar.isleap(year)` is a boolean function that returns whether `year` is a lea year or not."
   ]
  },
  {
   "cell_type": "code",
   "execution_count": 18,
   "metadata": {},
   "outputs": [
    {
     "name": "stdout",
     "output_type": "stream",
     "text": [
      "Was 2012 a leap year? True.\n",
      "Was 2013 a leap year? False.\n"
     ]
    }
   ],
   "source": [
    "print(f'Was 2012 a leap year? {calendar.isleap(2012)}.')\n",
    "print(f'Was 2013 a leap year? {calendar.isleap(2013)}.')"
   ]
  },
  {
   "cell_type": "markdown",
   "metadata": {},
   "source": [
    "### 2\n",
    "\n",
    "#### 2.1\n",
    "\n",
    "How many functions are in the `math` module?\n",
    "\n",
    "**Answer:**\n",
    "\n",
    "There are 50 functions in the `math`module.\n",
    "\n",
    "#### 2.2\n",
    "\n",
    "What does `math.ceil` do? What about `math.floor`?\n",
    "\n",
    "**Answer:**\n",
    "\n",
    "* `math.ceil(number)` computes the ceiling (smallest larger integer) of `number`.\n",
    "* `math.floor(number)` computes the ceiling (largest smaller integer) of `number`.\n",
    "\n",
    "#### 2.3\n",
    "\n",
    "Describe how we have been computing the same value as `math.sqrt` without using the `math` module.\n",
    "\n",
    "**Answer:**\n",
    "\n",
    "We have been using math's `sqrt` implementation, just in a roundabout way.\n",
    "\n",
    "#### 2.4\n",
    "\n",
    "What are the two data constants in the `math` module?\n",
    "\n",
    "**Answer:**\n",
    "\n",
    "The constants are $pi$, $e$, $\\tau$, NaN, $\\infty$\n",
    "\n",
    "### 3\n",
    "\n",
    "Investigate the `copy` module. What does `deepcopy` do? In which exercises from last chapter would `deepcopy` have come in handy?\n",
    "\n",
    "**Answer:**\n",
    "\n",
    "`copy` makes copies of object; `deepcopy` creates a completely new object. It is an alternative for cloning lists.\n",
    "\n",
    "### 4 & 5\n",
    "\n",
    "Create a module named `mymodule1.py`. Add attributes `myage` set to your current age, and `year` set to the current year. Create another module named `mymodule2.py`. Add attributes `myage` set to 0, and `year` set to the year you were born. \n",
    "\n",
    "Add the following statement to `mymodule1.py`, `mymodule2.py`:\n",
    "\n",
    "```\n",
    "print(\"My name is\", __name__)\n",
    "```\n",
    "\n",
    "Also the following to the bottom of `mymodule1.py`\n",
    "\n",
    "```\n",
    "if __name__ == \"__main__\":\n",
    "    print(\"This won't run if I'm  imported.\")\n",
    "```\n",
    "\n",
    "Import both of the modules above and write the following statement:\n",
    "\n",
    "```\n",
    "print((mymodule2.myage - mymodule1.myage) == (mymodule2.year - mymodule1.year))\n",
    "```"
   ]
  },
  {
   "cell_type": "code",
   "execution_count": 19,
   "metadata": {},
   "outputs": [
    {
     "name": "stdout",
     "output_type": "stream",
     "text": [
      "My name is mymodule1\n",
      "My name is mymodule2\n",
      "True\n",
      "My name is __main__\n"
     ]
    }
   ],
   "source": [
    "import mymodule1\n",
    "import mymodule2\n",
    "\n",
    "print((mymodule2.myage - mymodule1.myage) == (mymodule2.year - mymodule1.year))\n",
    "\n",
    "print(\"My name is\", __name__)"
   ]
  },
  {
   "cell_type": "markdown",
   "metadata": {},
   "source": [
    "### 6\n",
    "\n",
    "In a Python shell / interactive interpreter, try the following:\n",
    "\n",
    "```\n",
    "import this\n",
    "```\n",
    "\n",
    "What does Tim Peters have to say about namespaces?\n",
    "\n",
    "**Answer:**\n",
    "\n",
    "> Namespaces are a honking great idea -- let's do more of those!"
   ]
  },
  {
   "cell_type": "code",
   "execution_count": 20,
   "metadata": {},
   "outputs": [
    {
     "name": "stdout",
     "output_type": "stream",
     "text": [
      "The Zen of Python, by Tim Peters\n",
      "\n",
      "Beautiful is better than ugly.\n",
      "Explicit is better than implicit.\n",
      "Simple is better than complex.\n",
      "Complex is better than complicated.\n",
      "Flat is better than nested.\n",
      "Sparse is better than dense.\n",
      "Readability counts.\n",
      "Special cases aren't special enough to break the rules.\n",
      "Although practicality beats purity.\n",
      "Errors should never pass silently.\n",
      "Unless explicitly silenced.\n",
      "In the face of ambiguity, refuse the temptation to guess.\n",
      "There should be one-- and preferably only one --obvious way to do it.\n",
      "Although that way may not be obvious at first unless you're Dutch.\n",
      "Now is better than never.\n",
      "Although never is often better than *right* now.\n",
      "If the implementation is hard to explain, it's a bad idea.\n",
      "If the implementation is easy to explain, it may be a good idea.\n",
      "Namespaces are one honking great idea -- let's do more of those!\n"
     ]
    }
   ],
   "source": [
    "import this"
   ]
  },
  {
   "cell_type": "markdown",
   "metadata": {},
   "source": [
    "Give the Python interpreter’s response to each of the following from a continuous interpreter session:\n",
    "\n",
    "```\n",
    "s = \"If we took the bones out, it wouldn't be crunchy, would it?\"\n",
    "s.split()\n",
    "type(s.split())\n",
    "s.split(\"o\")\n",
    "s.split(\"i\")\n",
    "\"0\".join(s.split(\"o\"))\n",
    "```\n",
    "\n",
    "Use what you learned to write a function, `myreplace(old, new, s)` that passes the tests.\n",
    "\n",
    "```\n",
    "test(myreplace(\",\", \";\", \"this, that, and some other thing\") == \"this; that; and some other thing\")\n",
    "\n",
    "test(myreplace(\" \", \"**\",\"Words will now      be  separated by stars.\") == \"Words**will**now**be**separated**by**stars.\")\n",
    "```"
   ]
  },
  {
   "cell_type": "code",
   "execution_count": 21,
   "metadata": {},
   "outputs": [
    {
     "name": "stdout",
     "output_type": "stream",
     "text": [
      "If we took the bones out, it wouldn't be crunchy, would it?\n",
      "['If', 'we', 'took', 'the', 'bones', 'out,', 'it', \"wouldn't\", 'be', 'crunchy,', 'would', 'it?']\n",
      "<class 'list'>\n",
      "['If we t', '', 'k the b', 'nes ', 'ut, it w', \"uldn't be crunchy, w\", 'uld it?']\n",
      "['If we took the bones out, ', \"t wouldn't be crunchy, would \", 't?']\n",
      "If we t00k the b0nes 0ut, it w0uldn't be crunchy, w0uld it?\n"
     ]
    }
   ],
   "source": [
    "s = \"If we took the bones out, it wouldn't be crunchy, would it?\"\n",
    "print(s)\n",
    "print(s.split())\n",
    "print(type(s.split()))\n",
    "print(s.split(\"o\"))\n",
    "print(s.split(\"i\"))\n",
    "print(\"0\".join(s.split(\"o\")))"
   ]
  },
  {
   "cell_type": "code",
   "execution_count": 22,
   "metadata": {},
   "outputs": [],
   "source": [
    "def myreplace(old, new, s):\n",
    "    \"\"\"\n",
    "    Replace all instances of old with new in a string s.\n",
    "    \"\"\"\n",
    "    auxiliary = s.split(old)\n",
    "    split_len = auxiliary.count('')\n",
    "    for it in range(split_len):\n",
    "        auxiliary.remove('')\n",
    "    return new.join(auxiliary)\n",
    "\n",
    "assert myreplace(\",\", \";\", \"this, that, and some other thing\") == \"this; that; and some other thing\"\n",
    "assert myreplace(\" \", \"**\",\"Words will now      be  separated by stars.\") == \"Words**will**now**be**separated**by**stars.\""
   ]
  },
  {
   "cell_type": "markdown",
   "metadata": {},
   "source": [
    "### 8\n",
    "\n",
    "Create a module named `wordtools.py` and add functions that pass these tests."
   ]
  },
  {
   "cell_type": "code",
   "execution_count": 23,
   "metadata": {},
   "outputs": [
    {
     "name": "stdout",
     "output_type": "stream",
     "text": [
      "Testing cleanword\n",
      "Test at line 8 ok.\n",
      "Test at line 9 ok.\n",
      "Test at line 10 ok.\n",
      "\n",
      "Testing has_dashdash\n",
      "Test at line 14 ok.\n",
      "Test at line 15 ok.\n",
      "Test at line 16 ok.\n",
      "Test at line 17 ok.\n",
      "Test at line 18 ok.\n",
      "\n",
      "Testing extract_words\n",
      "Test at line 23 ok.\n",
      "Test at line 25 ok.\n",
      "\n",
      "Testing wordcount\n",
      "Test at line 29 ok.\n",
      "Test at line 30 ok.\n",
      "Test at line 31 ok.\n",
      "Test at line 32 ok.\n",
      "\n",
      "Testing wordset\n",
      "Test at line 37 ok.\n",
      "Test at line 39 ok.\n",
      "Test at line 41 ok.\n",
      "\n",
      "Testing longestword\n",
      "Test at line 45 ok.\n",
      "Test at line 46 ok.\n",
      "Test at line 47 ok.\n",
      "Test at line 48 ok.\n"
     ]
    }
   ],
   "source": [
    "from function_testing import test\n",
    "from wordtools import (\n",
    "    cleanword, has_dashdash, extract_words,\n",
    "    wordcount, wordset, longestword\n",
    ")\n",
    "\n",
    "print('Testing cleanword')\n",
    "test(cleanword(\"what?\") == \"what\")\n",
    "test(cleanword(\"'now!'\") == \"now\")\n",
    "test(cleanword(\"?+='w-o-r-d!,@$()'\") ==  \"word\")\n",
    "\n",
    "print('')\n",
    "print('Testing has_dashdash')\n",
    "test(has_dashdash(\"distance--but\"))\n",
    "test(not has_dashdash(\"several\"))\n",
    "test(has_dashdash(\"spoke--\"))\n",
    "test(has_dashdash(\"distance--but\"))\n",
    "test(not has_dashdash(\"-yo-yo-\"))\n",
    "\n",
    "print('')\n",
    "print('Testing extract_words')\n",
    "test(extract_words(\"Now is the time!  'Now', is the time? Yes, now.\") ==\n",
    "      ['now','is','the','time','now','is','the','time','yes','now'])\n",
    "test(extract_words(\"she tried to curtsey as she spoke--fancy\") ==\n",
    "      ['she','tried','to','curtsey','as','she','spoke','fancy'])\n",
    "\n",
    "print('')\n",
    "print('Testing wordcount')\n",
    "test(wordcount(\"now\", [\"now\",\"is\",\"time\",\"is\",\"now\",\"is\",\"is\"]) == 2)\n",
    "test(wordcount(\"is\", [\"now\",\"is\",\"time\",\"is\",\"now\",\"the\",\"is\"]) == 3)\n",
    "test(wordcount(\"time\", [\"now\",\"is\",\"time\",\"is\",\"now\",\"is\",\"is\"]) == 1)\n",
    "test(wordcount(\"frog\", [\"now\",\"is\",\"time\",\"is\",\"now\",\"is\",\"is\"]) == 0)\n",
    "\n",
    "print('')\n",
    "print('Testing wordset')\n",
    "test(wordset([\"now\", \"is\", \"time\", \"is\", \"now\", \"is\", \"is\"]) ==\n",
    "      [\"is\", \"now\", \"time\"])\n",
    "test(wordset([\"I\", \"a\", \"a\", \"is\", \"a\", \"is\", \"I\", \"am\"]) ==\n",
    "      [\"I\", \"a\", \"am\", \"is\"])\n",
    "test(wordset([\"or\", \"a\", \"am\", \"is\", \"are\", \"be\", \"but\", \"am\"]) ==\n",
    "      [\"a\", \"am\", \"are\", \"be\", \"but\", \"is\", \"or\"])\n",
    "\n",
    "print('')\n",
    "print('Testing longestword')\n",
    "test(longestword([\"a\", \"apple\", \"pear\", \"grape\"]) == 5)\n",
    "test(longestword([\"a\", \"am\", \"I\", \"be\"]) == 2)\n",
    "test(longestword([\"this\",\"supercalifragilisticexpialidocious\"]) == 34)\n",
    "test(longestword([ ]) == 0)"
   ]
  }
 ],
 "metadata": {
  "kernelspec": {
   "display_name": "Python 3",
   "language": "python",
   "name": "python3"
  },
  "language_info": {
   "codemirror_mode": {
    "name": "ipython",
    "version": 3
   },
   "file_extension": ".py",
   "mimetype": "text/x-python",
   "name": "python",
   "nbconvert_exporter": "python",
   "pygments_lexer": "ipython3",
   "version": "3.6.4"
  }
 },
 "nbformat": 4,
 "nbformat_minor": 4
}
