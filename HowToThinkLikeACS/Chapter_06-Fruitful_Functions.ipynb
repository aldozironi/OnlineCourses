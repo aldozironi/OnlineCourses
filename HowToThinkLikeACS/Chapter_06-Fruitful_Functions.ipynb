{
 "cells": [
  {
   "cell_type": "markdown",
   "metadata": {},
   "source": [
    "# Chapter 6: Fruitful Functions\n",
    "\n",
    "Remember that **fruitful functions** are functions that return a value. To accomplish this, they use the `return` statement along with the **return value**. Note that:\n",
    "\n",
    "* Any variable created within the function (local) gets deleted after the function stops running, which is why they're also called **temporary variables**.\n",
    "* Return values can be statements themselves; the statement gets evaluated before being returned.\n",
    "\n",
    "This two points mean that although the following functions generate the same output, `area_single` is more efficient, whereas `area_temporal` can be easier to debug."
   ]
  },
  {
   "cell_type": "code",
   "execution_count": 1,
   "metadata": {},
   "outputs": [],
   "source": [
    "def area(radius):\n",
    "    return 3.14159 * radius * radius\n",
    "\n",
    "def area(radius):\n",
    "    b = 3.14159 * radius**2\n",
    "    return b"
   ]
  },
  {
   "cell_type": "markdown",
   "metadata": {},
   "source": [
    "Other important notes about functions:\n",
    "\n",
    "1. Since they stop executing as soon as they hit a return, you might end up with **unreachable code**.\n",
    "2. If you're using multiple return statements, you need to make sure all possible paths have a return statement. if they don't, there will be paths that return `None`.\n",
    "3. The return statement can be in any part of the code of the function, including inside loops.\n",
    "\n",
    "\n",
    "## Program Development\n",
    "\n",
    "**Incremental development** is a technique designed to avoid long debugging sessions by adding and testing only a small ammount of code at a time.\n",
    "\n",
    "This technique works as follows:\n",
    "\n",
    "1. Start with a working skeleton program and make small incremental changes. Then, at any point, if there's an error, you'll know where it is.\n",
    "2. Use temporary variables to refer to intermediate values so that you can inspect and check them.\n",
    "3. Play around with your function. What can you improve?\n",
    "\n",
    "For example, let's use this technique to write a function that computes the euclidean distance between two $\\mathbb{R}^2$ points.\n",
    "\n",
    "### Base version\n",
    "\n",
    "Our base version will b something that's sintactically correct and that takes in the parametrs we need:"
   ]
  },
  {
   "cell_type": "code",
   "execution_count": 2,
   "metadata": {},
   "outputs": [
    {
     "name": "stdout",
     "output_type": "stream",
     "text": [
      "The distance computed between points (1, 2) and (4, 6) is 0.\n"
     ]
    }
   ],
   "source": [
    "def distance(x1, y1, x2, y2):\n",
    "    return 0\n",
    "\n",
    "x_1 = 1\n",
    "y_1 = 2\n",
    "x_2 = 4\n",
    "y_2 = 6\n",
    "print(\n",
    "    f'The distance computed between points ({x_1}, {y_1}) '\n",
    "    f'and ({x_2}, {y_2}) is {distance(x_1, y_1, x_2, y_2)}.'\n",
    ")"
   ]
  },
  {
   "cell_type": "markdown",
   "metadata": {},
   "source": [
    "### First Step: Compute Differences in Coordinates\n",
    "\n",
    "Now, we add the functionality to compute differences between coordinates."
   ]
  },
  {
   "cell_type": "code",
   "execution_count": 3,
   "metadata": {},
   "outputs": [
    {
     "name": "stdout",
     "output_type": "stream",
     "text": [
      "The difference in x is 3.\n",
      "The difference in y is 4.\n",
      "The distance computed between points (1, 2) and (4, 6) is 0.\n"
     ]
    }
   ],
   "source": [
    "def distance(x1, y1, x2, y2):\n",
    "    dx = x2 - x1\n",
    "    dy = y2 - y1\n",
    "    print(f'The difference in x is {dx}.')\n",
    "    print(f'The difference in y is {dy}.')\n",
    "    return 0\n",
    "\n",
    "x_1 = 1\n",
    "y_1 = 2\n",
    "x_2 = 4\n",
    "y_2 = 6\n",
    "print(\n",
    "    f'The distance computed between points ({x_1}, {y_1}) '\n",
    "    f'and ({x_2}, {y_2}) is {distance(x_1, y_1, x_2, y_2)}.'\n",
    ")"
   ]
  },
  {
   "cell_type": "markdown",
   "metadata": {},
   "source": [
    "### Second Step: Compute Square of Distance\n",
    "\n",
    "Now that we've seen that the differences are being computed correctly, we will add square the results and add them up."
   ]
  },
  {
   "cell_type": "code",
   "execution_count": 4,
   "metadata": {},
   "outputs": [
    {
     "name": "stdout",
     "output_type": "stream",
     "text": [
      "The squared distance is 25.\n",
      "The distance computed between points (1, 2) and (4, 6) is 0.\n"
     ]
    }
   ],
   "source": [
    "def distance(x1, y1, x2, y2):\n",
    "    dx = x2 - x1\n",
    "    dy = y2 - y1\n",
    "    d_squared = (dx**2) + (dy**2)\n",
    "    print(f'The squared distance is {d_squared}.')\n",
    "    return 0\n",
    "\n",
    "x_1 = 1\n",
    "y_1 = 2\n",
    "x_2 = 4\n",
    "y_2 = 6\n",
    "print(\n",
    "    f'The distance computed between points ({x_1}, {y_1}) '\n",
    "    f'and ({x_2}, {y_2}) is {distance(x_1, y_1, x_2, y_2)}.'\n",
    ")"
   ]
  },
  {
   "cell_type": "markdown",
   "metadata": {},
   "source": [
    "### Third Step: Compute distance and return it\n",
    "\n",
    "Now we've got to a point where we can compute the distance by finding the squared root of the `d_squared` temporal variable."
   ]
  },
  {
   "cell_type": "code",
   "execution_count": 5,
   "metadata": {},
   "outputs": [
    {
     "name": "stdout",
     "output_type": "stream",
     "text": [
      "The distance computed between points (1, 2) and (4, 6) is 5.0.\n"
     ]
    }
   ],
   "source": [
    "from math import sqrt\n",
    "\n",
    "def distance(x1, y1, x2, y2):\n",
    "    dx = x2 - x1\n",
    "    dy = y2 - y1\n",
    "    d_squared = (dx**2) + (dy**2)\n",
    "    return sqrt(d_squared)\n",
    "\n",
    "x_1 = 1\n",
    "y_1 = 2\n",
    "x_2 = 4\n",
    "y_2 = 6\n",
    "print(\n",
    "    f'The distance computed between points ({x_1}, {y_1}) '\n",
    "    f'and ({x_2}, {y_2}) is {distance(x_1, y_1, x_2, y_2)}.'\n",
    ")"
   ]
  },
  {
   "cell_type": "markdown",
   "metadata": {},
   "source": [
    "### Final Step: Additional Improvements\n",
    "\n",
    "Now that the function works, how can we improve it? All the following function do the same thing and are correct. Choosing which is better depends on the use case and what you prefer. The only requisite is that it can be understood by another human."
   ]
  },
  {
   "cell_type": "code",
   "execution_count": 6,
   "metadata": {},
   "outputs": [
    {
     "name": "stdout",
     "output_type": "stream",
     "text": [
      "Version 1.\n",
      "The distance computed between points (1, 2) and (4, 6) is 5.0.\n",
      "\n",
      "Version 2.\n",
      "The distance computed between points (1, 2) and (4, 6) is 5.0.\n"
     ]
    }
   ],
   "source": [
    "# Points to test.\n",
    "x_1 = 1\n",
    "y_1 = 2\n",
    "x_2 = 4\n",
    "y_2 = 6\n",
    "\n",
    "# Version 1 of the function.\n",
    "def distance(x1, y1, x2, y2):\n",
    "    \"\"\"\n",
    "    Compute the Euclidean distance between two 2-dimensional points\n",
    "    \"\"\"\n",
    "    # Compute differences between coordinates\n",
    "    dx = x2 - x1\n",
    "    dy = y2 - y1\n",
    "    # Compute square of distance\n",
    "    d_squared = (dx**2) + (dy**2)\n",
    "    return sqrt(d_squared)\n",
    "\n",
    "print('Version 1.')\n",
    "print(\n",
    "    f'The distance computed between points ({x_1}, {y_1}) '\n",
    "    f'and ({x_2}, {y_2}) is {distance(x_1, y_1, x_2, y_2)}.'\n",
    ")\n",
    "\n",
    "# Version 2 - single statement.\n",
    "def distance(x1, y1, x2, y2):\n",
    "    \"\"\"\n",
    "    Compute the Euclidean distance between two 2-dimensional points\n",
    "    \"\"\"\n",
    "    return sqrt((x2-x1)**2 + (y2-y1)**2)\n",
    "\n",
    "print('\\nVersion 2.')\n",
    "print(\n",
    "    f'The distance computed between points ({x_1}, {y_1}) '\n",
    "    f'and ({x_2}, {y_2}) is {distance(x_1, y_1, x_2, y_2)}.'\n",
    ")"
   ]
  },
  {
   "cell_type": "markdown",
   "metadata": {},
   "source": [
    "## Degugging Methods\n",
    "\n",
    "In the course of building the `distance` function we used the print function to glean into what the program was doing at certain points in time. This is one way of debugging the function (sometimes the only available one).\n",
    "\n",
    "A different method is to set breakpoints. Some IDEs will allow you to execute a function to a certain point and inspect the values each variable takes. Alternatively, you can use the `set_trace` method in the `pudb` library, or cause the function to break and use Python's built-in debugger.\n",
    "\n",
    "When debugging keep in mind the following advice:\n",
    "\n",
    "1. You must have a clear solution to the problem and know what should happen _before_ you start debugging.\n",
    "2. Avoid writing **chatterbox functions**, this is, a fruitful function that adds for more user input or prints unnecesary outputs.\n",
    "\n",
    "\n",
    "## Composition\n",
    "\n",
    "**Composition of functions** is calling a function within another. For example, if we wanted to build a function that computed the area of a circle given it's center and a point in  the circle, we could use the previous functions as follows:"
   ]
  },
  {
   "cell_type": "code",
   "execution_count": 7,
   "metadata": {},
   "outputs": [
    {
     "name": "stdout",
     "output_type": "stream",
     "text": [
      "The area of a circle with center (0, 0) and (1, 0) is 3.14159.\n"
     ]
    }
   ],
   "source": [
    "def area2(xc, yc, xp, yp):\n",
    "    return area(distance(xc, yc, xp, yp))\n",
    "\n",
    "x_c = 0\n",
    "y_c = 0\n",
    "x_p = 1\n",
    "y_p = 0\n",
    "\n",
    "print(\n",
    "    f'The area of a circle with center ({x_c}, {y_c}) '\n",
    "    f'and ({x_p}, {y_p}) is {area2(x_c, y_c, x_p, y_p)}.'\n",
    ")"
   ]
  },
  {
   "cell_type": "markdown",
   "metadata": {},
   "source": [
    "## Boolean Functions\n",
    "\n",
    "**Boolean functions** are functions that return Boolean values. They're commonly named using `is_<name>` to make it clear that they return `True` or  `False`, depending on the answer to a question.\n",
    "\n",
    "## PEP-8\n",
    "\n",
    "[PEP-8](https://www.python.org/dev/peps/pep-0008/) contains a style guide for writing Python code. Here are some highlights we'll use during the course of this book:\n",
    "\n",
    "* Use 4 spaces instead of tab to indent code.\n",
    "* Limit line length to 78 characters.\n",
    "* Use _lowercase_with_underscores_ to name variables and functions.\n",
    "* Use docstrings to document functions.\n",
    "* Use two blank lines to separate function definitions from each other.\n",
    "\n",
    "The style guide is a suggestion, and it's rules can be broken, but as a general rule, you'll be better off following them.\n",
    "\n",
    "## Unit Testing\n",
    "\n",
    "**Unit tests** are automatized verifications that individual pieces of code, such as functions, are working properly. They:\n",
    "\n",
    "1. Allow you to change the implementation of a function and make sure it still does what you need it to do.\n",
    "2. Force you to think about the different cases that the function needs to handle.\n",
    "3. Clarify especifications.\n",
    "\n",
    "A collection of tests for some code is called its **test suite**.\n",
    "\n",
    "The following procedure will help you write test suites for any code:\n",
    "\n",
    "1. Plan your tests: Think about the normal and edge cases your function may be used in.\n",
    "2. Write tests: Now that you have an idea of what cases your function should hadle, start writing tests. Remember, you must know the result beforehand.\n",
    "3. Iterate. Is there something you missed? Are there any further edge cases you hadn't initially considered?\n",
    "\n",
    "Here's an example using two different implementations of the absolute value:"
   ]
  },
  {
   "cell_type": "code",
   "execution_count": 8,
   "metadata": {},
   "outputs": [
    {
     "name": "stdout",
     "output_type": "stream",
     "text": [
      "Test results for correct implementation:\n",
      "Test at line 40 ok.\n",
      "Test at line 41 ok.\n",
      "Test at line 42 ok.\n",
      "Test at line 43 ok.\n",
      "Test at line 44 ok.\n",
      "\n",
      "Test results for buggy implementation:\n",
      "Test at line 40 ok.\n",
      "Test at line 41 FAILED.\n",
      "Test at line 42 FAILED.\n",
      "Test at line 43 ok.\n",
      "Test at line 44 FAILED.\n"
     ]
    }
   ],
   "source": [
    "import sys\n",
    "\n",
    "def test(did_pass):\n",
    "    \"\"\" \n",
    "    Print the result of a test.\n",
    "    \"\"\"\n",
    "    linenum = sys._getframe(1).f_lineno   # Get the caller's line number.\n",
    "    if did_pass:\n",
    "        msg = f\"Test at line {linenum} ok.\"\n",
    "    else:\n",
    "        msg = f\"Test at line {linenum} FAILED.\"\n",
    "    print(msg)\n",
    "\n",
    "    \n",
    "# Buggy version\n",
    "def absolute_value_bug(n):\n",
    "    \"\"\"\n",
    "    Compute the absolute value of n\n",
    "    \"\"\"\n",
    "    if n < 0:\n",
    "        return 1\n",
    "    elif n > 0:\n",
    "        return n\n",
    "\n",
    "    \n",
    "# Correct version\n",
    "def absolute_value_correct(x):\n",
    "    \"\"\"\n",
    "    Compute the absolute value of n\n",
    "    \"\"\"\n",
    "    if x < 0:\n",
    "        return -x\n",
    "    return x\n",
    "\n",
    "\n",
    "def test_suite(abs_fn):\n",
    "    \"\"\"\n",
    "    Run the suite of tests for code for a function.\n",
    "    \"\"\"\n",
    "    test(abs_fn(17) == 17)\n",
    "    test(abs_fn(-17) == 17)\n",
    "    test(abs_fn(0) == 0)\n",
    "    test(abs_fn(3.14) == 3.14)\n",
    "    test(abs_fn(-3.14) == 3.14)\n",
    "\n",
    "\n",
    "# Run test for correct implementation\n",
    "print('Test results for correct implementation:')\n",
    "test_suite(absolute_value_correct)\n",
    "\n",
    "# Run test for buggy implementation\n",
    "print('')\n",
    "print('Test results for buggy implementation:')\n",
    "test_suite(absolute_value_bug)"
   ]
  },
  {
   "cell_type": "markdown",
   "metadata": {},
   "source": [
    "Pyhon has a built-in statement called `assert` that does something similar to our `test` function, except that it causes an error if the test failed:"
   ]
  },
  {
   "cell_type": "code",
   "execution_count": 9,
   "metadata": {},
   "outputs": [
    {
     "name": "stdout",
     "output_type": "stream",
     "text": [
      "Test results for correct implementation:\n",
      "All test passed\n",
      "\n",
      "Test results for buggy implementation:\n"
     ]
    },
    {
     "ename": "AssertionError",
     "evalue": "",
     "output_type": "error",
     "traceback": [
      "\u001b[0;31m---------------------------------------------------------------------------\u001b[0m",
      "\u001b[0;31mAssertionError\u001b[0m                            Traceback (most recent call last)",
      "\u001b[0;32m<ipython-input-9-4e0fa5580f55>\u001b[0m in \u001b[0;36m<module>\u001b[0;34m\u001b[0m\n\u001b[1;32m     18\u001b[0m \u001b[0mprint\u001b[0m\u001b[0;34m(\u001b[0m\u001b[0;34m''\u001b[0m\u001b[0;34m)\u001b[0m\u001b[0;34m\u001b[0m\u001b[0m\n\u001b[1;32m     19\u001b[0m \u001b[0mprint\u001b[0m\u001b[0;34m(\u001b[0m\u001b[0;34m'Test results for buggy implementation:'\u001b[0m\u001b[0;34m)\u001b[0m\u001b[0;34m\u001b[0m\u001b[0m\n\u001b[0;32m---> 20\u001b[0;31m \u001b[0mtest_suite_assert\u001b[0m\u001b[0;34m(\u001b[0m\u001b[0mabsolute_value_bug\u001b[0m\u001b[0;34m)\u001b[0m\u001b[0;34m\u001b[0m\u001b[0m\n\u001b[0m\u001b[1;32m     21\u001b[0m \u001b[0mprint\u001b[0m\u001b[0;34m(\u001b[0m\u001b[0;34m'All test passed'\u001b[0m\u001b[0;34m)\u001b[0m\u001b[0;34m\u001b[0m\u001b[0m\n",
      "\u001b[0;32m<ipython-input-9-4e0fa5580f55>\u001b[0m in \u001b[0;36mtest_suite_assert\u001b[0;34m(abs_fn)\u001b[0m\n\u001b[1;32m      4\u001b[0m     \"\"\"\n\u001b[1;32m      5\u001b[0m     \u001b[0;32massert\u001b[0m \u001b[0mabs_fn\u001b[0m\u001b[0;34m(\u001b[0m\u001b[0;36m17\u001b[0m\u001b[0;34m)\u001b[0m \u001b[0;34m==\u001b[0m \u001b[0;36m17\u001b[0m\u001b[0;34m\u001b[0m\u001b[0m\n\u001b[0;32m----> 6\u001b[0;31m     \u001b[0;32massert\u001b[0m \u001b[0mabs_fn\u001b[0m\u001b[0;34m(\u001b[0m\u001b[0;34m-\u001b[0m\u001b[0;36m17\u001b[0m\u001b[0;34m)\u001b[0m \u001b[0;34m==\u001b[0m \u001b[0;36m17\u001b[0m\u001b[0;34m\u001b[0m\u001b[0m\n\u001b[0m\u001b[1;32m      7\u001b[0m     \u001b[0;32massert\u001b[0m \u001b[0mabs_fn\u001b[0m\u001b[0;34m(\u001b[0m\u001b[0;36m0\u001b[0m\u001b[0;34m)\u001b[0m \u001b[0;34m==\u001b[0m \u001b[0;36m0\u001b[0m\u001b[0;34m\u001b[0m\u001b[0m\n\u001b[1;32m      8\u001b[0m     \u001b[0;32massert\u001b[0m \u001b[0mabs_fn\u001b[0m\u001b[0;34m(\u001b[0m\u001b[0;36m3.14\u001b[0m\u001b[0;34m)\u001b[0m \u001b[0;34m==\u001b[0m \u001b[0;36m3.14\u001b[0m\u001b[0;34m\u001b[0m\u001b[0m\n",
      "\u001b[0;31mAssertionError\u001b[0m: "
     ]
    }
   ],
   "source": [
    "def test_suite_assert(abs_fn):\n",
    "    \"\"\"\n",
    "    Run the suite of tests for code for a function.\n",
    "    \"\"\"\n",
    "    assert abs_fn(17) == 17\n",
    "    assert abs_fn(-17) == 17\n",
    "    assert abs_fn(0) == 0\n",
    "    assert abs_fn(3.14) == 3.14\n",
    "    assert abs_fn(-3.14) == 3.14\n",
    "\n",
    "\n",
    "# Run test for correct implementation\n",
    "print('Test results for correct implementation:')\n",
    "test_suite_assert(absolute_value_correct)\n",
    "print('All test passed')\n",
    "\n",
    "# Run test for buggy implementation\n",
    "print('')\n",
    "print('Test results for buggy implementation:')\n",
    "test_suite_assert(absolute_value_bug)\n",
    "print('All test passed')"
   ]
  },
  {
   "cell_type": "markdown",
   "metadata": {},
   "source": [
    "## Excercises\n",
    "\n",
    "**Notes:**\n",
    "\n",
    "1. The following exercises will make use of the `test` function defined before.\n",
    "2. Make sure to add unit tests for all answers.\n",
    "3. For all answers, whenever an invalid input is passed, the function should return `None`.\n",
    "\n",
    "### 1\n",
    "\n",
    "The four compass points can be abbreviated by single-letter strings as “N”, “E”, “S”, and “W”. Write a function, `turn_clockwise`, that takes one of these four compass points as its parameter, and returns the next compass point in the clockwise direction.\n",
    "\n",
    "Test it using at least the following:\n",
    "\n",
    "```\n",
    "test(turn_clockwise(\"N\") == \"E\")\n",
    "test(turn_clockwise(\"W\") == \"N\")\n",
    "```"
   ]
  },
  {
   "cell_type": "code",
   "execution_count": 10,
   "metadata": {},
   "outputs": [
    {
     "name": "stdout",
     "output_type": "stream",
     "text": [
      "Test at line 22 ok.\n",
      "Test at line 23 ok.\n",
      "Test at line 24 ok.\n",
      "Test at line 25 ok.\n",
      "Test at line 26 ok.\n",
      "Test at line 27 ok.\n",
      "Test at line 28 ok.\n"
     ]
    }
   ],
   "source": [
    "def turn_clockwise(direction):\n",
    "    \"\"\"\n",
    "    Turn clockwise from a cardinal direction.\n",
    "    \"\"\"\n",
    "    if direction == 'N':\n",
    "        result = 'E'\n",
    "    elif direction == 'E':\n",
    "        result = 'S'\n",
    "    elif direction == 'S':\n",
    "        result = 'W'\n",
    "    elif direction == 'W':\n",
    "        result = 'N'\n",
    "    else:\n",
    "        result = None\n",
    "    return result\n",
    "\n",
    "\n",
    "def test_suite():\n",
    "    \"\"\"\n",
    "    Test suite for the turn_clockwise function.\n",
    "    \"\"\"\n",
    "    test(turn_clockwise(\"N\") == \"E\")\n",
    "    test(turn_clockwise(\"E\") == \"S\")\n",
    "    test(turn_clockwise(\"S\") == \"W\")\n",
    "    test(turn_clockwise(\"W\") == \"N\")\n",
    "    test(turn_clockwise(\"Hello\") == None)\n",
    "    test(turn_clockwise(5) == None)\n",
    "    test(turn_clockwise(1.1) == None)\n",
    "\n",
    "\n",
    "test_suite()"
   ]
  },
  {
   "cell_type": "markdown",
   "metadata": {},
   "source": [
    "### 2\n",
    "\n",
    "Write a function, `day_name`, that converts an integer number 0 to 6 into the name of a day. Assume day 0 is “Sunday”.\n",
    "\n",
    "Test it using at least the following:\n",
    "\n",
    "```\n",
    "test(day_name(3) == \"Wednesday\")\n",
    "test(day_name(6) == \"Saturday\")\n",
    "test(day_name(42) == None)\n",
    "```"
   ]
  },
  {
   "cell_type": "code",
   "execution_count": 11,
   "metadata": {},
   "outputs": [
    {
     "name": "stdout",
     "output_type": "stream",
     "text": [
      "Test at line 28 ok.\n",
      "Test at line 29 ok.\n",
      "Test at line 30 ok.\n",
      "Test at line 31 ok.\n",
      "Test at line 32 ok.\n",
      "Test at line 33 ok.\n",
      "Test at line 34 ok.\n",
      "Test at line 35 ok.\n",
      "Test at line 36 ok.\n",
      "Test at line 37 ok.\n"
     ]
    }
   ],
   "source": [
    "def day_name(day_num):\n",
    "    \"\"\"\n",
    "    Compute the name of the day from its number.\n",
    "    \"\"\"\n",
    "    if day_num == 0:\n",
    "        result = 'Sunday'\n",
    "    elif day_num == 1:\n",
    "        result = 'Monday'\n",
    "    elif day_num == 2:\n",
    "        result = 'Tuesday'\n",
    "    elif day_num == 3:\n",
    "        result = 'Wednesday'\n",
    "    elif day_num == 4:\n",
    "        result = 'Thursday'\n",
    "    elif day_num == 5:\n",
    "        result = 'Friday'\n",
    "    elif day_num == 6:\n",
    "        result = 'Saturday'\n",
    "    else:\n",
    "        result = None\n",
    "    return result\n",
    "\n",
    "\n",
    "def test_suite():\n",
    "    \"\"\"\n",
    "    Test suite for the day_name function.\n",
    "    \"\"\"\n",
    "    test(day_name(0) == \"Sunday\")\n",
    "    test(day_name(1) == \"Monday\")\n",
    "    test(day_name(2) == \"Tuesday\")\n",
    "    test(day_name(3) == \"Wednesday\")\n",
    "    test(day_name(4) == \"Thursday\")\n",
    "    test(day_name(5) == \"Friday\")\n",
    "    test(day_name(6) == \"Saturday\")\n",
    "    test(day_name(42) == None)\n",
    "    test(turn_clockwise(\"Hello\") == None)\n",
    "    test(turn_clockwise(1.1) == None)\n",
    "\n",
    "\n",
    "test_suite()"
   ]
  },
  {
   "cell_type": "markdown",
   "metadata": {},
   "source": [
    "### 3\n",
    "\n",
    "Write the inverse function from excercise 2, `day_num`, which is given a day name, and returns its number.\n",
    "\n",
    "Test it with at least:\n",
    "\n",
    "```\n",
    "test(day_num(\"Friday\") == 5)\n",
    "test(day_num(\"Sunday\") == 0)\n",
    "test(day_num(day_name(3)) == 3)\n",
    "test(day_name(day_num(\"Thursday\")) == \"Thursday\")\n",
    "```"
   ]
  },
  {
   "cell_type": "code",
   "execution_count": 12,
   "metadata": {},
   "outputs": [
    {
     "name": "stdout",
     "output_type": "stream",
     "text": [
      "Test at line 28 ok.\n",
      "Test at line 29 ok.\n",
      "Test at line 30 ok.\n",
      "Test at line 31 ok.\n",
      "Test at line 32 ok.\n",
      "Test at line 33 ok.\n",
      "Test at line 34 ok.\n",
      "Test at line 35 ok.\n",
      "Test at line 36 ok.\n",
      "Test at line 37 ok.\n",
      "Test at line 38 ok.\n",
      "Test at line 39 ok.\n"
     ]
    }
   ],
   "source": [
    "def day_num(day_name):\n",
    "    \"\"\"\n",
    "    Compute the number of day of the week from a day name.\n",
    "    \"\"\"\n",
    "    if day_name == 'Sunday':\n",
    "        result = 0\n",
    "    elif day_name == 'Monday':\n",
    "        result = 1\n",
    "    elif day_name == 'Tuesday':\n",
    "        result = 2\n",
    "    elif day_name == 'Wednesday':\n",
    "        result = 3\n",
    "    elif day_name == 'Thursday':\n",
    "        result = 4\n",
    "    elif day_name == 'Friday':\n",
    "        result = 5\n",
    "    elif day_name == 'Saturday':\n",
    "        result = 6\n",
    "    else:\n",
    "        result = None\n",
    "    return result\n",
    "\n",
    "\n",
    "def test_suite():\n",
    "    \"\"\"\n",
    "    Test suite for the day_num function.\n",
    "    \"\"\"\n",
    "    test(day_num(\"Monday\") == 1)\n",
    "    test(day_num(\"Tuesday\") == 2)\n",
    "    test(day_num(\"Wednesday\") == 3)\n",
    "    test(day_num(\"Thursday\") == 4)\n",
    "    test(day_num(\"Friday\") == 5)\n",
    "    test(day_num(\"Saturday\") == 6)\n",
    "    test(day_num(\"Sunday\") == 0)\n",
    "    test(day_num(\"Hello\") == None)\n",
    "    test(day_num(1) == None)\n",
    "    test(day_num(1.1) == None)\n",
    "    test(day_num(day_name(3)) == 3)\n",
    "    test(day_name(day_num(\"Thursday\")) == \"Thursday\")\n",
    "\n",
    "\n",
    "test_suite()"
   ]
  },
  {
   "cell_type": "markdown",
   "metadata": {},
   "source": [
    "### 4\n",
    "\n",
    "Write a function, `day_add`,  that helps answer questions like \n",
    "\n",
    "> Today is Wednesday. I leave on holiday in 19 days time. What day will that be?\n",
    "\n",
    "So the function must take a day name and a delta argument — the number of days to add — and should return the resulting day name.\n",
    "\n",
    "Test it with at least:\n",
    "\n",
    "```\n",
    "test(day_add(\"Monday\", 4) ==  \"Friday\")\n",
    "test(day_add(\"Tuesday\", 0) == \"Tuesday\")\n",
    "test(day_add(\"Tuesday\", 14) == \"Tuesday\")\n",
    "test(day_add(\"Sunday\", 100) == \"Tuesday\")\n",
    "```"
   ]
  },
  {
   "cell_type": "code",
   "execution_count": 13,
   "metadata": {},
   "outputs": [
    {
     "name": "stdout",
     "output_type": "stream",
     "text": [
      "Test at line 23 ok.\n",
      "Test at line 24 ok.\n",
      "Test at line 25 ok.\n",
      "Test at line 26 ok.\n",
      "Test at line 27 ok.\n",
      "Test at line 28 ok.\n"
     ]
    }
   ],
   "source": [
    "def day_add(initial_day_name, delta):\n",
    "    \"\"\"\n",
    "    Add a number of days to a given day.\n",
    "    \"\"\"\n",
    "    # Convert the initial name to number.\n",
    "    initial_day_number = day_num(initial_day_name)\n",
    "        \n",
    "    if isinstance(initial_day_number, int) and isinstance(delta, int):\n",
    "        # Compute the final date.\n",
    "        end_day_number = initial_day_number + delta\n",
    "        # Convert final date to week day number.\n",
    "        end_day_number %= 7\n",
    "        \n",
    "        result = day_name(end_day_number)\n",
    "    else:\n",
    "        result =  None\n",
    "    return result\n",
    "\n",
    "def test_suite():\n",
    "    \"\"\"\n",
    "    Test suite for the day_add function.\n",
    "    \"\"\"\n",
    "    test(day_add(\"Monday\", 4) ==  \"Friday\")\n",
    "    test(day_add(\"Tuesday\", 0) == \"Tuesday\")\n",
    "    test(day_add(\"Tuesday\", 14) == \"Tuesday\")\n",
    "    test(day_add(\"Sunday\", 100) == \"Tuesday\")\n",
    "    test(day_add(\"Hello\", 100) == None)\n",
    "    test(day_add(0, 100) == None)\n",
    "    \n",
    "test_suite()"
   ]
  },
  {
   "cell_type": "markdown",
   "metadata": {},
   "source": [
    "### 5\n",
    "\n",
    "Does your function from excercise 4 work with negative deltas? If so, explain why. If not, make it work.\n",
    "\n",
    "#### Answer\n",
    "\n",
    "It works with negative numbers because the modulo function has the following behaviour for negative numbers:\n",
    "\n",
    "* $-1 \\; \\% \\; 7 = 6$,\n",
    "* $-2 \\; \\% \\; 7 = 5$,\n",
    "* $-3 \\; \\% \\; 7 = 4$,\n",
    "\n",
    "and so on.\n",
    "\n",
    "### 6\n",
    "\n",
    "Write a function, `days_in_month`, which takes the name of a month, and returns the number of days in the month. Ignore leap years.\n",
    "\n",
    "Test with at least:\n",
    "\n",
    "```\n",
    "test(days_in_month(\"February\") == 28)\n",
    "test(days_in_month(\"December\") == 31)\n",
    "```"
   ]
  },
  {
   "cell_type": "code",
   "execution_count": 14,
   "metadata": {},
   "outputs": [
    {
     "name": "stdout",
     "output_type": "stream",
     "text": [
      "Test at line 28 ok.\n",
      "Test at line 29 ok.\n",
      "Test at line 30 ok.\n",
      "Test at line 31 ok.\n",
      "Test at line 32 ok.\n",
      "Test at line 33 ok.\n",
      "Test at line 34 ok.\n",
      "Test at line 35 ok.\n",
      "Test at line 36 ok.\n",
      "Test at line 37 ok.\n",
      "Test at line 38 ok.\n",
      "Test at line 39 ok.\n",
      "Test at line 40 ok.\n",
      "Test at line 41 ok.\n",
      "Test at line 42 ok.\n"
     ]
    }
   ],
   "source": [
    "thirtyone_day_months = [\n",
    "    'January', 'March', 'May', 'July',\n",
    "    'August', 'October', 'December'\n",
    "]\n",
    "\n",
    "thirty_day_months = [\n",
    "    'April', 'June', 'September', 'November',\n",
    "]\n",
    "def days_in_month(month_name):\n",
    "    \"\"\"\n",
    "    Obtain the number of days in a month.\n",
    "    \"\"\"\n",
    "    if month_name in thirtyone_day_months:\n",
    "        result = 31\n",
    "    elif month_name in thirty_day_months:\n",
    "        result = 30\n",
    "    elif month_name == 'February':\n",
    "        result = 28\n",
    "    else:\n",
    "        result = None\n",
    "    return result\n",
    "\n",
    "\n",
    "def test_suite():\n",
    "    \"\"\"\n",
    "    Test suite for the days_im_month function.\n",
    "    \"\"\"\n",
    "    test(days_in_month(\"January\") == 31)\n",
    "    test(days_in_month(\"February\") == 28)\n",
    "    test(days_in_month(\"March\") == 31)\n",
    "    test(days_in_month(\"April\") == 30)\n",
    "    test(days_in_month(\"May\") == 31)\n",
    "    test(days_in_month(\"June\") == 30)\n",
    "    test(days_in_month(\"July\") == 31)\n",
    "    test(days_in_month(\"August\") == 31)\n",
    "    test(days_in_month(\"September\") == 30)\n",
    "    test(days_in_month(\"October\") == 31)\n",
    "    test(days_in_month(\"November\") == 30)\n",
    "    test(days_in_month(\"December\") == 31)\n",
    "    test(days_in_month(\"Hello\") == None)\n",
    "    test(days_in_month(1) == None)\n",
    "    test(days_in_month(1.1) == None)\n",
    "\n",
    "test_suite()"
   ]
  },
  {
   "cell_type": "markdown",
   "metadata": {},
   "source": [
    "### 7\n",
    "\n",
    "Write a function, `to_secs`, that converts hours, minutes and seconds to a total number of seconds.\n",
    "\n",
    "Here are some tests that should pass:\n",
    "\n",
    "```\n",
    "test(to_secs(2, 30, 10) == 9010)\n",
    "test(to_secs(2, 0, 0) == 7200)\n",
    "test(to_secs(0, 2, 0) == 120)\n",
    "test(to_secs(0, 0, 42) == 42)\n",
    "test(to_secs(0, -10, 10) == -590)\n",
    "```"
   ]
  },
  {
   "cell_type": "code",
   "execution_count": 15,
   "metadata": {},
   "outputs": [
    {
     "name": "stdout",
     "output_type": "stream",
     "text": [
      "Test at line 23 ok.\n",
      "Test at line 24 ok.\n",
      "Test at line 25 ok.\n",
      "Test at line 26 ok.\n",
      "Test at line 27 ok.\n",
      "Test at line 28 ok.\n",
      "Test at line 29 ok.\n",
      "Test at line 30 ok.\n",
      "Test at line 31 ok.\n",
      "Test at line 32 ok.\n",
      "Test at line 33 ok.\n",
      "Test at line 34 ok.\n",
      "Test at line 35 ok.\n",
      "Test at line 36 ok.\n"
     ]
    }
   ],
   "source": [
    "def to_secs(hours, minutes, seconds):\n",
    "    \"\"\"\n",
    "    Convert hours, minutes and seconds to a total number of seconds.\n",
    "    \"\"\"\n",
    "    \n",
    "    # Cehck input validity\n",
    "    seconds_cond = isinstance(seconds, int) \n",
    "    minutes_cond = isinstance(minutes, int) \n",
    "    hours_cond = isinstance(hours, int) \n",
    "    \n",
    "    if seconds_cond and minutes_cond and hours_cond:\n",
    "        result = seconds\n",
    "        result += minutes * 60\n",
    "        result += hours * 60 * 60\n",
    "    else:\n",
    "        result = None\n",
    "    return result\n",
    "\n",
    "def test_suite():\n",
    "    \"\"\"\n",
    "    Test suite for the to_secs function.\n",
    "    \"\"\"\n",
    "    test(to_secs(2, 30, 10) == 9010)\n",
    "    test(to_secs(2, 0, 0) == 7200)\n",
    "    test(to_secs(0, 2, 0) == 120)\n",
    "    test(to_secs(0, 0, 42) == 42)\n",
    "    test(to_secs(0, -10, 10) == -590)\n",
    "    test(to_secs('Hello', -10, 10) == None)\n",
    "    test(to_secs(0, 'Hello', 10) == None)\n",
    "    test(to_secs(0, -10, 'Hello') == None)\n",
    "    test(to_secs('Hello', 'Hello', 'Hello') == None)\n",
    "    test(to_secs(None, -10, 10) == None)\n",
    "    test(to_secs(0, None, 10) == None)\n",
    "    test(to_secs(0, -10, None) == None)\n",
    "    test(to_secs(2.5, 0, 10.71) == None)\n",
    "    test(to_secs(2.433,0,0) == None)\n",
    "    \n",
    "test_suite()"
   ]
  },
  {
   "cell_type": "markdown",
   "metadata": {},
   "source": [
    "### 8\n",
    "\n",
    "Extend `to_secs` so that it can cope with real values as inputs. It should always return an integer number of seconds (truncated towards zero).\n",
    "\n",
    "Make sure it passes at least:\n",
    "\n",
    "```\n",
    "test(to_secs(2.5, 0, 10.71) == 9010)\n",
    "test(to_secs(2.433,0,0) == 8758)\n",
    "```"
   ]
  },
  {
   "cell_type": "code",
   "execution_count": 16,
   "metadata": {},
   "outputs": [
    {
     "name": "stdout",
     "output_type": "stream",
     "text": [
      "Test at line 24 ok.\n",
      "Test at line 25 ok.\n",
      "Test at line 26 ok.\n",
      "Test at line 27 ok.\n",
      "Test at line 28 ok.\n",
      "Test at line 29 ok.\n",
      "Test at line 30 ok.\n",
      "Test at line 31 ok.\n",
      "Test at line 32 ok.\n",
      "Test at line 33 ok.\n",
      "Test at line 34 ok.\n",
      "Test at line 35 ok.\n",
      "Test at line 36 ok.\n",
      "Test at line 37 ok.\n",
      "Test at line 38 ok.\n"
     ]
    }
   ],
   "source": [
    "def to_secs(hours, minutes, seconds):\n",
    "    \"\"\"\n",
    "    Convert hours, minutes and seconds to a total number of seconds.\n",
    "    \"\"\"\n",
    "    \n",
    "    # Check input validity\n",
    "    seconds_cond = isinstance(seconds, int) or isinstance(seconds, float) \n",
    "    minutes_cond = isinstance(minutes, int) or isinstance(minutes, float) \n",
    "    hours_cond = isinstance(hours, int) or isinstance(hours, float) \n",
    "    \n",
    "    if seconds_cond and minutes_cond and hours_cond:\n",
    "        result = seconds\n",
    "        result += minutes * 60\n",
    "        result += hours * 60 * 60\n",
    "        result = int(result)\n",
    "    else:\n",
    "        result = None\n",
    "    return result\n",
    "\n",
    "def test_suite():\n",
    "    \"\"\"\n",
    "    Test suite for the to_secs function.\n",
    "    \"\"\"\n",
    "    test(to_secs(2, 30, 10) == 9010)\n",
    "    test(to_secs(2, 0, 0) == 7200)\n",
    "    test(to_secs(0, 2, 0) == 120)\n",
    "    test(to_secs(0, 0, 42) == 42)\n",
    "    test(to_secs(0, -10, 10) == -590)\n",
    "    test(to_secs('Hello', -10, 10) == None)\n",
    "    test(to_secs(0, 'Hello', 10) == None)\n",
    "    test(to_secs(0, -10, 'Hello') == None)\n",
    "    test(to_secs('Hello', 'Hello', 'Hello') == None)\n",
    "    test(to_secs(None, -10, 10) == None)\n",
    "    test(to_secs(0, None, 10) == None)\n",
    "    test(to_secs(0, -10, None) == None)\n",
    "    test(to_secs(2.433,0,0) == 8758)\n",
    "    test(to_secs(2.5, 0, 10.71) == 9010)\n",
    "    test(to_secs(0, 0, -1.71) == -1)\n",
    "    \n",
    "test_suite()"
   ]
  },
  {
   "cell_type": "markdown",
   "metadata": {},
   "source": [
    "### 9\n",
    "\n",
    "Write three functions that are the “inverses” of to_secs:\n",
    "\n",
    "1. `hours_in` returns the whole integer number of hours represented by a total number of seconds.\n",
    "2. `minutes_in` returns the whole integer number of left over minutes in a total number of seconds, once the hours have been taken out.\n",
    "3. `seconds_in` returns the left over seconds represented by a total number of seconds.\n",
    "\n",
    "You may assume that the total number of seconds passed to these functions is an integer.\n",
    "\n",
    "The functions must pass:\n",
    "\n",
    "```\n",
    "test(hours_in(9010) == 2)\n",
    "test(minutes_in(9010) == 30)\n",
    "test(seconds_in(9010) == 10)\n",
    "```"
   ]
  },
  {
   "cell_type": "code",
   "execution_count": 17,
   "metadata": {},
   "outputs": [
    {
     "name": "stdout",
     "output_type": "stream",
     "text": [
      "Test at line 12 ok.\n",
      "Test at line 13 ok.\n",
      "Test at line 14 ok.\n",
      "Test at line 15 ok.\n",
      "Test at line 16 ok.\n"
     ]
    }
   ],
   "source": [
    "def hours_in(num_secs):\n",
    "    \"\"\"\n",
    "    Compute the number of complete hours represented by num_secs.\n",
    "    \"\"\"\n",
    "    return num_secs // (60*60)\n",
    "\n",
    "\n",
    "def test_suite():\n",
    "    \"\"\"\n",
    "    Test suite for the hours_in function.\n",
    "    \"\"\"\n",
    "    test(hours_in(9010) == 2)\n",
    "    test(hours_in(0) == 0)\n",
    "    test(hours_in(60 * 60) == 1)\n",
    "    test(hours_in(60 * 60 + 1) == 1)\n",
    "    test(hours_in(60 * 60 - 1) == 0)\n",
    "\n",
    "\n",
    "test_suite()"
   ]
  },
  {
   "cell_type": "code",
   "execution_count": 18,
   "metadata": {},
   "outputs": [
    {
     "name": "stdout",
     "output_type": "stream",
     "text": [
      "Test at line 21 ok.\n",
      "Test at line 22 ok.\n",
      "Test at line 23 ok.\n",
      "Test at line 24 ok.\n",
      "Test at line 25 ok.\n",
      "Test at line 26 ok.\n"
     ]
    }
   ],
   "source": [
    "def time_in_unit(n_units, time_unit):\n",
    "    \"\"\"\n",
    "    Compute how many seconds are in a number of time units.\n",
    "    \"\"\"\n",
    "    # Validate n_units\n",
    "    cond_n = isinstance(n_units, int)\n",
    "\n",
    "    if cond_n and time_unit == 'minute':\n",
    "        result = n_units * 60\n",
    "    elif cond_n and time_unit == 'hour':\n",
    "        result = int(n_units * 60 * 60)\n",
    "    else:\n",
    "        result = None\n",
    "    return result\n",
    "\n",
    "\n",
    "def test_suite():\n",
    "    \"\"\"\n",
    "    Test suite for the time_in_unit function.\n",
    "    \"\"\"\n",
    "    test(time_in_unit(3, 'minute') == 180)\n",
    "    test(time_in_unit(3, 'hour') == 10800)\n",
    "    test(time_in_unit(None, 'minute') == None)\n",
    "    test(time_in_unit(3, 'Hello') == None)\n",
    "    test(time_in_unit(3., 'minute') == None)\n",
    "    test(time_in_unit('hello', 'minute') == None)\n",
    "    \n",
    "    \n",
    "test_suite()"
   ]
  },
  {
   "cell_type": "code",
   "execution_count": 19,
   "metadata": {},
   "outputs": [
    {
     "name": "stdout",
     "output_type": "stream",
     "text": [
      "Test at line 24 ok.\n",
      "Test at line 25 ok.\n",
      "Test at line 26 ok.\n",
      "Test at line 27 ok.\n",
      "Test at line 28 ok.\n",
      "Test at line 29 ok.\n",
      "Test at line 30 ok.\n",
      "Test at line 31 ok.\n"
     ]
    }
   ],
   "source": [
    "def remaining_from_time(num_secs, n_units, time_unit):\n",
    "    \"\"\"\n",
    "    Compute how many seconds remain after time unit has been subtracted.\n",
    "    \"\"\"\n",
    "    # Validate inputs\n",
    "    cond_n = isinstance(n_units, int)\n",
    "    cond_n &= isinstance(num_secs, int)\n",
    "    \n",
    "    # Compute number of seconds in the unit\n",
    "    elapsed_time = time_in_unit(n_units, time_unit)\n",
    "    \n",
    "    if cond_n and isinstance(elapsed_time, int):\n",
    "        result = int(num_secs - elapsed_time)\n",
    "    else:\n",
    "        result = None\n",
    "        \n",
    "    return result\n",
    "\n",
    "\n",
    "def test_suite():\n",
    "    \"\"\"\n",
    "    Test suite for the remaining_from_time function.\n",
    "    \"\"\"\n",
    "    test(remaining_from_time(190, 3, 'minute') == 10)\n",
    "    test(remaining_from_time(10810, 3, 'hour') == 10)\n",
    "    test(remaining_from_time(None, 3, 'minute') == None)\n",
    "    test(remaining_from_time(190, None, 'minute') == None)\n",
    "    test(remaining_from_time(190, 3, None) == None)\n",
    "    test(remaining_from_time(10810, 3, 'hello') == None)\n",
    "    test(remaining_from_time(10810, 'hello', 'minute') == None)\n",
    "    test(remaining_from_time('hello', 3, 'minute') == None)\n",
    "    \n",
    "    \n",
    "test_suite()"
   ]
  },
  {
   "cell_type": "code",
   "execution_count": 20,
   "metadata": {},
   "outputs": [
    {
     "name": "stdout",
     "output_type": "stream",
     "text": [
      "Test at line 18 ok.\n",
      "Test at line 19 ok.\n",
      "Test at line 20 ok.\n",
      "Test at line 21 ok.\n",
      "Test at line 22 ok.\n"
     ]
    }
   ],
   "source": [
    "def minutes_in(num_secs):\n",
    "    \"\"\"\n",
    "    Compute the number of complete hours represented by num_secs.\n",
    "    \"\"\"\n",
    "    hours = hours_in(num_secs)\n",
    "    remaining_time = remaining_from_time(\n",
    "        num_secs=num_secs,\n",
    "        n_units=hours,\n",
    "        time_unit='hour'\n",
    "    )\n",
    "    return remaining_time // 60\n",
    "\n",
    "\n",
    "def test_suite():\n",
    "    \"\"\"\n",
    "    Test suite for the minutes_in function.\n",
    "    \"\"\"\n",
    "    test(minutes_in(9010) == 30)\n",
    "    test(minutes_in(0) == 0)\n",
    "    test(minutes_in(60) == 1)\n",
    "    test(minutes_in(59) == 0)\n",
    "    test(minutes_in(61) == 1)\n",
    "    \n",
    "\n",
    "test_suite()"
   ]
  },
  {
   "cell_type": "code",
   "execution_count": 21,
   "metadata": {},
   "outputs": [
    {
     "name": "stdout",
     "output_type": "stream",
     "text": [
      "Test at line 29 ok.\n",
      "Test at line 30 ok.\n"
     ]
    }
   ],
   "source": [
    "def seconds_in(num_secs):\n",
    "    \"\"\"\n",
    "    Compute the leftover seconds after computing hours and minutes.\n",
    "    \"\"\"\n",
    "    # Copmute number of hours in num_secs.\n",
    "    hours = hours_in(num_secs)\n",
    "    # Subtract hours from initial time.\n",
    "    remaining_time = remaining_from_time(\n",
    "        num_secs=num_secs,\n",
    "        n_units=hours,\n",
    "        time_unit='hour'\n",
    "    )\n",
    "    \n",
    "    # Copmute number of minutes remaining in num_secs.\n",
    "    minutes = minutes_in(num_secs)\n",
    "    # Subtract minutes from remaining time.\n",
    "    remaining_time = remaining_from_time(\n",
    "        num_secs=remaining_time,\n",
    "        n_units=minutes,\n",
    "        time_unit='minute'\n",
    "    )\n",
    "    return remaining_time\n",
    "\n",
    "\n",
    "def test_suite():\n",
    "    \"\"\"\n",
    "    Test suite for the seconds_in function.\n",
    "    \"\"\"\n",
    "    test(seconds_in(9010) == 10)\n",
    "    test(seconds_in(10) == 10)    \n",
    "    \n",
    "\n",
    "test_suite()"
   ]
  },
  {
   "cell_type": "markdown",
   "metadata": {},
   "source": [
    "### 10\n",
    "\n",
    "Which of these tests fail? Explain why.\n",
    "\n",
    "```\n",
    "test(3 % 4 == 0)\n",
    "test(3 % 4 == 3)\n",
    "test(3 / 4 == 0)\n",
    "test(3 // 4 == 0)\n",
    "test(3 + 4 * 2 == 14)\n",
    "test(4 - 2 + 2 == 0)\n",
    "test(len(\"hello, world!\") == 13)\n",
    "```\n",
    "\n",
    "#### Answer\n",
    "\n",
    "1. `test(3 % 4 == 0)` fails because 3 % 4 is 3\n",
    "2. `test(3 % 4 == 3)` passes (vid supra).\n",
    "3. `test(3 / 4 == 0)` fails because 3/4 is 0.75.\n",
    "4. `test(3 // 4 == 0)` passes because the `//` operator computes integer division.\n",
    "5. `test(3 + 4 * 2 == 14)` fails because the order of operations is $3 + (4*2) = 3 + 8 = 11$.\n",
    "6. `test(4 - 2 + 2 == 0)` fails because $4 - 2 + 2 = 4$.\n",
    "7. `test(len(\"hello, world!\") == 13)` passes because there are 13 characters in `hello, world!`\n",
    "\n",
    "### 11\n",
    "\n",
    "Write a `compare` function that returns $1$ if $a > b$, $0$ if $a = b$, and $-1$ if $a < b$.\n",
    "\n",
    "It must pass:\n",
    "\n",
    "```\n",
    "test(compare(5, 4) == 1)\n",
    "test(compare(7, 7) == 0)\n",
    "test(compare(2, 3) == -1)\n",
    "test(compare(42, 1) == 1)\n",
    "```"
   ]
  },
  {
   "cell_type": "code",
   "execution_count": 22,
   "metadata": {},
   "outputs": [
    {
     "name": "stdout",
     "output_type": "stream",
     "text": [
      "Test at line 18 ok.\n",
      "Test at line 19 ok.\n",
      "Test at line 20 ok.\n",
      "Test at line 21 ok.\n"
     ]
    }
   ],
   "source": [
    "def compare(a, b):\n",
    "    \"\"\"\n",
    "    Compare two values.\n",
    "    \"\"\"\n",
    "    if a > b:\n",
    "        result = 1\n",
    "    elif a == b:\n",
    "        result = 0\n",
    "    else:\n",
    "        result = -1\n",
    "    return result\n",
    "\n",
    "\n",
    "def test_suite():\n",
    "    \"\"\"\n",
    "    Test suite for the compare function.\n",
    "    \"\"\"\n",
    "    test(compare(5, 4) == 1)\n",
    "    test(compare(7, 7) == 0)\n",
    "    test(compare(2, 3) == -1)\n",
    "    test(compare(42, 1) == 1) \n",
    "    \n",
    "\n",
    "test_suite()"
   ]
  },
  {
   "cell_type": "markdown",
   "metadata": {},
   "source": [
    "### 12\n",
    "\n",
    "Write a function called `hypotenuse` that returns the length of the hypotenuse of a right triangle given the lengths of the two legs as parameters.\n",
    "\n",
    "Make sure it passes at least:\n",
    "\n",
    "```\n",
    "test(hypotenuse(3, 4) == 5.0)\n",
    "test(hypotenuse(12, 5) == 13.0)\n",
    "test(hypotenuse(24, 7) == 25.0)\n",
    "test(hypotenuse(9, 12) == 15.0)\n",
    "```"
   ]
  },
  {
   "cell_type": "code",
   "execution_count": 23,
   "metadata": {},
   "outputs": [
    {
     "name": "stdout",
     "output_type": "stream",
     "text": [
      "Test at line 12 ok.\n",
      "Test at line 13 ok.\n",
      "Test at line 14 ok.\n",
      "Test at line 15 ok.\n",
      "Test at line 16 ok.\n"
     ]
    }
   ],
   "source": [
    "def hypotenuse(side1, side2):\n",
    "    \"\"\"\n",
    "    Compute the length of the hypothenuse of a triangle with sides side1 and side2.\n",
    "    \"\"\"\n",
    "    return sqrt(side1**2 + side2**2)\n",
    "\n",
    "\n",
    "def test_suite():\n",
    "    \"\"\"\n",
    "    Test suite for the hypothenuse function.\n",
    "    \"\"\"\n",
    "    test(hypotenuse(3, 4) == 5.0)\n",
    "    test(hypotenuse(12, 5) == 13.0)\n",
    "    test(hypotenuse(24, 7) == 25.0)\n",
    "    test(hypotenuse(9, 12) == 15.0)\n",
    "    test(hypotenuse(0, 0) == 0.0)\n",
    "\n",
    "\n",
    "test_suite()"
   ]
  },
  {
   "cell_type": "markdown",
   "metadata": {},
   "source": [
    "### 13\n",
    "\n",
    "#### a)\n",
    "\n",
    "Write a function, `slope(x1, y1, x2, y2)` that returns the slope of the line through the points $(x1, y1)$ and $(x2, y2)$.\n",
    "\n",
    "Be sure your implementation of slope can pass the following tests:\n",
    "\n",
    "```\n",
    "test(slope(5, 3, 4, 2) == 1.0)\n",
    "test(slope(1, 2, 3, 2) == 0.0)\n",
    "test(slope(1, 2, 3, 3) == 0.5)\n",
    "test(slope(2, 4, 1, 2) == 2.0)\n",
    "```"
   ]
  },
  {
   "cell_type": "code",
   "execution_count": 24,
   "metadata": {},
   "outputs": [
    {
     "name": "stdout",
     "output_type": "stream",
     "text": [
      "Test at line 29 ok.\n",
      "Test at line 30 ok.\n",
      "Test at line 31 ok.\n",
      "Test at line 32 ok.\n",
      "Test at line 33 ok.\n",
      "Test at line 34 ok.\n",
      "Test at line 35 ok.\n",
      "Test at line 36 ok.\n",
      "Test at line 37 ok.\n",
      "Test at line 38 ok.\n",
      "Test at line 39 ok.\n",
      "Test at line 40 ok.\n",
      "Test at line 41 ok.\n",
      "Test at line 42 ok.\n"
     ]
    }
   ],
   "source": [
    "def slope(x1, y1, x2, y2):\n",
    "    \"\"\"\n",
    "    Compute the slope of a line that passes through the points (x1, y1) and (x2, y2).\n",
    "    \"\"\"\n",
    "    \n",
    "    # Validate inputs\n",
    "    # Validate types\n",
    "    cond_type = True  # Initialize condition\n",
    "    for inp in [x1, x2, y1, y2]:\n",
    "        cond_type &= isinstance(inp, int) or isinstance(inp, float)\n",
    "    \n",
    "    # Validate points are different\n",
    "    cond_quality = (x1 != x2) or (y1 != y2)\n",
    "    \n",
    "    if cond_type and cond_quality:\n",
    "        if x1 == x2:\n",
    "            result = 'infinity'\n",
    "        else:\n",
    "            result = (y2 - y1) / (x2 - x1) \n",
    "    else:\n",
    "        result = None\n",
    "    return result\n",
    "\n",
    "\n",
    "def test_suite():\n",
    "    \"\"\"\n",
    "    Test suite for the slope function.\n",
    "    \"\"\"\n",
    "    test(slope(5, 3, 4, 2) == 1.0)\n",
    "    test(slope(1, 2, 3, 2) == 0.0)\n",
    "    test(slope(1, 2, 3, 3) == 0.5)\n",
    "    test(slope(2, 4, 1, 2) == 2.0)\n",
    "    test(slope(2, 4, 2, 2) == 'infinity')\n",
    "    test(slope(1, 1, 1, 1) == None)\n",
    "    test(slope('hello', 1, 2, 1) == None)\n",
    "    test(slope(1, 'hello', 2, 1) == None)\n",
    "    test(slope(1, 1, 'hello', 1) == None)\n",
    "    test(slope(1, 1, 2, 'hello') == None)\n",
    "    test(slope(None, 1, 2, 1) == None)\n",
    "    test(slope(1, None, 2, 1) == None)\n",
    "    test(slope(1, 1, None, 1) == None)\n",
    "    test(slope(1, 1, 2, None) == None)\n",
    "    \n",
    "\n",
    "test_suite()"
   ]
  },
  {
   "cell_type": "markdown",
   "metadata": {},
   "source": [
    "#### b)\n",
    "\n",
    "Use a call to `slope` in a new function, named `intercept(x1, y1, x2, y2)`, that returns the y-intercept of the line through the points (x1, y1) and (x2, y2).\n",
    "\n",
    "Suggested tests:\n",
    "\n",
    "```\n",
    "test(intercept(1, 6, 3, 12) == 3.0)\n",
    "test(intercept(6, 1, 1, 6) == 7.0)\n",
    "test(intercept(4, 6, 12, 8) == 5.0)\n",
    "```"
   ]
  },
  {
   "cell_type": "code",
   "execution_count": 25,
   "metadata": {},
   "outputs": [
    {
     "name": "stdout",
     "output_type": "stream",
     "text": [
      "Test at line 22 ok.\n",
      "Test at line 23 ok.\n",
      "Test at line 24 ok.\n",
      "Test at line 25 ok.\n",
      "Test at line 26 ok.\n",
      "Test at line 27 ok.\n",
      "Test at line 28 ok.\n",
      "Test at line 29 ok.\n",
      "Test at line 30 ok.\n",
      "Test at line 31 ok.\n",
      "Test at line 32 ok.\n",
      "Test at line 33 ok.\n",
      "Test at line 34 ok.\n"
     ]
    }
   ],
   "source": [
    "def intercept(x1, y1, x2, y2):\n",
    "    \"\"\"\n",
    "    Compute the intercept (y value) of a line that passes through\n",
    "    the points (x1, y1) and (x2, y2).\n",
    "    \"\"\"\n",
    "    \n",
    "    # Note that input validation happens in the slope function\n",
    "    slop = slope(x1, y1, x2, y2)\n",
    "    \n",
    "    #when slop is a numeric value\n",
    "    if isinstance(slop, float):\n",
    "        result = y1 - (slop * x1)\n",
    "    else:\n",
    "        result = None\n",
    "    return result\n",
    "\n",
    "\n",
    "def test_suite():\n",
    "    \"\"\"\n",
    "    Test suite for the intercept function.\n",
    "    \"\"\"\n",
    "    test(intercept(1, 6, 3, 12) == 3.0)\n",
    "    test(intercept(6, 1, 1, 6) == 7.0)\n",
    "    test(intercept(4, 6, 12, 8) == 5.0)\n",
    "    test(intercept(None, 6, 12, 8) == None)\n",
    "    test(intercept(4, None, 12, 8) == None)\n",
    "    test(intercept(4, 6, None, 8) == None)\n",
    "    test(intercept(4, 6, 12, None) == None)\n",
    "    test(intercept('Hello', 6, 12, 8) == None)\n",
    "    test(intercept(4, 'Hello', 12, 8) == None)\n",
    "    test(intercept(4, 6, 'Hello', 8) == None)\n",
    "    test(intercept(4, 6, 12, 'Hello') == None)\n",
    "    test(intercept(0, 6, 0, 8) == None)\n",
    "    test(intercept(1, 6, 1, 6) == None)\n",
    "    \n",
    "\n",
    "test_suite()"
   ]
  },
  {
   "cell_type": "markdown",
   "metadata": {},
   "source": [
    "### 14\n",
    "\n",
    "Write a function called `is_even(n)` that takes an integer as an argument and returns `True` if the argument is an even number and `False` if it is odd."
   ]
  },
  {
   "cell_type": "code",
   "execution_count": 26,
   "metadata": {},
   "outputs": [
    {
     "name": "stdout",
     "output_type": "stream",
     "text": [
      "Test at line 20 ok.\n",
      "Test at line 21 ok.\n",
      "Test at line 22 ok.\n",
      "Test at line 23 ok.\n",
      "Test at line 24 ok.\n"
     ]
    }
   ],
   "source": [
    "def is_even(n):\n",
    "    \"\"\"\n",
    "    Return True if n is even, and False if it's odd.\n",
    "    \"\"\"\n",
    "    if isinstance(n, int):\n",
    "        if n % 2 == 0:\n",
    "            result = True\n",
    "        else:\n",
    "            result = False\n",
    "    else:\n",
    "        result = None\n",
    "        \n",
    "    return result\n",
    "\n",
    "\n",
    "def test_suite():\n",
    "    \"\"\"\n",
    "    Test suite for the is_even function.\n",
    "    \"\"\"\n",
    "    test(not is_even(1))\n",
    "    test(is_even(42))\n",
    "    test(is_even('Hello') == None)\n",
    "    test(is_even(None) == None)\n",
    "    test(is_even(1.7) == None)\n",
    "\n",
    "\n",
    "test_suite()"
   ]
  },
  {
   "cell_type": "markdown",
   "metadata": {},
   "source": [
    "### 15\n",
    "\n",
    "Now write the function `is_odd(n)` that returns `True` when $n$ is odd and `False` otherwise"
   ]
  },
  {
   "cell_type": "code",
   "execution_count": 27,
   "metadata": {},
   "outputs": [
    {
     "name": "stdout",
     "output_type": "stream",
     "text": [
      "Test at line 16 ok.\n",
      "Test at line 17 ok.\n",
      "Test at line 18 ok.\n",
      "Test at line 19 ok.\n",
      "Test at line 20 ok.\n"
     ]
    }
   ],
   "source": [
    "def is_odd(n):\n",
    "    \"\"\"\n",
    "    Return True if n is odd, and False if it's even.\n",
    "    \"\"\"\n",
    "    if isinstance(n, int):\n",
    "        result = not is_even(n)\n",
    "    else:\n",
    "        result = None\n",
    "    return result\n",
    "\n",
    "\n",
    "def test_suite():\n",
    "    \"\"\"\n",
    "    Test suite for the is_odd function.\n",
    "    \"\"\"\n",
    "    test(is_odd(1))\n",
    "    test(not is_odd(42))\n",
    "    test(is_odd('Hello') == None)\n",
    "    test(is_odd(None) == None)\n",
    "    test(is_odd(1.7) == None)\n",
    "\n",
    "\n",
    "test_suite()"
   ]
  },
  {
   "cell_type": "markdown",
   "metadata": {},
   "source": [
    "### 16\n",
    "\n",
    "Write a function, `is_factor(f, n)`, that passes these tests:\n",
    "\n",
    "```\n",
    "test(is_factor(3, 12))\n",
    "test(not is_factor(5, 12))\n",
    "test(is_factor(7, 14))\n",
    "test(not is_factor(7, 15))\n",
    "test(is_factor(1, 15))\n",
    "test(is_factor(15, 15))\n",
    "test(not is_factor(25, 15))\n",
    "```"
   ]
  },
  {
   "cell_type": "code",
   "execution_count": 28,
   "metadata": {},
   "outputs": [
    {
     "name": "stdout",
     "output_type": "stream",
     "text": [
      "Test at line 16 ok.\n",
      "Test at line 17 ok.\n",
      "Test at line 18 ok.\n",
      "Test at line 19 ok.\n",
      "Test at line 20 ok.\n",
      "Test at line 21 ok.\n",
      "Test at line 22 ok.\n",
      "Test at line 23 ok.\n",
      "Test at line 24 ok.\n",
      "Test at line 25 ok.\n",
      "Test at line 26 ok.\n",
      "Test at line 27 ok.\n"
     ]
    }
   ],
   "source": [
    "def is_factor(f, n):\n",
    "    \"\"\"\n",
    "    Return True if f is a factor of n, and False otherwise.\n",
    "    \"\"\"\n",
    "    if isinstance(n, int) and isinstance(f, int):\n",
    "        result = (n % f == 0)\n",
    "    else:\n",
    "        result = None\n",
    "    return result\n",
    "\n",
    "\n",
    "def test_suite():\n",
    "    \"\"\"\n",
    "    Test suite for the is_factor function.\n",
    "    \"\"\"\n",
    "    test(is_factor(3, 12))\n",
    "    test(not is_factor(5, 12))\n",
    "    test(is_factor(7, 14))\n",
    "    test(not is_factor(7, 15))\n",
    "    test(is_factor(1, 15))\n",
    "    test(is_factor(15, 15))\n",
    "    test(not is_factor(25, 15))\n",
    "    test(is_factor('Hello', 12) == None)\n",
    "    test(is_factor(3, 'Hello') == None)\n",
    "    test(is_factor(3, None) == None)\n",
    "    test(is_factor(None, 12) == None)\n",
    "    test(is_factor(1.7, 2) == None)\n",
    "\n",
    "test_suite()"
   ]
  },
  {
   "cell_type": "markdown",
   "metadata": {},
   "source": [
    "### 17\n",
    "\n",
    "Use `is_factor` to write a function, `is_multiple`, that satisfies these unit tests:\n",
    "\n",
    "```\n",
    "test(is_multiple(12, 3))\n",
    "test(is_multiple(12, 4))\n",
    "test(not is_multiple(12, 5))\n",
    "test(is_multiple(12, 6))\n",
    "test(not is_multiple(12, 7))\n",
    "```"
   ]
  },
  {
   "cell_type": "code",
   "execution_count": 29,
   "metadata": {},
   "outputs": [
    {
     "name": "stdout",
     "output_type": "stream",
     "text": [
      "Test at line 16 ok.\n",
      "Test at line 17 ok.\n",
      "Test at line 18 ok.\n",
      "Test at line 19 ok.\n",
      "Test at line 20 ok.\n",
      "Test at line 21 ok.\n",
      "Test at line 22 ok.\n",
      "Test at line 23 ok.\n",
      "Test at line 24 ok.\n",
      "Test at line 25 ok.\n",
      "Test at line 26 ok.\n"
     ]
    }
   ],
   "source": [
    "def is_multiple(m, n):\n",
    "    \"\"\"\n",
    "    Return True if n is a multiple of m, and False otherwise.\n",
    "    \"\"\"\n",
    "    if isinstance(n, int) and isinstance(m, int):\n",
    "        result = is_factor(n, m)\n",
    "    else:\n",
    "        result = None\n",
    "    return result\n",
    "\n",
    "\n",
    "def test_suite():\n",
    "    \"\"\"\n",
    "    Test suite for the is_multiple function.\n",
    "    \"\"\"\n",
    "    test(is_multiple(12, 3))\n",
    "    test(is_multiple(12, 4))\n",
    "    test(not is_multiple(12, 5))\n",
    "    test(is_multiple(12, 6))\n",
    "    test(not is_multiple(12, 7))\n",
    "    test(not is_factor(25, 15))\n",
    "    test(is_factor('Hello', 12) == None)\n",
    "    test(is_factor(3, 'Hello') == None)\n",
    "    test(is_factor(3, None) == None)\n",
    "    test(is_factor(None, 12) == None)\n",
    "    test(is_factor(1.7, 2) == None)\n",
    "\n",
    "test_suite()"
   ]
  },
  {
   "cell_type": "markdown",
   "metadata": {},
   "source": [
    "### 18\n",
    "\n",
    "Write the function `f2c(t)` designed to return the integer value of the nearest degree Celsius for given temperature in Fahrenheit.\n",
    "\n",
    "Test it with at least the following:\n",
    "\n",
    "```\n",
    "test(f2c(212) == 100)     # Boiling point of water\n",
    "test(f2c(32) == 0)        # Freezing point of water\n",
    "test(f2c(-40) == -40)     # Wow, what an interesting case!\n",
    "test(f2c(36) == 2)\n",
    "test(f2c(37) == 3)\n",
    "test(f2c(38) == 3)\n",
    "test(f2c(39) == 4)\n",
    "```"
   ]
  },
  {
   "cell_type": "code",
   "execution_count": 30,
   "metadata": {},
   "outputs": [
    {
     "name": "stdout",
     "output_type": "stream",
     "text": [
      "Test at line 12 ok.\n",
      "Test at line 13 ok.\n",
      "Test at line 14 ok.\n",
      "Test at line 15 ok.\n",
      "Test at line 16 ok.\n",
      "Test at line 17 ok.\n",
      "Test at line 18 ok.\n",
      "Test at line 19 ok.\n"
     ]
    }
   ],
   "source": [
    "def f2c(t):\n",
    "    \"\"\"\n",
    "    Return the value in Celsius for f in Farenheit\n",
    "    \"\"\"\n",
    "    return round((t - 32) * (5/9), 0)\n",
    "\n",
    "\n",
    "def test_suite():\n",
    "    \"\"\"\n",
    "    Test suite for the f2c function.\n",
    "    \"\"\"\n",
    "    test(f2c(212) == 100)     # Boiling point of water\n",
    "    test(f2c(32) == 0)        # Freezing point of water\n",
    "    test(f2c(-40) == -40)     # Wow, what an interesting case!\n",
    "    test(f2c(36) == 2)\n",
    "    test(f2c(37) == 3)\n",
    "    test(f2c(38) == 3)\n",
    "    test(f2c(39) == 4)\n",
    "    test(f2c(42) == 6)\n",
    "\n",
    "test_suite()"
   ]
  },
  {
   "cell_type": "markdown",
   "metadata": {},
   "source": [
    "### 19\n",
    "\n",
    "Now do the opposite: write the function `c2f` which converts Celsius to Fahrenheit.\n",
    "\n",
    "It must pass these tests:\n",
    "\n",
    "```\n",
    "test(c2f(0) == 32)\n",
    "test(c2f(100) == 212)\n",
    "test(c2f(-40) == -40)\n",
    "test(c2f(12) == 54)\n",
    "test(c2f(18) == 64)\n",
    "test(c2f(-48) == -54)\n",
    "```"
   ]
  },
  {
   "cell_type": "code",
   "execution_count": 31,
   "metadata": {},
   "outputs": [
    {
     "name": "stdout",
     "output_type": "stream",
     "text": [
      "Test at line 12 ok.\n",
      "Test at line 13 ok.\n",
      "Test at line 14 ok.\n",
      "Test at line 15 ok.\n",
      "Test at line 16 ok.\n",
      "Test at line 17 ok.\n"
     ]
    }
   ],
   "source": [
    "def c2f(t):\n",
    "    \"\"\"\n",
    "    Return the value in Celsius for f in Farenheit\n",
    "    \"\"\"\n",
    "    return round((t * 9 / 5) + 32, 0)\n",
    "\n",
    "\n",
    "def test_suite():\n",
    "    \"\"\"\n",
    "    Test suite for the c2f function.\n",
    "    \"\"\"\n",
    "    test(c2f(0) == 32)\n",
    "    test(c2f(100) == 212)\n",
    "    test(c2f(-40) == -40)\n",
    "    test(c2f(12) == 54)\n",
    "    test(c2f(18) == 64)\n",
    "    test(c2f(-48) == -54)\n",
    "\n",
    "test_suite()"
   ]
  }
 ],
 "metadata": {
  "kernelspec": {
   "display_name": "Python 3",
   "language": "python",
   "name": "python3"
  },
  "language_info": {
   "codemirror_mode": {
    "name": "ipython",
    "version": 3
   },
   "file_extension": ".py",
   "mimetype": "text/x-python",
   "name": "python",
   "nbconvert_exporter": "python",
   "pygments_lexer": "ipython3",
   "version": "3.6.4"
  }
 },
 "nbformat": 4,
 "nbformat_minor": 4
}
