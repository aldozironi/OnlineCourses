{
 "cells": [
  {
   "cell_type": "markdown",
   "metadata": {},
   "source": [
    "# Chapter 7: Iteration\n",
    "\n",
    "**Iteration** is the repeated execution of a set of statements. Examples of structures that allow you to iterate are `for` and `while` statements.\n",
    "\n",
    "## Revisiting Variable Assignment\n",
    "\n",
    "**Reminder:**\n",
    "\n",
    "1. The assignment statement is denoted by the use of the `=` token.\n",
    "2. You can reassign values to the same variable, changing the value it takes.\n",
    "\n",
    "A **variable  update** is a form of reassignation where the new value of a variable depends on its previous value. For example:"
   ]
  },
  {
   "cell_type": "code",
   "execution_count": 1,
   "metadata": {},
   "outputs": [
    {
     "name": "stdout",
     "output_type": "stream",
     "text": [
      "Example 1:\n",
      "Variable n has a value of 5.\n",
      "Variable n has a value of 16.\n",
      "\n",
      "Example 2:\n",
      "Variable i has a value of 1.\n",
      "Variable i has a value of 2.\n"
     ]
    }
   ],
   "source": [
    "# Example 1:\n",
    "print('Example 1:')\n",
    "n = 5  # Original value\n",
    "print(f'Variable n has a value of {n}.')\n",
    "n = 3 * n + 1  # Updated value\n",
    "print(f'Variable n has a value of {n}.')\n",
    "\n",
    "# Example 2:\n",
    "print('\\nExample 2:')\n",
    "i = 1  # Original value\n",
    "print(f'Variable i has a value of {i}.')\n",
    "i += 1  # Updated value\n",
    "print(f'Variable i has a value of {i}.')"
   ]
  },
  {
   "cell_type": "markdown",
   "metadata": {},
   "source": [
    "In example 2 de added 1 to the original value of the variable. This kind of update is so used it has a special name: **incrementing a variable**. Similarly, **decrementing a variable** means subtracting 1 from it's current value.\n",
    "\n",
    "**Initializing a variable** refers to creating a variable with a starting value so that it can be updated later on.\n",
    "\n",
    "\n",
    "## The For Loop\n",
    "\n",
    "As we've seen, the `for` loop processes each item in a list. This is called **traversing the list**. Behind the scenes, what the `for` loop does is creating a **loop variable** and, in each iteration, reassigning it the next value in the list.\n",
    "\n",
    "For example, in the following code, `name` is the loop variable."
   ]
  },
  {
   "cell_type": "code",
   "execution_count": 2,
   "metadata": {},
   "outputs": [
    {
     "name": "stdout",
     "output_type": "stream",
     "text": [
      "Hi Joe.  Please come to my party on Saturday!\n",
      "Hi Zoe.  Please come to my party on Saturday!\n",
      "Hi Brad.  Please come to my party on Saturday!\n",
      "Hi Angelina.  Please come to my party on Saturday!\n",
      "Hi Zuki.  Please come to my party on Saturday!\n",
      "Hi Thandi.  Please come to my party on Saturday!\n",
      "Hi Paris.  Please come to my party on Saturday!\n"
     ]
    }
   ],
   "source": [
    "for name in [\"Joe\", \"Zoe\", \"Brad\", \"Angelina\", \"Zuki\", \"Thandi\", \"Paris\"]:\n",
    "    invitation = f\"Hi {name}.  Please come to my party on Saturday!\"\n",
    "    print(invitation)"
   ]
  },
  {
   "cell_type": "markdown",
   "metadata": {},
   "source": [
    "## The While Loop\n",
    "\n",
    "Python provides a different form of looping, called the `while` statement. It has the following flow:\n",
    "\n",
    "1. Evaluate a boolean condition.\n",
    "2. If condition evaluates to `False`, exit the statement.\n",
    "3. If condition evaluates to `True`, execute the body.\n",
    "\n",
    "**Important:** The body of a `while` statement must _always_ change a value relating to the condition, so that there comes a moment when the condition evaluates to `False`. If that's not the case, the program will get stuck in an **infinite loop**.\n",
    "\n",
    "Example:"
   ]
  },
  {
   "cell_type": "code",
   "execution_count": 3,
   "metadata": {},
   "outputs": [],
   "source": [
    "def sum_to(n):\n",
    "    \"\"\" Return the sum of 1+2+3 ... n \"\"\"\n",
    "    ss  = 0\n",
    "    v = 1\n",
    "    while v <= n:\n",
    "        ss = ss + v\n",
    "        v = v + 1\n",
    "    return ss\n",
    "\n",
    "assert sum_to(4) == 10\n",
    "assert sum_to(1000) == 500500"
   ]
  },
  {
   "cell_type": "markdown",
   "metadata": {},
   "source": [
    "## For vs. While\n",
    "\n",
    "1. In general, `for` loops are simpler to write because you don't have to manage the loop variable yourself.\n",
    "2. `for` loops are protected against infinite loops. In `while` loops you have to be very careful not to create an infinite loop.\n",
    "3. `for` loops require you to know _a priori_ an upper bound to the number of iteration to perform.\n",
    "\n",
    "Example: Let $n_0$ be a positive integer and consider the following rules to generate a sequence:\n",
    "\n",
    "1. If $n_t\\, \\%\\, 2 = 0$ then $n_{t+1} = n_t\\, /\\, 2$\n",
    "2. If $n_t\\, \\%\\, 2 = 1$ and  $n_t\\, \\neq 1$ then $n_{t+1} = 3 * n_t\\, + 1$\n",
    "3. If $n_t\\, = 1$ then stop.\n",
    "\n",
    "The _Collatz Conjecture_ states that the stop criterion will occur for any $n_0$. If you were to test it by _brute force_ (testing every possible value) using a computer, you can't have an upper bpund for the number of iterations, since numbers grow arbitrarily large."
   ]
  },
  {
   "cell_type": "code",
   "execution_count": 4,
   "metadata": {},
   "outputs": [
    {
     "name": "stdout",
     "output_type": "stream",
     "text": [
      "111, 334, 167, 502, 251, 754, 377, 1132, 566, 283, 850, 425, 1276, 638, 319, 958, 479, 1438, 719, 2158, 1079, 3238, 1619, 4858, 2429, 7288, 3644, 1822, 911, 2734, 1367, 4102, 2051, 6154, 3077, 9232, 4616, 2308, 1154, 577, 1732, 866, 433, 1300, 650, 325, 976, 488, 244, 122, 61, 184, 92, 46, 23, 70, 35, 106, 53, 160, 80, 40, 20, 10, 5, 16, 8, 4, 2, 1.\n"
     ]
    }
   ],
   "source": [
    "def seq3np1(n):\n",
    "    \"\"\" Print the 3n+1 sequence from n,\n",
    "        terminating when it reaches 1.\n",
    "    \"\"\"\n",
    "    while n != 1:\n",
    "        print(n, end=\", \")\n",
    "        if n % 2 == 0:        # n is even\n",
    "            n = n // 2\n",
    "        else:                 # n is odd\n",
    "            n = n * 3 + 1\n",
    "    print(n, end=\".\\n\")\n",
    "    \n",
    "seq3np1(111)"
   ]
  },
  {
   "cell_type": "markdown",
   "metadata": {},
   "source": [
    "## Tracing a Program\n",
    "\n",
    "**Tracing** refers to the process of following the execution of a program as if you were the computer, recording the state of all variables and any output the program generates after each instruction is executed.\n",
    "\n",
    "There are several tools that allow you to trace a program without doing the work by hand, chief among which are the `pdb` and `pudb` libraries, as well as Python's built-in debugger.\n",
    "\n",
    "\n",
    "## Encapsulation and Generalization\n",
    "\n",
    "**Encapsulation** is the process of wrapping a piece of working code into a function.\n",
    "\n",
    "**Generalization** is the process of changing a program that works for a single case in such a way that it works in more general cases.\n",
    "\n",
    "These two concepts are commonly used in development plans where you don't know _a priori_ how to divide the program into functions:\n",
    "\n",
    "1. Start creating pieces of the progam outside of functions.\n",
    "2. Test that it works.\n",
    "3. Once it's working, encapsulate into functions.\n",
    "4. Write unit tests\n",
    "4. Can it be generalized?\n",
    "\n",
    "\n",
    "## The Break Statement\n",
    "\n",
    "The `break` statement is a tool Python has to stop the execution of a loop. Example:"
   ]
  },
  {
   "cell_type": "code",
   "execution_count": 5,
   "metadata": {},
   "outputs": [
    {
     "name": "stdout",
     "output_type": "stream",
     "text": [
      "12\n",
      "16\n",
      "done\n"
     ]
    }
   ],
   "source": [
    "for i in [12, 16, 17, 24, 29]:\n",
    "    if i % 2 == 1:  # If the number is odd\n",
    "        break        #  ... immediately exit the loop\n",
    "    print(i)\n",
    "print(\"done\")"
   ]
  },
  {
   "cell_type": "markdown",
   "metadata": {},
   "source": [
    "`break` statements allow us to move the point at which we're testing to stop the iteration to a point other than the beginning of the block.\n",
    "\n",
    "\n",
    "## The Continue Statement\n",
    "\n",
    "Another tool to control the flow of execution of a loop is the `continue` statement. It tells Python to skip the rest of the current iteration without exiting the loop:"
   ]
  },
  {
   "cell_type": "code",
   "execution_count": 6,
   "metadata": {},
   "outputs": [
    {
     "name": "stdout",
     "output_type": "stream",
     "text": [
      "12\n",
      "16\n",
      "24\n",
      "30\n",
      "done\n"
     ]
    }
   ],
   "source": [
    "for i in [12, 16, 17, 24, 29, 30]:\n",
    "    if i % 2 == 1:      # If the number is odd\n",
    "        continue         # Don't process it\n",
    "    print(i)\n",
    "print(\"done\")"
   ]
  },
  {
   "cell_type": "markdown",
   "metadata": {},
   "source": [
    "## Tuples in Loops\n",
    "\n",
    "Python allows you to group data using parentheses. This structure is called a **tuple*, and you can **un-pack** it (separating it into its component parts) to generate groups of loop variables:"
   ]
  },
  {
   "cell_type": "code",
   "execution_count": 7,
   "metadata": {},
   "outputs": [
    {
     "name": "stdout",
     "output_type": "stream",
     "text": [
      "John takes 2 courses\n",
      "Vusi takes 3 courses\n",
      "Jess takes 4 courses\n",
      "Sarah takes 4 courses\n",
      "Zuki takes 5 courses\n",
      "The number of students taking CompSci is 3\n"
     ]
    }
   ],
   "source": [
    "students = [\n",
    "    (\"John\", [\"CompSci\", \"Physics\"]),\n",
    "    (\"Vusi\", [\"Maths\", \"CompSci\", \"Stats\"]),\n",
    "    (\"Jess\", [\"CompSci\", \"Accounting\", \"Economics\", \"Management\"]),\n",
    "    (\"Sarah\", [\"InfSys\", \"Accounting\", \"Economics\", \"CommLaw\"]),\n",
    "    (\"Zuki\", [\"Sociology\", \"Economics\", \"Law\", \"Stats\", \"Music\"])]\n",
    "\n",
    "# Print all students with a count of their courses.\n",
    "for (name, subjects) in students:\n",
    "    print(name, \"takes\", len(subjects), \"courses\")\n",
    "    \n",
    "# Count how many students are taking CompSci\n",
    "counter = 0\n",
    "for (name, subjects) in students:\n",
    "    for s in subjects:                 # A nested loop!\n",
    "        if s == \"CompSci\":\n",
    "            counter += 1\n",
    "\n",
    "print(\"The number of students taking CompSci is\", counter)"
   ]
  },
  {
   "cell_type": "markdown",
   "metadata": {},
   "source": [
    "## Example Use Cases of Loops\n",
    "\n",
    "Next, we'll see loops in action by showing two use cases:\n",
    "\n",
    "1. Building multiplication tables.\n",
    "2. Newton's algorithm for finding square roots.\n",
    "\n",
    "\n",
    "### Building Multiplication Tables.\n",
    "\n",
    "To print multiplication tables, we'll work one row at a time. The number of rows will depend on the number we receive."
   ]
  },
  {
   "cell_type": "code",
   "execution_count": 8,
   "metadata": {},
   "outputs": [
    {
     "name": "stdout",
     "output_type": "stream",
     "text": [
      "1   2   3   4   5   6   7   \n",
      "2   4   6   8   10   12   14   \n",
      "3   6   9   12   15   18   21   \n",
      "4   8   12   16   20   24   28   \n",
      "5   10   15   20   25   30   35   \n",
      "6   12   18   24   30   36   42   \n",
      "7   14   21   28   35   42   49   \n"
     ]
    }
   ],
   "source": [
    "def print_multiples(n, high):\n",
    "    \"\"\"\n",
    "    Print a row of a multiplication table.\n",
    "    \"\"\"\n",
    "    for i in range(1, high+1):\n",
    "        # Build row by multiplying n i times\n",
    "        print(n * i, end=\"   \")\n",
    "    print()\n",
    "\n",
    "def print_mult_table(max_num):\n",
    "    \"\"\"\n",
    "    Build a multiplication table.\n",
    "    \"\"\"\n",
    "    for i in range(1, max_num+1):\n",
    "        print_multiples(i, max_num)\n",
    "        \n",
    "print_mult_table(7)"
   ]
  },
  {
   "cell_type": "markdown",
   "metadata": {},
   "source": [
    "### Newton's Algorithm for Finding Square Roots\n",
    "\n",
    "Imagine you want to compute the square root of $x$, i.e., you want to find $y$ such that\n",
    "\n",
    "$$y^2 = x.$$\n",
    "\n",
    "Now, take $y_0$ an _approximation_ of the solution, meaning that $y_0$ fulfills:\n",
    "\n",
    "$$|y_0^2  - x| = \\epsilon_0$$\n",
    "\n",
    "for some $\\epsilon_0 > 0$. Then you can improve the estimation by computing $y_1$ as follows:\n",
    "\n",
    "$$y_1 = \\frac{1}{2} \\left( y_0 + \\frac{y_0}{x} \\right).$$\n",
    "\n",
    "Then $y_1$ will fullfill\n",
    "\n",
    "$$|y_1^2  - x| = \\epsilon_1$$\n",
    "\n",
    "with $\\epsilon_1 < \\epsilon_0$.\n",
    "\n",
    "Now, since $y_1$ is an approximation, you can use the formula to compute a new value, $y_2$ that's a better approximation to $y$. Thus, the following algorithm can be used to find a number _close enough to be indistinguishable_ to the square root of $x$:\n",
    "\n",
    "1. $y_0 = x/2$. (We can use any initial guess).\n",
    "2. While $|y_{n+1} - y_{n}| > \\epsilon$:\n",
    "   \n",
    "   2.1. $y_{n+1} = \\frac{1}{2} \\left( y_n + \\frac{y_n}{x} \\right).$\n",
    "3. End.\n",
    "\n",
    "Note that the algorithm uses a parameter, $\\epsilon$. This parameter measures the distance between two approximations. The idea is that once the differences start being _too small_, further iterations won't improve the results."
   ]
  },
  {
   "cell_type": "code",
   "execution_count": 9,
   "metadata": {},
   "outputs": [
    {
     "name": "stdout",
     "output_type": "stream",
     "text": [
      "5.0\n",
      "7.0\n",
      "9.0\n"
     ]
    }
   ],
   "source": [
    "EPSILON = 1e-6\n",
    "\n",
    "def newton_sqrt(n):\n",
    "    approx = n/2.0     # Start with some guess at the answer\n",
    "    while True:\n",
    "        better = (approx + n/approx)/2.0\n",
    "        if abs(approx - better) < EPSILON:\n",
    "            return better\n",
    "        approx = better\n",
    "\n",
    "# Test cases\n",
    "print(newton_sqrt(25.0))\n",
    "print(newton_sqrt(49.0))\n",
    "print(newton_sqrt(81.0))"
   ]
  },
  {
   "cell_type": "markdown",
   "metadata": {},
   "source": [
    "## Excercises\n",
    "\n",
    "### 1\n",
    "\n",
    "Write a function to count how many odd numbers are in a list."
   ]
  },
  {
   "cell_type": "code",
   "execution_count": 10,
   "metadata": {},
   "outputs": [],
   "source": [
    "def count_odds(list_data):\n",
    "    \"\"\"\n",
    "    Count the number of odd numbers in a list.\n",
    "    \"\"\"\n",
    "    # Initiallize the counter\n",
    "    count = 0\n",
    "    # Iterate through list\n",
    "    for item in list_data:\n",
    "        # Count desired cases\n",
    "        if item % 2 == 1: \n",
    "            count += 1\n",
    "    return count\n",
    "\n",
    "assert count_odds([1, 2, 3, 4, 5]) == 3\n",
    "assert count_odds([0]) == 0\n",
    "assert count_odds([]) == 0"
   ]
  },
  {
   "cell_type": "markdown",
   "metadata": {},
   "source": [
    "### 2\n",
    "\n",
    "Sum up all the even numbers in a list."
   ]
  },
  {
   "cell_type": "code",
   "execution_count": 11,
   "metadata": {},
   "outputs": [],
   "source": [
    "def sum_evens(list_data):\n",
    "    \"\"\"\n",
    "    Sum all even numbers in a list.\n",
    "    \"\"\"\n",
    "    # Initiallize the sum\n",
    "    running_sum = 0\n",
    "    # Iterate through list\n",
    "    for item in list_data:\n",
    "        # Sum values of desired cases\n",
    "        if item % 2 == 0:\n",
    "            running_sum += item\n",
    "    return running_sum\n",
    "\n",
    "assert sum_evens([1, 2, 3, 4, 5]) == 6\n",
    "assert sum_evens([0]) == 0\n",
    "assert sum_evens([1]) == 0\n",
    "assert sum_evens([2]) == 2\n",
    "assert sum_evens([]) == 0"
   ]
  },
  {
   "cell_type": "markdown",
   "metadata": {},
   "source": [
    "### 3\n",
    "\n",
    "Sum up all the negative numbers in a list."
   ]
  },
  {
   "cell_type": "code",
   "execution_count": 12,
   "metadata": {},
   "outputs": [],
   "source": [
    "def sum_negatives(list_data):\n",
    "    \"\"\"\n",
    "    Sum negative numbers in a list.\n",
    "    \"\"\" \n",
    "    # Initiallize the sum\n",
    "    running_sum = 0\n",
    "    # Iterate through list\n",
    "    for item in list_data:\n",
    "        # Sum values of desired cases\n",
    "        if item < 0:\n",
    "            running_sum += item\n",
    "    return running_sum\n",
    "\n",
    "assert sum_negatives([1, -2, 3, -4, 5]) == -6\n",
    "assert sum_negatives([0]) == 0\n",
    "assert sum_negatives([-1]) == -1\n",
    "assert sum_negatives([2]) == 0\n",
    "assert sum_negatives([]) == 0"
   ]
  },
  {
   "cell_type": "markdown",
   "metadata": {},
   "source": [
    "### 4\n",
    "\n",
    "Count how many words in a list have length 5."
   ]
  },
  {
   "cell_type": "code",
   "execution_count": 13,
   "metadata": {},
   "outputs": [],
   "source": [
    "def count_words_of_length(list_data, n):\n",
    "    \"\"\"\n",
    "    Count the number of words in a list with length n.\n",
    "    \"\"\" \n",
    "    # Initiallize the counter\n",
    "    count = 0\n",
    "    # Iterate through list\n",
    "    for item in list_data:\n",
    "        # Count desired cases\n",
    "        if len(item) == n:\n",
    "            count += 1\n",
    "    return count\n",
    "\n",
    "assert count_words_of_length(['python', 'rocks', 'soft', 'five', 'four'], 5) == 1\n",
    "assert count_words_of_length(['no', 'words', 'of', 'length', 'one'], 1) == 0"
   ]
  },
  {
   "cell_type": "markdown",
   "metadata": {},
   "source": [
    "### 5\n",
    "\n",
    "Sum all the elements in a list up to but not including the first even number. (Write your unit tests. What if there is no even number?)"
   ]
  },
  {
   "cell_type": "code",
   "execution_count": 14,
   "metadata": {},
   "outputs": [],
   "source": [
    "def sum_to_even(list_data):\n",
    "    \"\"\"\n",
    "    Sum elements in a list up to the first even number.\n",
    "    \"\"\" \n",
    "    # Initiallize the sum\n",
    "    running_sum = 0\n",
    "    # Iterate through list\n",
    "    for item in list_data:\n",
    "        # Check for break condition\n",
    "        if item % 2 == 0:\n",
    "            break\n",
    "        # Sum number if still in loop\n",
    "        running_sum += item\n",
    "    return running_sum\n",
    "\n",
    "assert sum_to_even([1, -2, 3, -4, 5]) == 1\n",
    "assert sum_to_even([0]) == 0\n",
    "assert sum_to_even([0, 2, 4]) == 0\n",
    "assert sum_to_even([-1]) == -1\n",
    "assert sum_to_even([]) == 0\n",
    "assert sum_to_even([1, 1, 3, 1, 5]) == 11"
   ]
  },
  {
   "cell_type": "markdown",
   "metadata": {},
   "source": [
    "### 6\n",
    "\n",
    "Count how many words occur in a list up to and including the first occurrence of the word “sam”. (Write your unit tests for this case too. What if “sam” does not occur?)"
   ]
  },
  {
   "cell_type": "code",
   "execution_count": 15,
   "metadata": {},
   "outputs": [],
   "source": [
    "def count_to_sam(list_data):\n",
    "    \"\"\"\n",
    "    Count the number of words in a list up to (and including the first occurence of \"sam\").\n",
    "    \"\"\" \n",
    "    # Initiallize the counter\n",
    "    count = 0\n",
    "    # Iterate through list\n",
    "    for item in list_data:\n",
    "        # Count the word\n",
    "        count += 1\n",
    "        # Check for break condition\n",
    "        if item == 'sam':\n",
    "            break\n",
    "    return count\n",
    "\n",
    "assert count_to_sam(['python', 'sam', 'word']) == 2\n",
    "assert count_to_sam(['lorem']) == 1\n",
    "assert count_to_sam(['sam']) == 1\n",
    "assert count_to_sam(['multiple', 'sam', 'sam']) == 2\n",
    "assert count_to_sam([]) == 0"
   ]
  },
  {
   "cell_type": "markdown",
   "metadata": {},
   "source": [
    "### 7\n",
    "\n",
    "Add a print function to Newton’s sqrt function that prints out better each time it is calculated. Call your modified function with 25 as an argument and record the results"
   ]
  },
  {
   "cell_type": "code",
   "execution_count": 16,
   "metadata": {},
   "outputs": [
    {
     "name": "stdout",
     "output_type": "stream",
     "text": [
      "Current value of better: 7.25\n",
      "Current value of better: 5.349137931034482\n",
      "Current value of better: 5.011394106532552\n",
      "Current value of better: 5.000012953048684\n",
      "Current value of better: 5.000000000016778\n",
      "Current value of better: 5.0\n"
     ]
    },
    {
     "data": {
      "text/plain": [
       "5.0"
      ]
     },
     "execution_count": 16,
     "metadata": {},
     "output_type": "execute_result"
    }
   ],
   "source": [
    "EPSILON = 1e-6\n",
    "\n",
    "def newton_sqrt(n):\n",
    "    approx = n/2.0     # Start with some guess at the answer\n",
    "    while True:\n",
    "        better = (approx + n/approx)/2.0\n",
    "        print(f'Current value of better: {better}')\n",
    "        if abs(approx - better) < EPSILON:\n",
    "            return better\n",
    "        approx = better\n",
    "\n",
    "newton_sqrt(25.0)"
   ]
  },
  {
   "cell_type": "markdown",
   "metadata": {},
   "source": [
    "### 8\n",
    "\n",
    "Trace the execution of the last version of print_mult_table and figure out how it works."
   ]
  },
  {
   "cell_type": "code",
   "execution_count": 17,
   "metadata": {},
   "outputs": [
    {
     "name": "stdout",
     "output_type": "stream",
     "text": [
      "> <ipython-input-17-25ce4d923837>(17)print_mult_table()\n",
      "-> for i in range(1, max_num+1):\n"
     ]
    },
    {
     "name": "stdin",
     "output_type": "stream",
     "text": [
      "(Pdb)  ll\n"
     ]
    },
    {
     "name": "stdout",
     "output_type": "stream",
     "text": [
      " 12  \tdef print_mult_table(max_num):\n",
      " 13  \t    \"\"\"\n",
      " 14  \t    Build a multiplication table.\n",
      " 15  \t    \"\"\"\n",
      " 16  \t    set_trace()\n",
      " 17  ->\t    for i in range(1, max_num+1):\n",
      " 18  \t        print_multiples(i, max_num)\n"
     ]
    },
    {
     "name": "stdin",
     "output_type": "stream",
     "text": [
      "(Pdb)  max_num\n"
     ]
    },
    {
     "name": "stdout",
     "output_type": "stream",
     "text": [
      "7\n"
     ]
    },
    {
     "name": "stdin",
     "output_type": "stream",
     "text": [
      "(Pdb)  n\n"
     ]
    },
    {
     "name": "stdout",
     "output_type": "stream",
     "text": [
      "> <ipython-input-17-25ce4d923837>(18)print_mult_table()\n",
      "-> print_multiples(i, max_num)\n"
     ]
    },
    {
     "name": "stdin",
     "output_type": "stream",
     "text": [
      "(Pdb)  i\n"
     ]
    },
    {
     "name": "stdout",
     "output_type": "stream",
     "text": [
      "1\n"
     ]
    },
    {
     "name": "stdin",
     "output_type": "stream",
     "text": [
      "(Pdb)  n\n"
     ]
    },
    {
     "name": "stdout",
     "output_type": "stream",
     "text": [
      "1   2   3   4   5   6   7   \n",
      "> <ipython-input-17-25ce4d923837>(17)print_mult_table()\n",
      "-> for i in range(1, max_num+1):\n"
     ]
    },
    {
     "name": "stdin",
     "output_type": "stream",
     "text": [
      "(Pdb)  c\n"
     ]
    },
    {
     "name": "stdout",
     "output_type": "stream",
     "text": [
      "2   4   6   8   10   12   14   \n",
      "3   6   9   12   15   18   21   \n",
      "4   8   12   16   20   24   28   \n",
      "5   10   15   20   25   30   35   \n",
      "6   12   18   24   30   36   42   \n",
      "7   14   21   28   35   42   49   \n"
     ]
    }
   ],
   "source": [
    "from pdb import set_trace\n",
    "\n",
    "def print_multiples(n, high):\n",
    "    \"\"\"\n",
    "    Print a row of a multiplication table.\n",
    "    \"\"\"\n",
    "    for i in range(1, high+1):\n",
    "        # Build row by multiplying n i times\n",
    "        print(n * i, end=\"   \")\n",
    "    print()\n",
    "\n",
    "def print_mult_table(max_num):\n",
    "    \"\"\"\n",
    "    Build a multiplication table.\n",
    "    \"\"\"\n",
    "    set_trace()\n",
    "    for i in range(1, max_num+1):\n",
    "        print_multiples(i, max_num)\n",
    "        \n",
    "print_mult_table(7)"
   ]
  },
  {
   "cell_type": "markdown",
   "metadata": {},
   "source": [
    "### 9\n",
    "\n",
    "Write a function, `print_triangular_numbers(n)`, that prints out the first $n$ triangular numbers"
   ]
  },
  {
   "cell_type": "code",
   "execution_count": 18,
   "metadata": {},
   "outputs": [
    {
     "name": "stdout",
     "output_type": "stream",
     "text": [
      "1 \t 1\n",
      "2 \t 3\n",
      "3 \t 6\n",
      "4 \t 10\n",
      "5 \t 15\n"
     ]
    }
   ],
   "source": [
    "def print_triangular_numbers(n):\n",
    "    \"\"\"\n",
    "    Print the first n triangular numbers.\n",
    "    \"\"\"\n",
    "    for i in range(1, n+1):\n",
    "        print(i, '\\t', sum_to(i))\n",
    "    \n",
    "print_triangular_numbers(5)"
   ]
  },
  {
   "cell_type": "markdown",
   "metadata": {},
   "source": [
    "### 10\n",
    "\n",
    "Write a function, `is_prime`, which takes a single integer argument and returns `True` when the argument is a prime number and `False` otherwise."
   ]
  },
  {
   "cell_type": "code",
   "execution_count": 19,
   "metadata": {},
   "outputs": [],
   "source": [
    "from math import sqrt, ceil\n",
    "\n",
    "def is_prime(n):\n",
    "    \"\"\"\n",
    "    Compute whether a number is prime or not.\n",
    "    \"\"\"\n",
    "    \n",
    "    # Handle the case for the first two numbers\n",
    "    if n <= 2:\n",
    "        return True\n",
    "    \n",
    "    # Check all possible factors\n",
    "    for possible_factor in range(2, ceil(sqrt(n))):\n",
    "        # If the possible factor actually is a factor\n",
    "        if n % possible_factor == 0:\n",
    "            # Number is not prime and we don't need to keep going\n",
    "            return False\n",
    "    # If there are no factors, n is prime\n",
    "    return True\n",
    "\n",
    "assert is_prime(11)\n",
    "assert not is_prime(35)\n",
    "assert is_prime(2)\n",
    "assert is_prime(19911121)"
   ]
  },
  {
   "cell_type": "markdown",
   "metadata": {},
   "source": [
    "### 11\n",
    "\n",
    "Revisit the drunk pirate problem from the exercises in chapter 3. This time, the drunk pirate makes a turn, and then takes some steps forward, and repeats this. Our social science student now records pairs of data: the angle of each turn, and the number of steps taken after the turn. Her experimental data is\n",
    "\n",
    "`[(160, 20), (-43, 10), (270, 8), (-43, 12)]`.\n",
    "\n",
    "Use a turtle to draw the path taken by our drunk friend."
   ]
  },
  {
   "cell_type": "code",
   "execution_count": 1,
   "metadata": {},
   "outputs": [],
   "source": [
    "import turtle\n",
    "\n",
    "paired_data = [(160, 20), (-43, 10), (270, 8), (-43, 12)]\n",
    "\n",
    "# Initialize the screen.\n",
    "wn = turtle.Screen()\n",
    "\n",
    "# Initialize turtle.\n",
    "tess = turtle.Turtle()\n",
    "\n",
    "# Walk the walk\n",
    "for angle, step in paired_data:\n",
    "    tess.left(angle)\n",
    "    tess.forward(step)\n",
    "    "
   ]
  },
  {
   "cell_type": "markdown",
   "metadata": {},
   "source": [
    "### 12\n",
    "\n",
    "Many interesting shapes can be drawn by the turtle by giving a list of pairs like we did above, where the first item of the pair is the angle to turn, and the second item is the distance to move forward. Set up a list of pairs so that the turtle draws a house with a cross through the centre, as show here. This should be done without going over any of the lines / edges more than once, and without lifting your pen."
   ]
  },
  {
   "cell_type": "code",
   "execution_count": 1,
   "metadata": {},
   "outputs": [],
   "source": [
    "import turtle\n",
    "from math import sqrt\n",
    "\n",
    "house_size = 100  # Define the size of the house to build\n",
    "cross_size = 100 * sqrt(2)  # Size of the crossing lines\n",
    "\n",
    "paired_data = [\n",
    "    (90, house_size),  # First wall\n",
    "    (-30, house_size),  # First side of the roof\n",
    "    (-120, house_size),  # Second side of the roof\n",
    "    (-120, house_size),  # Ceiling\n",
    "    (135, cross_size),  # First cross\n",
    "    (135, house_size),  # Second wall\n",
    "    (135, cross_size),  # Second cross\n",
    "    (135, house_size),  # Floor\n",
    "]\n",
    "\n",
    "# Initialize the screen.\n",
    "wn = turtle.Screen()\n",
    "\n",
    "# Initialize turtle.\n",
    "tess = turtle.Turtle()\n",
    "\n",
    "# Walk the walk\n",
    "for angle, step in paired_data:\n",
    "    tess.left(angle)\n",
    "    tess.forward(step)\n",
    "    "
   ]
  },
  {
   "cell_type": "markdown",
   "metadata": {},
   "source": [
    "### 13\n",
    "\n",
    "Not all shapes like the one above can be drawn without lifting your pen, or going over an edge more than once. Which of these can be drawn?\n",
    "\n",
    "![pattern](images/patterns_exercise_7-13.png)\n",
    "\n",
    "#### Answer\n",
    "\n",
    "The patterns that can be traced without lifting the pencil or crossing multiple times by the same point are:\n",
    "\n",
    "* 2\n",
    "* 6\n",
    "\n",
    "### 14\n",
    "\n",
    "Write a function, `num_digits`, that counts the number of digits in a number."
   ]
  },
  {
   "cell_type": "code",
   "execution_count": 20,
   "metadata": {},
   "outputs": [],
   "source": [
    "def num_digits(n):\n",
    "    \"\"\"\n",
    "    Count the number of digits in the number n.\n",
    "    \"\"\"\n",
    "    count = 0\n",
    "    n = abs(n)\n",
    "    while True:\n",
    "        count = count + 1\n",
    "        n = n // 10\n",
    "        if n == 0:\n",
    "            break\n",
    "    return count\n",
    "\n",
    "assert num_digits(123) == 3\n",
    "assert num_digits(0) == 1\n",
    "assert num_digits(-4888) == 4\n",
    "assert num_digits(-12345) == 5"
   ]
  },
  {
   "cell_type": "markdown",
   "metadata": {},
   "source": [
    "### 15\n",
    "\n",
    "Write a function, `num_even_digits(n)` that counts the number of even digits in `n`."
   ]
  },
  {
   "cell_type": "code",
   "execution_count": 21,
   "metadata": {},
   "outputs": [],
   "source": [
    "def num_even_digits(n):\n",
    "    \"\"\"\n",
    "    Count the number of even digits in the number n.\n",
    "    \"\"\"\n",
    "    count = 0\n",
    "    n = abs(n)\n",
    "    while True:\n",
    "        if n % 2 == 0:\n",
    "            count = count + 1\n",
    "        n = n // 10\n",
    "        if n == 0:\n",
    "            break\n",
    "    return count\n",
    "\n",
    "assert num_even_digits(123456) == 3\n",
    "assert num_even_digits(2468) == 4\n",
    "assert num_even_digits(1357) == 0\n",
    "assert num_even_digits(0) == 1"
   ]
  },
  {
   "cell_type": "markdown",
   "metadata": {},
   "source": [
    "### 16\n",
    "\n",
    "Write a function, `sum_of_squares(xs)`, that computes the sum of the squares of the numbers in the list `xs`."
   ]
  },
  {
   "cell_type": "code",
   "execution_count": 22,
   "metadata": {},
   "outputs": [],
   "source": [
    "def sum_of_squares(xs):\n",
    "    \"\"\"\n",
    "    Sum the squares of elements in a list.\n",
    "    \"\"\"\n",
    "    # Initiallize the sum\n",
    "    running_sum = 0\n",
    "    # Iterate through list\n",
    "    for item in xs:\n",
    "        # Sum values of desired cases\n",
    "        running_sum += (item * item)\n",
    "    return running_sum\n",
    "\n",
    "assert sum_of_squares([2, 3, 4]) == 29\n",
    "assert sum_of_squares([ ]) == 0\n",
    "assert sum_of_squares([2, -3, 4]) == 29"
   ]
  },
  {
   "cell_type": "markdown",
   "metadata": {},
   "source": [
    "### 17\n",
    "\n",
    "You and your friend are in a team to write a two-player game, human against computer, such as Tic-Tac-Toe / Noughts and Crosses. Your friend will write the logic to play one round of the game, while you will write the logic to allow many rounds of play, keep score, decide who plays, first, etc. The two of you negotiate on how the two parts of the program will fit together, and you come up with this simple scaffolding (which your friend will improve later):"
   ]
  },
  {
   "cell_type": "code",
   "execution_count": 23,
   "metadata": {},
   "outputs": [],
   "source": [
    "# Your friend will complete this function\n",
    "def play_once(human_plays_first):\n",
    "    \"\"\"\n",
    "    Must play one round of the game. If the parameter\n",
    "    is True, the human gets to play first, else the\n",
    "    computer gets to play first.  When the round ends,\n",
    "    the return value of the function is one of\n",
    "    -1 (human wins),  0 (game drawn),   1 (computer wins).\n",
    "    \"\"\"\n",
    "    # This is all dummy scaffolding code right at the moment...\n",
    "    import random                  # See Modules chapter ...\n",
    "    rng = random.Random()\n",
    "    # Pick a random result between -1 and 1.\n",
    "    result = rng.randrange(-1,2)\n",
    "    print(\"Human plays first={0},  winner={1} \"\n",
    "                       .format(human_plays_first, result))\n",
    "    return result"
   ]
  },
  {
   "cell_type": "markdown",
   "metadata": {},
   "source": [
    "#### a)\n",
    "\n",
    "Write the main program which repeatedly calls this function to play the game, and after each round it announces the outcome as “I win!”, “You win!”, or “Game drawn!”. It then asks the player “Do you want to play again?” and either plays again, or says “Goodbye”, and terminates."
   ]
  },
  {
   "cell_type": "code",
   "execution_count": 24,
   "metadata": {},
   "outputs": [
    {
     "name": "stdout",
     "output_type": "stream",
     "text": [
      "Human plays first=True,  winner=-1 \n",
      "\n",
      "You win!\n"
     ]
    },
    {
     "name": "stdin",
     "output_type": "stream",
     "text": [
      "Do you want to play again? y\n"
     ]
    },
    {
     "name": "stdout",
     "output_type": "stream",
     "text": [
      "Human plays first=True,  winner=0 \n",
      "\n",
      "Game drawn!\n"
     ]
    },
    {
     "name": "stdin",
     "output_type": "stream",
     "text": [
      "Do you want to play again? y\n"
     ]
    },
    {
     "name": "stdout",
     "output_type": "stream",
     "text": [
      "Human plays first=True,  winner=-1 \n",
      "\n",
      "You win!\n"
     ]
    },
    {
     "name": "stdin",
     "output_type": "stream",
     "text": [
      "Do you want to play again? y\n"
     ]
    },
    {
     "name": "stdout",
     "output_type": "stream",
     "text": [
      "Human plays first=True,  winner=0 \n",
      "\n",
      "Game drawn!\n"
     ]
    },
    {
     "name": "stdin",
     "output_type": "stream",
     "text": [
      "Do you want to play again? n\n"
     ]
    },
    {
     "name": "stdout",
     "output_type": "stream",
     "text": [
      "Human plays first=True,  winner=1 \n",
      "\n",
      "I win!\n"
     ]
    },
    {
     "name": "stdin",
     "output_type": "stream",
     "text": [
      "Do you want to play again? no\n"
     ]
    },
    {
     "name": "stdout",
     "output_type": "stream",
     "text": [
      "Goodbye\n"
     ]
    }
   ],
   "source": [
    "def play_again():\n",
    "    \"\"\"\n",
    "    Ask player if they want to play again.\n",
    "    \"\"\"\n",
    "    response = input('Do you want to play again?')\n",
    "    \n",
    "    # Check if response is to terminate.\n",
    "    if response in ['no', 'No', 'NO', 'exit']:\n",
    "        play = False\n",
    "    else:\n",
    "        play = True\n",
    "    return play\n",
    "\n",
    "\n",
    "def print_output(res):\n",
    "    \"\"\"\n",
    "    Output the result of a game based on the value of res:\n",
    "    -1 (human wins),  0 (game drawn),   1 (computer wins).\n",
    "    \"\"\"\n",
    "    print('')\n",
    "    if res == -1:\n",
    "        print('You win!')\n",
    "    elif res == 0:\n",
    "        print('Game drawn!')\n",
    "    else:\n",
    "        print('I win!')\n",
    "\n",
    "\n",
    "def play_games():\n",
    "    \"\"\"\n",
    "    Play single games while player wants to keep playing.\n",
    "    To stop, input \"no\" or \"exit\".\n",
    "    \"\"\"\n",
    "    \n",
    "    # For now, we'll default that humans always play first.\n",
    "    plays_first = True\n",
    " \n",
    "    while True:\n",
    "        \n",
    "        # Play the game and store result.\n",
    "        result = play_once(plays_first)\n",
    "        \n",
    "        # Output result.\n",
    "        print_output(result)\n",
    "        \n",
    "        # Ask player if they want to play again.\n",
    "        another = play_again()\n",
    "        \n",
    "        # End if player want to stop playing.\n",
    "        if not another:\n",
    "            print('Goodbye')\n",
    "            break\n",
    "\n",
    "play_games()"
   ]
  },
  {
   "cell_type": "markdown",
   "metadata": {},
   "source": [
    "#### b)\n",
    "\n",
    "Keep score of how many wins each player has had, and how many draws there have been. After each round of play, also announce the scores."
   ]
  },
  {
   "cell_type": "code",
   "execution_count": 25,
   "metadata": {},
   "outputs": [
    {
     "name": "stdout",
     "output_type": "stream",
     "text": [
      "Human plays first=True,  winner=1 \n",
      "\n",
      "I win!\n",
      "Score: you've won 0 times; I've won 1 times, and there have been 0 draws.\n"
     ]
    },
    {
     "name": "stdin",
     "output_type": "stream",
     "text": [
      "Do you want to play again? y\n"
     ]
    },
    {
     "name": "stdout",
     "output_type": "stream",
     "text": [
      "Human plays first=True,  winner=0 \n",
      "\n",
      "Game drawn!\n",
      "Score: you've won 0 times; I've won 1 times, and there have been 1 draws.\n"
     ]
    },
    {
     "name": "stdin",
     "output_type": "stream",
     "text": [
      "Do you want to play again? y\n"
     ]
    },
    {
     "name": "stdout",
     "output_type": "stream",
     "text": [
      "Human plays first=True,  winner=1 \n",
      "\n",
      "I win!\n",
      "Score: you've won 0 times; I've won 2 times, and there have been 1 draws.\n"
     ]
    },
    {
     "name": "stdin",
     "output_type": "stream",
     "text": [
      "Do you want to play again? y\n"
     ]
    },
    {
     "name": "stdout",
     "output_type": "stream",
     "text": [
      "Human plays first=True,  winner=-1 \n",
      "\n",
      "You win!\n",
      "Score: you've won 1 times; I've won 2 times, and there have been 1 draws.\n"
     ]
    },
    {
     "name": "stdin",
     "output_type": "stream",
     "text": [
      "Do you want to play again? y\n"
     ]
    },
    {
     "name": "stdout",
     "output_type": "stream",
     "text": [
      "Human plays first=True,  winner=-1 \n",
      "\n",
      "You win!\n",
      "Score: you've won 2 times; I've won 2 times, and there have been 1 draws.\n"
     ]
    },
    {
     "name": "stdin",
     "output_type": "stream",
     "text": [
      "Do you want to play again? no\n"
     ]
    },
    {
     "name": "stdout",
     "output_type": "stream",
     "text": [
      "Goodbye\n"
     ]
    }
   ],
   "source": [
    "def update_totals(res, human_ws, computer_ws, draw):\n",
    "    \"\"\"\n",
    "    Update running totals based on the result.\n",
    "    \"\"\"\n",
    "    if res == -1:\n",
    "        human_ws += 1\n",
    "    elif res == 0:\n",
    "        draw += 1\n",
    "    else:\n",
    "        computer_ws += 1\n",
    "    return human_ws, computer_ws, draw\n",
    "\n",
    "\n",
    "def print_running_score(human_ws, computer_ws, draw):\n",
    "    \"\"\"\n",
    "    Output the running score.\n",
    "    \"\"\"\n",
    "    print(\n",
    "        f\"Score: you've won {human_ws:,} times; \"\n",
    "        f\"I've won {computer_ws:,} times, and \"\n",
    "        f\"there have been {draw:,} draws.\"\n",
    "    )   \n",
    "    \n",
    "\n",
    "def play_games():\n",
    "    \"\"\"\n",
    "    Play single games while player wants to keep playing.\n",
    "    To stop, input \"no\" or \"exit\".\n",
    "    \"\"\"\n",
    "    # Initialize result tracker:\n",
    "    # It's done with 3 variables for clarity over a tuple / list.\n",
    "    # If we'd seen dictionaries or named tuples, we'd be using them.\n",
    "    human_wins = 0\n",
    "    computer_wins = 0\n",
    "    draws = 0\n",
    "    \n",
    "    # For now, we'll default that humans always play first.\n",
    "    plays_first = True\n",
    "    \n",
    "    while True:\n",
    "        \n",
    "        # Play the game and store result.\n",
    "        result = play_once(plays_first)\n",
    "        \n",
    "        # Output result.\n",
    "        print_output(result)\n",
    "        \n",
    "        # Update and output session totals.\n",
    "        human_wins, computer_wins, draws = update_totals(\n",
    "            result,\n",
    "            human_wins,\n",
    "            computer_wins,\n",
    "            draws\n",
    "        )\n",
    "        print_running_score(human_wins, computer_wins, draws)\n",
    "        \n",
    "        # Ask player if they want to play again.\n",
    "        another = play_again()\n",
    "        \n",
    "        # End if player want to stop playing.\n",
    "        if not another:\n",
    "            print('Goodbye')\n",
    "            break\n",
    "\n",
    "play_games()"
   ]
  },
  {
   "cell_type": "markdown",
   "metadata": {},
   "source": [
    "#### c)\n",
    "\n",
    "Add logic so that the players take turns to play first."
   ]
  },
  {
   "cell_type": "code",
   "execution_count": 26,
   "metadata": {},
   "outputs": [
    {
     "name": "stdout",
     "output_type": "stream",
     "text": [
      "Human plays first=True,  winner=-1 \n",
      "\n",
      "You win!\n",
      "Score: you've won 1 times; I've won 0 times, and there have been 0 draws.\n"
     ]
    },
    {
     "name": "stdin",
     "output_type": "stream",
     "text": [
      "Do you want to play again? y\n"
     ]
    },
    {
     "name": "stdout",
     "output_type": "stream",
     "text": [
      "Human plays first=False,  winner=0 \n",
      "\n",
      "Game drawn!\n",
      "Score: you've won 1 times; I've won 0 times, and there have been 1 draws.\n"
     ]
    },
    {
     "name": "stdin",
     "output_type": "stream",
     "text": [
      "Do you want to play again? y\n"
     ]
    },
    {
     "name": "stdout",
     "output_type": "stream",
     "text": [
      "Human plays first=True,  winner=0 \n",
      "\n",
      "Game drawn!\n",
      "Score: you've won 1 times; I've won 0 times, and there have been 2 draws.\n"
     ]
    },
    {
     "name": "stdin",
     "output_type": "stream",
     "text": [
      "Do you want to play again? no\n"
     ]
    },
    {
     "name": "stdout",
     "output_type": "stream",
     "text": [
      "Goodbye\n"
     ]
    }
   ],
   "source": [
    "def play_games():\n",
    "    \"\"\"\n",
    "    Play single games while player wants to keep playing.\n",
    "    To stop, input \"no\" or \"exit\".\n",
    "    \"\"\"\n",
    "    # Initialize result tracker:\n",
    "    # It's done with 3 variables for clarity over a tuple / list.\n",
    "    # If we'd seen dictionaries or named tuples, we'd be using them.\n",
    "    human_wins = 0\n",
    "    computer_wins = 0\n",
    "    draws = 0\n",
    "    \n",
    "    # Human plays first the first iteration.\n",
    "    plays_first = True\n",
    "    \n",
    "    while True:\n",
    "        \n",
    "        # Play the game and store result.\n",
    "        result = play_once(plays_first)\n",
    "        \n",
    "        # Output result.\n",
    "        print_output(result)\n",
    "        \n",
    "        # Update and output session totals.\n",
    "        human_wins, computer_wins, draws = update_totals(\n",
    "            result,\n",
    "            human_wins,\n",
    "            computer_wins,\n",
    "            draws\n",
    "        )\n",
    "        print_running_score(human_wins, computer_wins, draws)\n",
    "        \n",
    "        # Ask player if they want to play again.\n",
    "        another = play_again()\n",
    "        \n",
    "        # End if player want to stop playing.\n",
    "        if not another:\n",
    "            print('Goodbye')\n",
    "            break\n",
    "        # If there's another game, switch who starts\n",
    "        plays_first = not plays_first\n",
    "\n",
    "\n",
    "play_games()"
   ]
  },
  {
   "cell_type": "markdown",
   "metadata": {},
   "source": [
    "#### d)\n",
    "\n",
    "Compute the percentage of wins for the human, out of all games played. Also announce this at the end of each round."
   ]
  },
  {
   "cell_type": "code",
   "execution_count": 27,
   "metadata": {},
   "outputs": [
    {
     "name": "stdout",
     "output_type": "stream",
     "text": [
      "Human plays first=True,  winner=-1 \n",
      "\n",
      "You win!\n",
      "Score:\n",
      "You've won 1 (100.000000%) times; \n",
      "I've won 0 (0.000000%) times, and \n",
      "there have been 0 (0.000000%) draws.\n",
      "\n",
      "\n"
     ]
    },
    {
     "name": "stdin",
     "output_type": "stream",
     "text": [
      "Do you want to play again? y\n"
     ]
    },
    {
     "name": "stdout",
     "output_type": "stream",
     "text": [
      "\n",
      "\n",
      "New game.\n",
      "Human plays first=False,  winner=1 \n",
      "\n",
      "I win!\n",
      "Score:\n",
      "You've won 1 (50.000000%) times; \n",
      "I've won 1 (50.000000%) times, and \n",
      "there have been 0 (0.000000%) draws.\n",
      "\n",
      "\n"
     ]
    },
    {
     "name": "stdin",
     "output_type": "stream",
     "text": [
      "Do you want to play again? y\n"
     ]
    },
    {
     "name": "stdout",
     "output_type": "stream",
     "text": [
      "\n",
      "\n",
      "New game.\n",
      "Human plays first=True,  winner=1 \n",
      "\n",
      "I win!\n",
      "Score:\n",
      "You've won 1 (33.333333%) times; \n",
      "I've won 2 (66.666667%) times, and \n",
      "there have been 0 (0.000000%) draws.\n",
      "\n",
      "\n"
     ]
    },
    {
     "name": "stdin",
     "output_type": "stream",
     "text": [
      "Do you want to play again? y\n"
     ]
    },
    {
     "name": "stdout",
     "output_type": "stream",
     "text": [
      "\n",
      "\n",
      "New game.\n",
      "Human plays first=False,  winner=-1 \n",
      "\n",
      "You win!\n",
      "Score:\n",
      "You've won 2 (50.000000%) times; \n",
      "I've won 2 (50.000000%) times, and \n",
      "there have been 0 (0.000000%) draws.\n",
      "\n",
      "\n"
     ]
    },
    {
     "name": "stdin",
     "output_type": "stream",
     "text": [
      "Do you want to play again? y\n"
     ]
    },
    {
     "name": "stdout",
     "output_type": "stream",
     "text": [
      "\n",
      "\n",
      "New game.\n",
      "Human plays first=True,  winner=0 \n",
      "\n",
      "Game drawn!\n",
      "Score:\n",
      "You've won 2 (40.000000%) times; \n",
      "I've won 2 (40.000000%) times, and \n",
      "there have been 1 (20.000000%) draws.\n",
      "\n",
      "\n"
     ]
    },
    {
     "name": "stdin",
     "output_type": "stream",
     "text": [
      "Do you want to play again? no\n"
     ]
    },
    {
     "name": "stdout",
     "output_type": "stream",
     "text": [
      "Goodbye\n"
     ]
    }
   ],
   "source": [
    "def print_running_score(human_ws, computer_ws, draw):\n",
    "    \"\"\"\n",
    "    Output the running score.\n",
    "    \"\"\"\n",
    "    total_games = human_ws + computer_ws + draw\n",
    "    print(\n",
    "        f\"Score:\\nYou've won {human_ws:,} ({human_ws / total_games:%}) times; \"\n",
    "        f\"\\nI've won {computer_ws:,} ({computer_ws / total_games:%}) times, and \"\n",
    "        f\"\\nthere have been {draw:,} ({draw / total_games:%}) draws.\\n\\n\"\n",
    "    )\n",
    "    \n",
    "    \n",
    "def play_games():\n",
    "    \"\"\"\n",
    "    Play single games while player wants to keep playing.\n",
    "    To stop, input \"no\" or \"exit\".\n",
    "    \"\"\"\n",
    "    # Initialize result tracker:\n",
    "    # It's done with 3 variables for clarity over a tuple / list.\n",
    "    # If we'd seen dictionaries or named tuples, we'd be using them.\n",
    "    human_wins = 0\n",
    "    computer_wins = 0\n",
    "    draws = 0\n",
    "    \n",
    "    # Human plays first the first iteration.\n",
    "    plays_first = True\n",
    "    \n",
    "    while True:\n",
    "        \n",
    "        # Play the game and store result.\n",
    "        result = play_once(plays_first)\n",
    "        \n",
    "        # Output result.\n",
    "        print_output(result)\n",
    "        \n",
    "        # Update and output session totals.\n",
    "        human_wins, computer_wins, draws = update_totals(\n",
    "            result,\n",
    "            human_wins,\n",
    "            computer_wins,\n",
    "            draws\n",
    "        )\n",
    "        print_running_score(human_wins, computer_wins, draws)\n",
    "        \n",
    "        # Ask player if they want to play again.\n",
    "        another = play_again()\n",
    "        \n",
    "        # End if player want to stop playing.\n",
    "        if another:\n",
    "            # If there's another game, switch who starts\n",
    "            plays_first = not plays_first\n",
    "            \n",
    "            # Print some blank lines to improve formatting\n",
    "            print('\\n\\nNew game.')\n",
    "        else:\n",
    "            print('Goodbye')\n",
    "            break\n",
    "\n",
    "\n",
    "play_games()"
   ]
  }
 ],
 "metadata": {
  "kernelspec": {
   "display_name": "Python 3",
   "language": "python",
   "name": "python3"
  },
  "language_info": {
   "codemirror_mode": {
    "name": "ipython",
    "version": 3
   },
   "file_extension": ".py",
   "mimetype": "text/x-python",
   "name": "python",
   "nbconvert_exporter": "python",
   "pygments_lexer": "ipython3",
   "version": "3.6.4"
  }
 },
 "nbformat": 4,
 "nbformat_minor": 4
}
