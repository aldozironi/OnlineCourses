{
 "cells": [
  {
   "cell_type": "markdown",
   "metadata": {},
   "source": [
    "# Chapter 11: Lists\n",
    "\n",
    "A **list** is an ordered collection of values, called **elements** or **items**. List items can be of any type (including lists), and a list can have items of different types. \n",
    "\n",
    "To define a list, simply write it's elements divided by a comma and surround the statement with square brackets (`[]`); this is thesame syntax as with tuples, except that tuples use parentheses. \n",
    "\n",
    "A **nested list** is a list inside another list.\n",
    "\n",
    "An **empty list** is a list with no elements.\n",
    "\n",
    "Examples:"
   ]
  },
  {
   "cell_type": "code",
   "execution_count": 1,
   "metadata": {},
   "outputs": [
    {
     "name": "stdout",
     "output_type": "stream",
     "text": [
      "[10, 20, 30, 40] ['foo', 'bar'] ['hello', 2.0, 5, [10, 20]] []\n"
     ]
    }
   ],
   "source": [
    "ps = [10, 20, 30, 40]\n",
    "qs = [\"foo\", \"bar\"]\n",
    "zs = [\"hello\", 2.0, 5, [10, 20]]\n",
    "an_empty_list = []\n",
    "print(ps, qs, zs, an_empty_list)"
   ]
  },
  {
   "cell_type": "markdown",
   "metadata": {},
   "source": [
    "## Accessing Elements of a List\n",
    "\n",
    "The following syntax is used to access elements in a list:\n",
    "\n",
    "```\n",
    "list_name[integer_expression]\n",
    "```\n",
    "\n",
    "It will return the element in the `integer_expression` position of `list_name` (remember that Python starts counting from 0).\n",
    "\n",
    "Examples:"
   ]
  },
  {
   "cell_type": "code",
   "execution_count": 2,
   "metadata": {},
   "outputs": [
    {
     "name": "stdout",
     "output_type": "stream",
     "text": [
      "The 0-th element of zs is: hello\n",
      "The 1-th element of zs is: 2.0\n",
      "The 2-th element of zs is: 5\n"
     ]
    },
    {
     "ename": "IndexError",
     "evalue": "list index out of range",
     "output_type": "error",
     "traceback": [
      "\u001b[0;31m---------------------------------------------------------------------------\u001b[0m",
      "\u001b[0;31mIndexError\u001b[0m                                Traceback (most recent call last)",
      "\u001b[0;32m<ipython-input-2-0f812b7dd43b>\u001b[0m in \u001b[0;36m<module>\u001b[0;34m\u001b[0m\n\u001b[1;32m      1\u001b[0m \u001b[0;32mfor\u001b[0m \u001b[0mi\u001b[0m \u001b[0;32min\u001b[0m \u001b[0;34m(\u001b[0m\u001b[0;36m0\u001b[0m\u001b[0;34m,\u001b[0m \u001b[0;36m1\u001b[0m\u001b[0;34m,\u001b[0m \u001b[0;36m5\u001b[0m\u001b[0;34m-\u001b[0m\u001b[0;36m3\u001b[0m\u001b[0;34m,\u001b[0m \u001b[0;36m100\u001b[0m\u001b[0;34m)\u001b[0m\u001b[0;34m:\u001b[0m\u001b[0;34m\u001b[0m\u001b[0m\n\u001b[0;32m----> 2\u001b[0;31m     \u001b[0mprint\u001b[0m\u001b[0;34m(\u001b[0m\u001b[0;34mf'The {i}-th element of zs is: {zs[i]}'\u001b[0m\u001b[0;34m)\u001b[0m\u001b[0;34m\u001b[0m\u001b[0m\n\u001b[0m",
      "\u001b[0;31mIndexError\u001b[0m: list index out of range"
     ]
    }
   ],
   "source": [
    "for i in (0, 1, 5-3, 100):\n",
    "    print(f'The {i}-th element of zs is: {zs[i]}')"
   ]
  },
  {
   "cell_type": "markdown",
   "metadata": {},
   "source": [
    "Note that when you try to access an element that doesn't exist in the list, Python returns an IndexError.\n",
    "\n",
    "## Slicing\n",
    "\n",
    "The previous sintax also allows us to **slice** lists (create sublists from the list). This works the same way as with strings.\n",
    "\n",
    "Example:"
   ]
  },
  {
   "cell_type": "code",
   "execution_count": 3,
   "metadata": {},
   "outputs": [
    {
     "name": "stdout",
     "output_type": "stream",
     "text": [
      "['b', 'c']\n"
     ]
    }
   ],
   "source": [
    "a_list = [\"a\", \"b\", \"c\", \"d\", \"e\", \"f\"]\n",
    "\n",
    "print(a_list[1:3])"
   ]
  },
  {
   "cell_type": "markdown",
   "metadata": {},
   "source": [
    "## Operations and Statements Relating to Lists\n",
    "\n",
    "There are several functions, operations and statements you can use with lists:\n",
    "\n",
    "1. Length(`len()` function): Function that tells you the number of elements in a list. Its syntax is `len(list_name)`.\n",
    "2. Membership (`in` statement): Statement that tells you whether or not a value is contained in a list. Its syntax is `value in list_name`.\n",
    "5. Deletion (`del` statement): Remove elements from a list. `del list_name[index]` removes element at index `index`, whereas `del list_name[slice]` removes the entire slice.\n",
    "3. Concatenation (`+` operation): Join two lists together using the  `+` operator: `list_1 + list_2` produces a list that contains all elements in `list_1` followed by all elements in `list_2`.\n",
    "4. Repetition (`*` operation): `list_name * integer` repeats all elements in `list_name` `integer` times. It's equivalent to appending a list to itself `integer` times.\n",
    "\n",
    "Examples:"
   ]
  },
  {
   "cell_type": "code",
   "execution_count": 4,
   "metadata": {},
   "outputs": [
    {
     "name": "stdout",
     "output_type": "stream",
     "text": [
      "Initial status: ['a', 'b', 'c', 'd', 'e', 'f']\n",
      "a_list has 6 elements\n",
      "\n",
      "Is the letter \"d\" in a_list? True\n",
      "Is the letter \"u\" in a_list? False\n",
      "\n",
      "a_list as originally defined: ['a', 'b', 'c', 'd', 'e', 'f']\n",
      "a_list after removing item at index 2: ['a', 'b', 'c', 'd', 'e', 'f']\n",
      "a_list after removing items 0-2: ['a', 'b', 'c', 'd', 'e', 'f']\n",
      "\n",
      "Concatenation of a_list and [1, 2, 3]: ['a', 'b', 'c', 'd', 'e', 'f', 1, 2, 3]\n",
      "\n",
      "a_list repeated 3 times: ['a', 'b', 'c', 'd', 'e', 'f', 'a', 'b', 'c', 'd', 'e', 'f', 'a', 'b', 'c', 'd', 'e', 'f']\n"
     ]
    }
   ],
   "source": [
    "list_a = [\"a\", \"b\", \"c\", \"d\", \"e\", \"f\"]\n",
    "\n",
    "print(f'Initial status: {list_a}')\n",
    "\n",
    "print(f'a_list has {len(list_a):,} elements')\n",
    "print('')\n",
    "\n",
    "print(f'Is the letter \"d\" in a_list? {\"d\" in list_a}')\n",
    "print(f'Is the letter \"u\" in a_list? {\"u\" in list_a}')\n",
    "print('')\n",
    "\n",
    "print(f'a_list as originally defined: {list_a}')\n",
    "del a_list[2]\n",
    "print(f'a_list after removing item at index 2: {list_a}')\n",
    "del a_list[0:3]\n",
    "print(f'a_list after removing items 0-2: {list_a}')\n",
    "print('')\n",
    "\n",
    "print(f'Concatenation of a_list and [1, 2, 3]: {list_a + [1, 2, 3]}')\n",
    "print('')\n",
    "\n",
    "print(f'a_list repeated 3 times: {list_a*3}')"
   ]
  },
  {
   "cell_type": "markdown",
   "metadata": {},
   "source": [
    "## List Methods\n",
    "\n",
    "Lists also have several methods you can access:\n",
    "\n",
    "* `append(item)`: Add `item` at the end.\n",
    "* `insert(index, item)`: Add `item` at position `index`.\n",
    "* `extend(list_b)`: Add all elements in `list_b` at the end.\n",
    "* `reverse()`: Reverse elements.\n",
    "* `sort()`: Order elements in ascending order.\n",
    "* `remove(element)`: Remove the first occurence of `element`.\n",
    "* `index(element)`: Find the index of the first occurence of `element`.\n",
    "* `count(element)`: Count the number of occurences of `element`.\n",
    "\n",
    "It's important to note that, except for the las 2 methods, list methods modify the list itself and return a `None` after they execute. Thus, after running\n",
    "\n",
    "```\n",
    "list_a = list_a.append(\"B\")\n",
    "```\n",
    "\n",
    "the value of `list_a` will be `None`. The correct syntax is\n",
    "\n",
    "```\n",
    "list_a.append(\"B\")\n",
    "```\n",
    "\n",
    "Examples:"
   ]
  },
  {
   "cell_type": "code",
   "execution_count": 5,
   "metadata": {},
   "outputs": [
    {
     "name": "stdout",
     "output_type": "stream",
     "text": [
      "Initial status: [0, 2, 1, 3, 4, 5]\n",
      "\n",
      "After sorting the elements: [0, 1, 2, 3, 4, 5]\n",
      "\n",
      "After appending \"B\": [0, 1, 2, 3, 4, 5, 'B']\n",
      "\n",
      "After inserting \"B\" at index 4: [0, 1, 2, 3, 'B', 4, 5, 'B']\n",
      "\n",
      "After extending the list [0, 11, 12]: [0, 1, 2, 3, 'B', 4, 5, 'B', 0, 11, 12]\n",
      "\n",
      "After reversing the elements: [12, 11, 0, 'B', 5, 4, 'B', 3, 2, 1, 0]\n",
      "\n",
      "After removing the first occurrence of \"B\": [12, 11, 0, 5, 4, 'B', 3, 2, 1, 0]\n",
      "\n",
      "11 is at position 1\n",
      "\n",
      "There are 2 istances of the value \"0\" in the list\n"
     ]
    }
   ],
   "source": [
    "list_a = [0, 2, 1, 3, 4, 5]\n",
    "print(f'Initial status: {list_a}')\n",
    "print('')\n",
    "\n",
    "list_a.sort()\n",
    "print(f'After sorting the elements: {list_a}')\n",
    "print('')\n",
    "\n",
    "list_a.append(\"B\")\n",
    "print(f'After appending \"B\": {list_a}')\n",
    "print('')\n",
    "\n",
    "list_a.insert(4, \"B\")\n",
    "print(f'After inserting \"B\" at index 4: {list_a}')\n",
    "print('')\n",
    "\n",
    "list_a.extend([0, 11, 12])\n",
    "print(f'After extending the list [0, 11, 12]: {list_a}')\n",
    "print('')\n",
    "\n",
    "list_a.reverse()\n",
    "print(f'After reversing the elements: {list_a}')\n",
    "print('')\n",
    "\n",
    "list_a.remove(\"B\")\n",
    "print(f'After removing the first occurrence of \"B\": {list_a}')\n",
    "print('')\n",
    "\n",
    "print(f'11 is at position {list_a.index(11)}')\n",
    "print('')\n",
    "\n",
    "print(f'There are {list_a.count(0)} istances of the value \"0\" in the list')"
   ]
  },
  {
   "cell_type": "markdown",
   "metadata": {},
   "source": [
    "## Lists as Mutable Objects\n",
    "\n",
    "Unlike strings, lists are **mutable objects**, meaning that their contents can change. This was shown in the previous section. This has several implications in how lists should be used and how Python handles them internally.\n",
    "\n",
    "### Memory Adresses and Pointers\n",
    "\n",
    "An object's **memory adress** is where, in the computer's RAM, the object is located. Strictly speaking, variables in Python do not hold values, only references to memory addresses, and it's said that the variable name **points** or is a **pointer** to the adress. You can check the memory address a variable points to using the `id(variable)` function.\n",
    "\n",
    "Interestingly, you can have multiple variables poining to the same memory address (and thus, they have the same content). When you have two variables that point to the same address, they're said to be **aliases** or to **alias** one another. You can test whether or not two variables point to the same address by using the `is` statement. Examples:"
   ]
  },
  {
   "cell_type": "code",
   "execution_count": 6,
   "metadata": {},
   "outputs": [
    {
     "data": {
      "text/plain": [
       "True"
      ]
     },
     "execution_count": 6,
     "metadata": {},
     "output_type": "execute_result"
    }
   ],
   "source": [
    "# Small numbers are cached automatically, and thus have the same addresses.\n",
    "a = 10\n",
    "b = 10\n",
    "\n",
    "a is b"
   ]
  },
  {
   "cell_type": "code",
   "execution_count": 7,
   "metadata": {},
   "outputs": [
    {
     "data": {
      "text/plain": [
       "False"
      ]
     },
     "execution_count": 7,
     "metadata": {},
     "output_type": "execute_result"
    }
   ],
   "source": [
    "# Large numbers don't.\n",
    "a = 1e10\n",
    "b = 1e10\n",
    "\n",
    "a is b"
   ]
  },
  {
   "cell_type": "markdown",
   "metadata": {},
   "source": [
    "In the case of lists, since they're mutable, Python assigns two different addresses to lists, even if they're created the same way:"
   ]
  },
  {
   "cell_type": "code",
   "execution_count": 8,
   "metadata": {},
   "outputs": [
    {
     "name": "stdout",
     "output_type": "stream",
     "text": [
      "Are a and b equal in value? True\n",
      "\n",
      "Do a and b point to the same address? False\n"
     ]
    }
   ],
   "source": [
    "a = [1, 2, 3]\n",
    "b = [1, 2, 3]\n",
    "\n",
    "print(f'Are a and b equal in value? {a == b}')\n",
    "print('')\n",
    "\n",
    "print(f'Do a and b point to the same address? {a is b}')"
   ]
  },
  {
   "cell_type": "markdown",
   "metadata": {},
   "source": [
    "### Aliasing Lists and Related Issues\n",
    "\n",
    "\n",
    "#### Creating List Aliases\n",
    "\n",
    "Then, how do you make aliases for a list? Simply, the `=` operation assigns the memory address of the object on the right to the name on the left:"
   ]
  },
  {
   "cell_type": "code",
   "execution_count": 9,
   "metadata": {},
   "outputs": [
    {
     "data": {
      "text/plain": [
       "True"
      ]
     },
     "execution_count": 9,
     "metadata": {},
     "output_type": "execute_result"
    }
   ],
   "source": [
    "a = [1, 2, 3]\n",
    "\n",
    "# b is an alias of a\n",
    "b = a\n",
    "\n",
    "a is b"
   ]
  },
  {
   "cell_type": "markdown",
   "metadata": {},
   "source": [
    "#### Efects of Mutability of Lists When Using Aliases\n",
    "\n",
    "Since lists are mutable, you have to be careful when using aliases, because any change in one of the aliases will affect the rest:"
   ]
  },
  {
   "cell_type": "code",
   "execution_count": 10,
   "metadata": {},
   "outputs": [
    {
     "data": {
      "text/plain": [
       "[1, 2, 3, 5]"
      ]
     },
     "execution_count": 10,
     "metadata": {},
     "output_type": "execute_result"
    }
   ],
   "source": [
    "a = [1, 2, 3]\n",
    "\n",
    "# b is an alias of a\n",
    "b = a\n",
    "\n",
    "# Add an element to b\n",
    "b.append(5)\n",
    "\n",
    "# The change also happens in a\n",
    "a"
   ]
  },
  {
   "cell_type": "markdown",
   "metadata": {},
   "source": [
    "#### Creating Copies of Lists (Cloning Lists)\n",
    "\n",
    "The previous section raises an important question: How do I create a list that contains the same elements as another but that modifying it won't change the original?\n",
    "\n",
    "The answer is that you have to define a new list with the same elements as the original list. You can do this with a loop or with the slicing syntax:\n",
    "\n",
    "```\n",
    "b = a[:]\n",
    "```\n",
    "\n",
    "will create a clone of the list `a`."
   ]
  },
  {
   "cell_type": "code",
   "execution_count": 11,
   "metadata": {},
   "outputs": [
    {
     "name": "stdout",
     "output_type": "stream",
     "text": [
      "Template list: [1, 2, 3]\n",
      "Modified clone: [1, 2, 3, 5]\n",
      "Template list status after modification of clone: [1, 2, 3]\n"
     ]
    }
   ],
   "source": [
    "a = [1, 2, 3]\n",
    "print(f'Template list: {a}')\n",
    "\n",
    "# b is a clone of a\n",
    "b = a[:]\n",
    "\n",
    "# Add an element to b\n",
    "b.append(5)\n",
    "\n",
    "# The change in b\n",
    "print(f'Modified clone: {b}')\n",
    "# Has no effect in a\n",
    "print(f'Template list status after modification of clone: {a}')"
   ]
  },
  {
   "cell_type": "markdown",
   "metadata": {},
   "source": [
    "#### Side Effects of Functions\n",
    "\n",
    "When you pass a parameter to a function, what you're really doing is creating a new variable that points to the same memory address; in other words, you're implicitly creating an alias. This means that if you write a function that changes a list and you dont clone it, the function will have the **side effect** of modifying the list outside the function. Functions like this often recieve the name of **modifiers**.\n",
    "\n",
    "A **pure function** is one that doesn't have side effects.\n",
    "\n",
    "Modifier functions can be very useful, you just need to make sure you want to write a modifier function.\n",
    "\n",
    "Example:"
   ]
  },
  {
   "cell_type": "code",
   "execution_count": 12,
   "metadata": {},
   "outputs": [
    {
     "name": "stdout",
     "output_type": "stream",
     "text": [
      "Elements in original_list after running a_pure_function: [1, 2, 3]\n",
      "\n",
      "Elements in original_list after running a_modifier_function: [1, 2, 3, 1]\n"
     ]
    }
   ],
   "source": [
    "# Create a template list\n",
    "original_list = [1, 2, 3]\n",
    "\n",
    "def a_pure_function(a_list):\n",
    "    \"\"\"\n",
    "    Return the length of a_list after adding a new element, but without modifying the outside list.\n",
    "    \"\"\"\n",
    "    list_to_use = a_list[:]\n",
    "    list_to_use.append(1)\n",
    "    return len(list_to_use)\n",
    "\n",
    "def a_modifier_function(a_list):\n",
    "    \"\"\"\n",
    "    Return the length of a_list after adding a new element while modifying the outside list.\n",
    "    \"\"\"\n",
    "    a_list.append(1)\n",
    "    return len(a_list)\n",
    "\n",
    "a_pure_function(original_list)\n",
    "print(f'Elements in original_list after running a_pure_function: {original_list}')\n",
    "print('')\n",
    "\n",
    "a_modifier_function(original_list)\n",
    "print(f'Elements in original_list after running a_modifier_function: {original_list}')"
   ]
  },
  {
   "cell_type": "markdown",
   "metadata": {},
   "source": [
    "## Using Lists to Iterate\n",
    "\n",
    "There are several ways to iterate through lists (also called **traversing**). Here are the main ones:\n",
    "\n",
    "### 1. Using Indexes\n",
    "\n",
    "The first way in which we can traverse a list is by accessing each index. The `range(final_integer)` fuction in Python gives you a \"list\" of integers from 0 (inclusive) to `final_integer` (exclusive), so you can create a \"list\" of all the indexes in a list, `list_a` with\n",
    "\n",
    "```\n",
    "range(len(list_a))\n",
    "```\n",
    "\n",
    "Thus, we can iterate through the elements of a list as follows:"
   ]
  },
  {
   "cell_type": "code",
   "execution_count": 13,
   "metadata": {},
   "outputs": [
    {
     "name": "stdout",
     "output_type": "stream",
     "text": [
      "Initial status: [1, 2, 3, 4, 5]\n",
      "After iterating: [1, 4, 9, 16, 25]\n"
     ]
    }
   ],
   "source": [
    "xs = [1, 2, 3, 4, 5]\n",
    "print(f'Initial status: {xs}')\n",
    "\n",
    "for i in range(len(xs)):\n",
    "    xs[i] = xs[i]**2\n",
    "    \n",
    "print(f'After iterating: {xs}')"
   ]
  },
  {
   "cell_type": "markdown",
   "metadata": {},
   "source": [
    "**Note:** The `range(final_integer)` is a **generator**, meaning doesn't actually return a list; instead, it returns values as they're needed. Basically, it remembers what was the last number it returned, and when the next value is required, it provides it. An important advantage of using generators is that they're much more efficient.\n",
    "\n",
    "You can also transform the `range` generator into an actual list:"
   ]
  },
  {
   "cell_type": "code",
   "execution_count": 14,
   "metadata": {},
   "outputs": [
    {
     "name": "stdout",
     "output_type": "stream",
     "text": [
      "Generator as list: [0, 1, 2, 3, 4]\n"
     ]
    }
   ],
   "source": [
    "r = list(range(5))\n",
    "\n",
    "print(f'Generator as list: {r}')"
   ]
  },
  {
   "cell_type": "markdown",
   "metadata": {},
   "source": [
    "### 2. Using the Items Themselves\n",
    "\n",
    "Just as with tuples, we can iterate using each element in the list by assigning it a name:"
   ]
  },
  {
   "cell_type": "code",
   "execution_count": 15,
   "metadata": {},
   "outputs": [
    {
     "name": "stdout",
     "output_type": "stream",
     "text": [
      "0\n",
      "3\n",
      "6\n",
      "9\n"
     ]
    }
   ],
   "source": [
    "for number in range(12):\n",
    "    if number % 3 == 0:\n",
    "        print(number)"
   ]
  },
  {
   "cell_type": "markdown",
   "metadata": {},
   "source": [
    "### 3. Using the `enumerate` Function\n",
    "\n",
    "The `enumerate` function returns both the item and its index, which can be quite useful in some situations."
   ]
  },
  {
   "cell_type": "code",
   "execution_count": 16,
   "metadata": {},
   "outputs": [
    {
     "name": "stdout",
     "output_type": "stream",
     "text": [
      "0 banana\n",
      "1 apple\n",
      "2 pear\n",
      "3 lemon\n"
     ]
    }
   ],
   "source": [
    "for (i, v) in enumerate([\"banana\", \"apple\", \"pear\", \"lemon\"]):\n",
    "     print(i, v)"
   ]
  },
  {
   "cell_type": "markdown",
   "metadata": {},
   "source": [
    "## The `join` Method\n",
    "\n",
    "In chapter 8 we saw that the `strip()` method for stings creates a list of substrings. The `join(list_a)` string method does the opposite: it concatenates the elements in `list_a` into a single string. Examples:"
   ]
  },
  {
   "cell_type": "code",
   "execution_count": 17,
   "metadata": {},
   "outputs": [
    {
     "name": "stdout",
     "output_type": "stream",
     "text": [
      "Joined list: foobar\n",
      "Joined list using a separator between elements: foo, @bar\n"
     ]
    }
   ],
   "source": [
    "list_a = ['foo', 'bar']\n",
    "\n",
    "# 1. Joining as is.\n",
    "print(f\"Joined list: {''.join(list_a)}\")\n",
    "\n",
    "# 1. Joining with a separator.\n",
    "print(f\"Joined list using a separator between elements: {', @'.join(list_a)}\")"
   ]
  },
  {
   "cell_type": "markdown",
   "metadata": {},
   "source": [
    "## Nested Lists and Matrices\n",
    "\n",
    "Remember that a nested list is a list inside a list. The internal list is considered a single element:"
   ]
  },
  {
   "cell_type": "code",
   "execution_count": 18,
   "metadata": {},
   "outputs": [
    {
     "data": {
      "text/plain": [
       "[50, 60]"
      ]
     },
     "execution_count": 18,
     "metadata": {},
     "output_type": "execute_result"
    }
   ],
   "source": [
    "nested_list = [1, 2, [50, 60]]\n",
    "\n",
    "nested_list[2]"
   ]
  },
  {
   "cell_type": "markdown",
   "metadata": {},
   "source": [
    "This allows us to access the elements of the nested list:"
   ]
  },
  {
   "cell_type": "code",
   "execution_count": 19,
   "metadata": {},
   "outputs": [
    {
     "data": {
      "text/plain": [
       "60"
      ]
     },
     "execution_count": 19,
     "metadata": {},
     "output_type": "execute_result"
    }
   ],
   "source": [
    "nested_list[2][1]"
   ]
  },
  {
   "cell_type": "markdown",
   "metadata": {},
   "source": [
    "Nested lists are often used to represent matrices, generally in such a way that each item of the outer list is a row of the matrix:"
   ]
  },
  {
   "cell_type": "code",
   "execution_count": 20,
   "metadata": {},
   "outputs": [
    {
     "data": {
      "text/plain": [
       "[[1, 2, 3], [4, 5, 6], [7, 8, 9]]"
      ]
     },
     "execution_count": 20,
     "metadata": {},
     "output_type": "execute_result"
    }
   ],
   "source": [
    "[[1, 2, 3], [4, 5, 6], [7, 8, 9]]"
   ]
  },
  {
   "cell_type": "markdown",
   "metadata": {},
   "source": [
    "## Excercises\n",
    "\n",
    "### 1\n",
    "\n",
    "What is the Python interpreter’s response to the following?\n",
    "\n",
    "```\n",
    "list(range(10, 0, -2))\n",
    "```\n",
    "\n",
    "**Answer:**\n",
    "\n",
    "Starting from 10, it will decrease in steps of 2 units until it reaches 2 (the 0 at the end is excluded)."
   ]
  },
  {
   "cell_type": "code",
   "execution_count": 21,
   "metadata": {},
   "outputs": [
    {
     "data": {
      "text/plain": [
       "[10, 8, 6, 4, 2]"
      ]
     },
     "execution_count": 21,
     "metadata": {},
     "output_type": "execute_result"
    }
   ],
   "source": [
    "list(range(10, 0, -2))"
   ]
  },
  {
   "cell_type": "markdown",
   "metadata": {},
   "source": [
    "### 2\n",
    "\n",
    "Consider this fragment of code:\n",
    "\n",
    "```\n",
    "import turtle\n",
    "\n",
    "tess = turtle.Turtle()\n",
    "alex = tess\n",
    "alex.color(\"hotpink\")\n",
    "```\n",
    "\n",
    "Does this fragment create one or two turtle instances? Does setting the color of alex also change the color of tess? Explain in detail.\n",
    "\n",
    "**Answer:**\n",
    "\n",
    "The code creates a single instance of a turtle because the `=` assignment copies the memory address to the left-hand side. Thus, any change in alex will be reflected on tess and viceversa.\n",
    "\n",
    "### 3\n",
    "\n",
    "Consider the code\n",
    "\n",
    "```\n",
    "a = [1, 2, 3]\n",
    "b = a[:]\n",
    "b[0] = 5\n",
    "```\n",
    "\n",
    "what are the values of the variables before and after the third line is executed?\n",
    "\n",
    "**Answer:**\n",
    "\n",
    "Before:\n",
    "* `a` -> `[1, 2, 3]`\n",
    "* `b` -> `[1, 2, 3]`\n",
    "\n",
    "After: Since b is a clone and not an alias,\n",
    "* `a` -> `[1, 2, 3]`\n",
    "* `b` -> `[5, 2, 3]`\n",
    "\n",
    "### 4\n",
    "\n",
    "What will be the output of the following program\n",
    "\n",
    "```\n",
    "this = [\"I\", \"am\", \"not\", \"a\", \"crook\"]\n",
    "that = [\"I\", \"am\", \"not\", \"a\", \"crook\"]\n",
    "print(\"Test 1: {0}\".format(this is that))\n",
    "that = this\n",
    "print(\"Test 2: {0}\".format(this is that))\n",
    "```\n",
    "\n",
    "? Provide a detailed explanation of the results.\n",
    "\n",
    "**Answer:**\n",
    "\n",
    "The program will print two lines:\n",
    "\n",
    "> Test 1: False\n",
    "\n",
    "> Test 2: True\n",
    "\n",
    "This is because in the first case, the lists have the same elements but different memory addresses, which is how Python handles list creation. In the second case, the list `that` was created through an alias of `this`, so they have the same memory address.\n",
    "\n",
    "### 5\n",
    "\n",
    "Lists can be used to represent mathematical vectors. Write a function, `add_vectors(u, v)`, that takes two lists of numbers of the same length, and returns a new list containing the sums of the corresponding elements of each. \n",
    "\n",
    "```\n",
    "test(add_vectors([1, 1], [1, 1]) == [2, 2])\n",
    "test(add_vectors([1, 2], [1, 4]) == [2, 6])\n",
    "test(add_vectors([1, 2, 1], [1, 4, 3]) == [2, 6, 4])\n",
    "```"
   ]
  },
  {
   "cell_type": "code",
   "execution_count": 22,
   "metadata": {},
   "outputs": [],
   "source": [
    "def add_vectors(u, v):\n",
    "    \"\"\"\n",
    "    Sum two vectors, u and v, represented as lists.\n",
    "    \"\"\"\n",
    "    # Validate inputs\n",
    "    if len(u) != len(v):\n",
    "        raise ValueError(\"Dimensions of u and v must match.\")\n",
    "    \n",
    "    # Initiallize result\n",
    "    result = []\n",
    "    \n",
    "    # Compute sum and append to result vector\n",
    "    for u_i, v_i in zip(u, v):\n",
    "        result.append(u_i + v_i)\n",
    "    \n",
    "    return result\n",
    "\n",
    "assert add_vectors([1, 1], [1, 1]) == [2, 2]\n",
    "assert add_vectors([1, 2], [1, 4]) == [2, 6]\n",
    "assert add_vectors([1, 2, 1], [1, 4, 3]) == [2, 6, 4]"
   ]
  },
  {
   "cell_type": "markdown",
   "metadata": {},
   "source": [
    "### 6\n",
    "\n",
    "Write a function, `scalar_mult(s, v)`, that takes a number, `s`, and a list, `v` and returns the scalar multiple of `v` by `s`.\n",
    "\n",
    "```\n",
    "test(scalar_mult(5, [1, 2]) == [5, 10])\n",
    "test(scalar_mult(3, [1, 0, -1]) == [3, 0, -3])\n",
    "test(scalar_mult(7, [3, 0, 5, 11, 2]) == [21, 0, 35, 77, 14])\n",
    "```"
   ]
  },
  {
   "cell_type": "code",
   "execution_count": 23,
   "metadata": {},
   "outputs": [],
   "source": [
    "def scalar_mult(s, v):\n",
    "    \"\"\"\n",
    "    Compute the scalar multiple of the vector v by the scalar s.\n",
    "    \"\"\"\n",
    "    # Initiallize result\n",
    "    result = []\n",
    "    \n",
    "    # Compute sum and append to result vector\n",
    "    for v_i in v:\n",
    "        result.append(s * v_i)\n",
    "    \n",
    "    return result\n",
    "\n",
    "assert scalar_mult(5, [1, 2]) == [5, 10]\n",
    "assert scalar_mult(3, [1, 0, -1]) == [3, 0, -3]\n",
    "assert scalar_mult(7, [3, 0, 5, 11, 2]) == [21, 0, 35, 77, 14]"
   ]
  },
  {
   "cell_type": "markdown",
   "metadata": {},
   "source": [
    "### 7\n",
    "\n",
    "Write a function, `dot_product(u, v)`, that takes two lists of numbers of the same length, and returns the sum of the products of the corresponding elements of each.\n",
    "\n",
    "```\n",
    "test(dot_product([1, 1], [1, 1]) ==  2)\n",
    "test(dot_product([1, 2], [1, 4]) ==  9)\n",
    "test(dot_product([1, 2, 1], [1, 4, 3]) == 12)\n",
    "```"
   ]
  },
  {
   "cell_type": "code",
   "execution_count": 24,
   "metadata": {},
   "outputs": [],
   "source": [
    "def dot_product(u, v):\n",
    "    \"\"\"\n",
    "    Compute dot product of two vectors.\n",
    "    \"\"\"\n",
    "    # Validate inputs\n",
    "    if len(u) != len(v):\n",
    "        raise ValueError(\"Dimensions of u and v must match.\")\n",
    "    \n",
    "    # Initiallize result\n",
    "    result = 0\n",
    "    \n",
    "    # Multiply inputs entry by entry\n",
    "    for u_i, v_i in zip(u, v):\n",
    "        prod_i = u_i * v_i\n",
    "        # Add the product to the result\n",
    "        result += prod_i\n",
    "    return result\n",
    "\n",
    "assert dot_product([1, 1], [1, 1]) ==  2\n",
    "assert dot_product([1, 2], [1, 4]) ==  9\n",
    "assert dot_product([1, 2, 1], [1, 4, 3]) == 12\n",
    "assert dot_product([1, 3, -5], [4, -2, -1]) == 3"
   ]
  },
  {
   "cell_type": "markdown",
   "metadata": {},
   "source": [
    "### 8\n",
    "\n",
    "Write a function, `cross_product(u, v)`, that takes two lists of numbers of length 3 and returns their cross product. You should write your own tests."
   ]
  },
  {
   "cell_type": "code",
   "execution_count": 25,
   "metadata": {},
   "outputs": [],
   "source": [
    "def cross_product(u, v):\n",
    "    \"\"\"\n",
    "    Compute cross product of two 3-dimensional vectors.\n",
    "    \"\"\"\n",
    "    # Validate inputs\n",
    "    if len(u) != 3 and len(v) != 3:\n",
    "        raise ValueError(\"u and v must be of dimension 3.\")\n",
    "    \n",
    "    # Initiallize result\n",
    "    result = []\n",
    "    \n",
    "    # Compute sum and append to result vector\n",
    "    result.append(u[1]*v[2] - u[2]*v[1])\n",
    "    result.append(u[2]*v[0] - u[0]*v[2])\n",
    "    result.append(u[0]*v[1] - u[1]*v[0])\n",
    "    \n",
    "    \n",
    "    return result\n",
    "\n",
    "assert cross_product([3, -3, 1], [4, 9, 2]) == [-15, -2, 39]\n",
    "assert cross_product([3, -3, 1], [-12, 12, -4]) == [0, 0, 0]"
   ]
  },
  {
   "cell_type": "markdown",
   "metadata": {},
   "source": [
    "### 9\n",
    "\n",
    "Describe the relationship between `\" \".join(song.split())` and song in the fragment of code below. Are they the same for all strings assigned to song? When would they be different?\n",
    "\n",
    "```\n",
    "song = \"The rain in Spain...\"\n",
    "```"
   ]
  },
  {
   "cell_type": "code",
   "execution_count": 26,
   "metadata": {},
   "outputs": [
    {
     "data": {
      "text/plain": [
       "'The rain in Spain...'"
      ]
     },
     "execution_count": 26,
     "metadata": {},
     "output_type": "execute_result"
    }
   ],
   "source": [
    "song = \"The rain in Spain...\"\n",
    "\n",
    "\" \".join(song.split())"
   ]
  },
  {
   "cell_type": "markdown",
   "metadata": {},
   "source": [
    "The strings will be different if the original string ends with a blank space."
   ]
  },
  {
   "cell_type": "code",
   "execution_count": 27,
   "metadata": {},
   "outputs": [
    {
     "data": {
      "text/plain": [
       "'The'"
      ]
     },
     "execution_count": 27,
     "metadata": {},
     "output_type": "execute_result"
    }
   ],
   "source": [
    "song = \"The \"\n",
    "\n",
    "\" \".join(song.split())"
   ]
  },
  {
   "cell_type": "markdown",
   "metadata": {},
   "source": [
    "### 10\n",
    "\n",
    "Write a function, `replace(s, old, new)`, that replaces all occurrences of `old` with `new` in a string `s`."
   ]
  },
  {
   "cell_type": "code",
   "execution_count": 28,
   "metadata": {},
   "outputs": [],
   "source": [
    "def replace(s, old, new):\n",
    "    \"\"\"\n",
    "    Replace all instances of old with new in string s.\n",
    "    \"\"\"\n",
    "    return new.join(s.split(old))\n",
    "\n",
    "assert replace(\"Mississippi\", \"i\", \"I\") == \"MIssIssIppI\"\n",
    "\n",
    "s = \"I love spom! Spom is my favorite food. Spom, spom, yum!\"\n",
    "assert replace(s, \"om\", \"am\") == \"I love spam! Spam is my favorite food. Spam, spam, yum!\"\n",
    "\n",
    "assert replace(s, \"o\", \"a\") == \"I lave spam! Spam is my favarite faad. Spam, spam, yum!\""
   ]
  },
  {
   "cell_type": "markdown",
   "metadata": {},
   "source": [
    "### 11\n",
    "\n",
    "Suppose you want to swap around the values in two variables. You decide to factor this out into a reusable function, and write this code.\n",
    "\n",
    "```\n",
    "def swap(x, y):      # Incorrect version\n",
    "     print(\"before swap statement: x:\", x, \"y:\", y)\n",
    "     (x, y) = (y, x)\n",
    "     print(\"after swap statement: x:\", x, \"y:\", y)\n",
    "\n",
    "a = [\"This\", \"is\", \"fun\"]\n",
    "b = [2,3,4]\n",
    "print(\"before swap function call: a:\", a, \"b:\", b)\n",
    "swap(a, b)\n",
    "print(\"after swap function call: a:\", a, \"b:\", b)\n",
    "```\n",
    "\n",
    "Run this program and describe the results. Oops! So it didn’t do what you intended! Explain why not."
   ]
  },
  {
   "cell_type": "code",
   "execution_count": 29,
   "metadata": {},
   "outputs": [
    {
     "name": "stdout",
     "output_type": "stream",
     "text": [
      "before swap function call: a: ['This', 'is', 'fun'] b: [2, 3, 4]\n",
      "before swap statement: x: ['This', 'is', 'fun'] y: [2, 3, 4]\n",
      "after swap statement: x: [2, 3, 4] y: ['This', 'is', 'fun']\n",
      "after swap function call: a: ['This', 'is', 'fun'] b: [2, 3, 4]\n"
     ]
    }
   ],
   "source": [
    "def swap(x, y):      # Incorrect version\n",
    "    print(\"before swap statement: x:\", x, \"y:\", y)\n",
    "    (x, y) = (y, x)\n",
    "    print(\"after swap statement: x:\", x, \"y:\", y)\n",
    "\n",
    "a = [\"This\", \"is\", \"fun\"]\n",
    "b = [2,3,4]\n",
    "print(\"before swap function call: a:\", a, \"b:\", b)\n",
    "swap(a, b)\n",
    "print(\"after swap function call: a:\", a, \"b:\", b)"
   ]
  },
  {
   "cell_type": "markdown",
   "metadata": {},
   "source": [
    "This function implementation still requires a `return` statement."
   ]
  }
 ],
 "metadata": {
  "kernelspec": {
   "display_name": "Python 3",
   "language": "python",
   "name": "python3"
  },
  "language_info": {
   "codemirror_mode": {
    "name": "ipython",
    "version": 3
   },
   "file_extension": ".py",
   "mimetype": "text/x-python",
   "name": "python",
   "nbconvert_exporter": "python",
   "pygments_lexer": "ipython3",
   "version": "3.6.4"
  }
 },
 "nbformat": 4,
 "nbformat_minor": 4
}
