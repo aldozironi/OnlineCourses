{
 "cells": [
  {
   "cell_type": "markdown",
   "metadata": {},
   "source": [
    "# Chapter 8: Strings\n",
    "\n",
    "Data types that are comprised of smalles pieces are called **compound data types**. Python allows you to treat this data types as a single unit of by its component parts. Strings are one example of a compound data type, and its constituting units are called **charaters**.\n",
    "\n",
    "In Python, strings are also **immutable**, meaning thatyoun _cannot_ change any character in a string. In order to change a string, you need to create an entirely new one.\n",
    "\n",
    "## Strings as Single Units\n",
    "\n",
    "Strings have several methods you can use that will modify a whole unit. For example:\n",
    "\n",
    "* `capitalize`: Capitalizes the first character.\n",
    "* `swapcase`: Change all upper case characters to lower case and vice-versa.\n",
    "* `upper`: Change the entire string to upper case.\n",
    "* `lower`: Change the entire string to lower case."
   ]
  },
  {
   "cell_type": "code",
   "execution_count": 1,
   "metadata": {},
   "outputs": [
    {
     "name": "stdout",
     "output_type": "stream",
     "text": [
      "Original string: \"hello, World!\"\n",
      "Capitalized: \"Hello, world!\"\n",
      "Swap case: \"HELLO, wORLD!\"\n",
      "Upper case: \"HELLO, WORLD!\"\n",
      "Lower case: \"hello, world!\"\n"
     ]
    }
   ],
   "source": [
    "string = 'hello, World!'\n",
    "\n",
    "print(f'Original string: \"{string}\"')\n",
    "print(f'Capitalized: \"{string.capitalize()}\"')\n",
    "print(f'Swap case: \"{string.swapcase()}\"')\n",
    "print(f'Upper case: \"{string.upper()}\"')\n",
    "print(f'Lower case: \"{string.lower()}\"')"
   ]
  },
  {
   "cell_type": "markdown",
   "metadata": {},
   "source": [
    "## Working with Characters in a String\n",
    "\n",
    "The **indexing operator** selects a units, based on its position from a compound type. The expression used to select them is called an **index**. In Python:\n",
    "\n",
    "1. it's represented by square brackets,\n",
    "2. you can use an integer to select a single element,\n",
    "3. the first element is at index `0`,\n",
    "4. you can use negative numbers as indexes, which is equivalent to _going backwards_ from the end of the string.\n",
    "\n",
    "The `enumerate` function allows you to see indexes and units."
   ]
  },
  {
   "cell_type": "code",
   "execution_count": 2,
   "metadata": {},
   "outputs": [
    {
     "name": "stdout",
     "output_type": "stream",
     "text": [
      "Original string: \"hello, World!\"\n",
      "Character at position 4: \"o\"\n",
      "Character at position -4: \"r\"\n",
      "Enumeration of string:\n",
      "[(0, 'h'), (1, 'e'), (2, 'l'), (3, 'l'), (4, 'o'), (5, ','), (6, ' '), (7, 'W'), (8, 'o'), (9, 'r'), (10, 'l'), (11, 'd'), (12, '!')]\n"
     ]
    }
   ],
   "source": [
    "string = 'hello, World!'\n",
    "char_num = 4\n",
    "\n",
    "print(f'Original string: \"{string}\"')\n",
    "print(f'Character at position {char_num}: \"{string[char_num]}\"')\n",
    "print(f'Character at position -{char_num}: \"{string[-char_num]}\"')\n",
    "print(f'Enumeration of string:\\n{list(enumerate(string))}')"
   ]
  },
  {
   "cell_type": "markdown",
   "metadata": {},
   "source": [
    "## String Traversal\n",
    "\n",
    "Traversing strings refers to iterating through each of their characters. That's exactly what Python does when you use them in a loop. For example:"
   ]
  },
  {
   "cell_type": "code",
   "execution_count": 3,
   "metadata": {},
   "outputs": [
    {
     "name": "stdout",
     "output_type": "stream",
     "text": [
      "Jack\n",
      "Kack\n",
      "Lack\n",
      "Mack\n",
      "Nack\n",
      "Oack\n",
      "Pack\n",
      "Qack\n"
     ]
    }
   ],
   "source": [
    "prefixes = \"JKLMNOPQ\"\n",
    "suffix = \"ack\"\n",
    "\n",
    "for p in prefixes:\n",
    "    print(p + suffix)"
   ]
  },
  {
   "cell_type": "markdown",
   "metadata": {},
   "source": [
    "## Useful Functions and Statements\n",
    "\n",
    "Next, we'll review some useful functions and statements that can be used with strings or that relate to strings specifically. Distinctions will be made by the language we use.\n",
    "\n",
    "### Length\n",
    "\n",
    "The `len` function computes how many units are in a compound type. For example:"
   ]
  },
  {
   "cell_type": "code",
   "execution_count": 4,
   "metadata": {},
   "outputs": [
    {
     "name": "stdout",
     "output_type": "stream",
     "text": [
      "Original string: \"hello, World!\"\n",
      "Number of characters in original string: 13\n"
     ]
    }
   ],
   "source": [
    "string = 'hello, World!'\n",
    "\n",
    "print(f'Original string: \"{string}\"')\n",
    "print(f'Number of characters in original string: {len(string):,}')"
   ]
  },
  {
   "cell_type": "markdown",
   "metadata": {},
   "source": [
    "### Slicing\n",
    "\n",
    "**Slicing** refers to extracting a subsection of compound types. In Python, this operation is denoted by a semicolon (`:`) within an indexing call. It has the following behaviour:\n",
    "\n",
    "1. `[m:n]`: Extract the units `m` (inclusive) through `n` (exclusive). If `n` > `length`, it will return the rest of the type.\n",
    "2. `[:n]` Extract from the first item (inclusive) to the `n`-th one (exclusive).\n",
    "3. `[m:]` Extract from the `m`-th item (inclusive) to the last one (exclusive).\n",
    "\n",
    "Examples:"
   ]
  },
  {
   "cell_type": "code",
   "execution_count": 5,
   "metadata": {},
   "outputs": [
    {
     "name": "stdout",
     "output_type": "stream",
     "text": [
      "Original string: \"hello, World!\"\n",
      "Substring [2:5]: \"llo\"\n",
      "Substring [2:500]: \"llo, World!\"\n",
      "Substring [:5]: \"hello\"\n",
      "Substring [2:]: \"llo, World!\"\n"
     ]
    }
   ],
   "source": [
    "string = 'hello, World!'\n",
    "\n",
    "print(f'Original string: \"{string}\"')\n",
    "print(f'Substring [2:5]: \"{string[2:5]}\"')\n",
    "print(f'Substring [2:500]: \"{string[2:500]}\"')\n",
    "print(f'Substring [:5]: \"{string[:5]}\"')\n",
    "print(f'Substring [2:]: \"{string[2:]}\"')"
   ]
  },
  {
   "cell_type": "markdown",
   "metadata": {},
   "source": [
    "### String Comparison\n",
    "\n",
    "Two strings are equal if they are the same character by character. This can be tested by using the equality expression:"
   ]
  },
  {
   "cell_type": "code",
   "execution_count": 6,
   "metadata": {},
   "outputs": [
    {
     "name": "stdout",
     "output_type": "stream",
     "text": [
      "String 1: \"hello, world!\"\n",
      "String 2: \"hello, World!\"\n",
      "\n",
      "Since the \"w\" in \"world\" is capitalized differently, they are different:\n",
      "string_1 == string_2 returns False\n",
      "\n",
      "However, if we change it to lower case they become the equal:\n",
      "string_1.lower() == string_2.lower() returns True\n"
     ]
    }
   ],
   "source": [
    "string_1 = 'hello, world!'\n",
    "string_2 = 'hello, World!'\n",
    "\n",
    "print(f'String 1: \"{string_1}\"')\n",
    "print(f'String 2: \"{string_2}\"')\n",
    "print('')\n",
    "print(\n",
    "    ('Since the \"w\" in \"world\" is '\n",
    "     'capitalized differently, they are different:\\n'\n",
    "     f'string_1 == string_2 returns {string_1 == string_2}')\n",
    ")\n",
    "print('')\n",
    "print(\n",
    "    ('However, if we change it to lower case '\n",
    "     'they become the equal:\\n'\n",
    "     'string_1.lower() == string_2.lower() returns '\n",
    "     f'{string_1.lower() == string_2.lower()}')\n",
    ")"
   ]
  },
  {
   "cell_type": "markdown",
   "metadata": {},
   "source": [
    "### The in Operator\n",
    "\n",
    "The boolean `in` operator checks for memership of a slice within a composite type. Its structure is:\n",
    "\n",
    "``` <slice> in <test type>```\n",
    "\n",
    "It returns `True` if there exists a slice in `<test type>` that is equal to the target `<slice>` (empty subslices are considered to be subslices of any test): "
   ]
  },
  {
   "cell_type": "code",
   "execution_count": 7,
   "metadata": {},
   "outputs": [
    {
     "name": "stdout",
     "output_type": "stream",
     "text": [
      "Test \"p\" in \"apple\": True\n",
      "Test \"i\" in \"apple\": False\n",
      "Test \"ap\" in \"apple\": True\n",
      "Test \"pa\" in \"apple\": False\n",
      "Test \"a\" in \"a\": True\n",
      "Test \"apple\" in \"apple\": True\n",
      "Test \"\" in \"apple\": True\n"
     ]
    }
   ],
   "source": [
    "print(f'Test \"p\" in \"apple\": {\"p\" in \"apple\"}')\n",
    "print(f'Test \"i\" in \"apple\": {\"i\" in \"apple\"}')\n",
    "print(f'Test \"ap\" in \"apple\": {\"ap\" in \"apple\"}')\n",
    "print(f'Test \"pa\" in \"apple\": {\"pa\" in \"apple\"}')\n",
    "print(f'Test \"a\" in \"a\": {\"a\" in \"a\"}')\n",
    "print(f'Test \"apple\" in \"apple\": {\"apple\" in \"apple\"}')\n",
    "print(f'Test \"\" in \"apple\": {\"\" in \"apple\"}')"
   ]
  },
  {
   "cell_type": "markdown",
   "metadata": {},
   "source": [
    "### The split Method\n",
    "\n",
    "The `split` method separates a string into a list of words, removing whitespaces."
   ]
  },
  {
   "cell_type": "code",
   "execution_count": 8,
   "metadata": {},
   "outputs": [
    {
     "name": "stdout",
     "output_type": "stream",
     "text": [
      "Original string: \"Well I never did say 'Alice'.\"\n",
      "Split text: ['Well', 'I', 'never', 'did', 'say', \"'Alice'.\"]\n"
     ]
    }
   ],
   "source": [
    "string = \"Well I never did say 'Alice'.\"\n",
    "\n",
    "print(f'Original string: \"{string}\"')\n",
    "print(f'Split text: {string.split()}')"
   ]
  },
  {
   "cell_type": "markdown",
   "metadata": {},
   "source": [
    "Actually, `split` can also receive a parameter that allows you to split by any substring you want:"
   ]
  },
  {
   "cell_type": "code",
   "execution_count": 9,
   "metadata": {},
   "outputs": [
    {
     "name": "stdout",
     "output_type": "stream",
     "text": [
      "Original string: \"12:11:00\"\n",
      "Split text (splitting by \":\"): ['12', '11', '00']\n",
      "\n",
      "Original string: \"I<token>want<token>to<token>break<token>free\"\n",
      "Split text (splitting by \"<token>\"): ['I', 'want', 'to', 'break', 'free']\n"
     ]
    }
   ],
   "source": [
    "string = \"12:11:00\"\n",
    "print(f'Original string: \"{string}\"')\n",
    "print(f'Split text (splitting by \":\"): {string.split(\":\")}')\n",
    "\n",
    "print('')\n",
    "\n",
    "string = \"I<token>want<token>to<token>break<token>free\"\n",
    "print(f'Original string: \"{string}\"')\n",
    "print(f'Split text (splitting by \"<token>\"): {string.split(\"<token>\")}')"
   ]
  },
  {
   "cell_type": "markdown",
   "metadata": {},
   "source": [
    "### The find Method\n",
    "\n",
    "The `find` method returns the first index at which a substring occurs within a string."
   ]
  },
  {
   "cell_type": "code",
   "execution_count": 10,
   "metadata": {},
   "outputs": [
    {
     "name": "stdout",
     "output_type": "stream",
     "text": [
      "Index of the first \"na\" in \"banana\": 2\n"
     ]
    }
   ],
   "source": [
    "print(f'Index of the first \"na\" in \"banana\": {\"banana\".find(\"na\")}')"
   ]
  },
  {
   "cell_type": "markdown",
   "metadata": {},
   "source": [
    "### The format Method\n",
    "\n",
    "The format method has two functions:\n",
    "\n",
    "1. It allows you to replace place holders in strings with variable contents.\n",
    "2. It allows you to specify the way in which something is printed.\n",
    "\n",
    "Place holders are defined using curly brackets within strings. They can be specified in four ways, which _cannot_ be mixed:\n",
    "\n",
    "1. Ordinally: The inputs for the `format` method are in the same order as they appear in the string.\n",
    "\n",
    "    ```'The first place holder {} and the second one {}'.format(first, second)```\n",
    "\n",
    "2. Positionally: Place the number of input in the format function you want to use for the place holder.\n",
    "\n",
    "    ```'The second place holder {1} and the first one {0}'.format(first, second)```\n",
    "    \n",
    "3. Through variable names: Each place holder has a variable name associated with it, and in the function call the variables are assigned.\n",
    "\n",
    "    ```'The second place holder {second} and the first one {first}'.format(first=first, second=second)```\n",
    "    \n",
    "4. Through **f-strings**: f-strings were introduced in Python 3.6 and greatly simplify the format function. They're defined by placing an `f` token _before_ the string, and place holders contain the expressions to be evaluated or variables themselves:\n",
    "\n",
    "   ```f'The second place holder {second} and the first one {first}'```\n",
    "   \n",
    "Example:"
   ]
  },
  {
   "cell_type": "code",
   "execution_count": 11,
   "metadata": {},
   "outputs": [
    {
     "name": "stdout",
     "output_type": "stream",
     "text": [
      "   i  i**2  i**3    i**5        i**10                   i**20\n",
      "   1     1     1       1            1                       1\n",
      "   2     4     8      32         1024                 1048576\n",
      "   3     9    27     243        59049              3486784401\n",
      "   4    16    64    1024      1048576           1099511627776\n",
      "   5    25   125    3125      9765625          95367431640625\n",
      "   6    36   216    7776     60466176        3656158440062976\n",
      "   7    49   343   16807    282475249       79792266297612001\n",
      "   8    64   512   32768   1073741824     1152921504606846976\n",
      "   9    81   729   59049   3486784401    12157665459056928801\n",
      "  10   100  1000  100000  10000000000   100000000000000000000\n"
     ]
    }
   ],
   "source": [
    "layout = \"{0:>4}{1:>6}{2:>6}{3:>8}{4:>13}{5:>24}\"\n",
    "\n",
    "print(layout.format(\"i\", \"i**2\", \"i**3\", \"i**5\", \"i**10\", \"i**20\"))\n",
    "for i in range(1, 11):\n",
    "    print(layout.format(i, i**2, i**3, i**5, i**10, i**20))"
   ]
  },
  {
   "cell_type": "markdown",
   "metadata": {},
   "source": [
    "## Excercises.\n",
    "\n",
    "### 1\n",
    "\n",
    "What is the result of each of the following:\n",
    "\n",
    "1. `\"Python\"[1]`\n",
    "2. `\"Strings are sequences of characters.\"[5]`\n",
    "3. `len(\"wonderful\")`\n",
    "4. `\"Mystery\"[:4]`\n",
    "5. `\"p\" in \"Pineapple\"`\n",
    "6. `\"apple\" in \"Pineapple\"`\n",
    "7. `\"pear\" not in \"Pineapple\"`\n",
    "8. `\"apple\" > \"pineapple\"`\n",
    "9. `\"pineapple\" < \"Peach\"`\n",
    "\n",
    "#### Answer:\n",
    "\n",
    "1. `\"y\"`\n",
    "2. `\"g\"`\n",
    "3. 9\n",
    "4. `\"Myst\"`\n",
    "5. `True`\n",
    "6. `True`\n",
    "7. `True`\n",
    "8. `False`\n",
    "9. `False`"
   ]
  },
  {
   "cell_type": "code",
   "execution_count": 12,
   "metadata": {},
   "outputs": [
    {
     "name": "stdout",
     "output_type": "stream",
     "text": [
      "Answer to 1: y\n",
      "Answer to 2: g\n",
      "Answer to 3: 9\n",
      "Answer to 4: Myst\n",
      "Answer to 5: True\n",
      "Answer to 6: True\n",
      "Answer to 7: True\n",
      "Answer to 8: False\n",
      "Answer to 9: False\n"
     ]
    }
   ],
   "source": [
    "print(f'Answer to 1: {\"Python\"[1]}')\n",
    "print(f'Answer to 2: {\"Strings are sequences of characters.\"[5]}')\n",
    "print(f'Answer to 3: {len(\"wonderful\")}')\n",
    "print(f'Answer to 4: {\"Mystery\"[:4]}')\n",
    "print(f'Answer to 5: {\"p\" in \"Pineapple\"}')\n",
    "print(f'Answer to 6: {\"apple\" in \"Pineapple\"}')\n",
    "print(f'Answer to 7: {\"pear\" not in \"Pineapple\"}')\n",
    "print(f'Answer to 8: {\"apple\" > \"pineapple\"}')\n",
    "print(f'Answer to 9: {\"pineapple\" < \"Peach\"}')"
   ]
  },
  {
   "cell_type": "markdown",
   "metadata": {},
   "source": [
    "### 2\n",
    "\n",
    "Modify\n",
    "\n",
    "```\n",
    "prefixes = \"JKLMNOPQ\"\n",
    "suffix = \"ack\"\n",
    "\n",
    "for letter in prefixes:\n",
    "    print(letter + suffix)\n",
    "\n",
    "```\n",
    "\n",
    "so that \"Ouack\" and \"Quack\" are spelled correctly."
   ]
  },
  {
   "cell_type": "code",
   "execution_count": 13,
   "metadata": {},
   "outputs": [
    {
     "name": "stdout",
     "output_type": "stream",
     "text": [
      "Jack\n",
      "Kack\n",
      "Lack\n",
      "Mack\n",
      "Nack\n",
      "Ouack\n",
      "Pack\n",
      "Quack\n"
     ]
    }
   ],
   "source": [
    "prefixes = \"JKLMNOPQ\"\n",
    "suffix = \"ack\"\n",
    "\n",
    "for letter in prefixes:\n",
    "    if letter in 'OQ':\n",
    "        letter += 'u'\n",
    "    print(letter + suffix)"
   ]
  },
  {
   "cell_type": "markdown",
   "metadata": {},
   "source": [
    "### 3\n",
    "\n",
    "Encapsulate\n",
    "\n",
    "```\n",
    "fruit = \"banana\"\n",
    "count = 0\n",
    "for char in fruit:\n",
    "    if char == \"a\":\n",
    "        count += 1\n",
    "print(count)\n",
    "```\n",
    "\n",
    "in a function named `count_letters`, and generalize it so that it accepts the string and the letter as arguments. Make the function return the number of characters, rather than print the answer. The caller should do the printing."
   ]
  },
  {
   "cell_type": "code",
   "execution_count": 14,
   "metadata": {},
   "outputs": [],
   "source": [
    "def count_letters(string, letter):\n",
    "    \"\"\"\n",
    "    Count the number of ocurrences of a letter in a string.\n",
    "    \"\"\"\n",
    "    # Initialize the counter\n",
    "    count = 0\n",
    "    \n",
    "    # Traverse the string\n",
    "    for char in string:\n",
    "        # Update count if current character is the target\n",
    "        if char == letter:\n",
    "            count += 1\n",
    "\n",
    "    return count\n",
    "\n",
    "\n",
    "assert count_letters('banana', 'a') == 3\n",
    "assert count_letters('abanana', 'a') == 4\n",
    "assert count_letters('BANANA', 'a') == 0\n",
    "assert count_letters('banana', '') == 0"
   ]
  },
  {
   "cell_type": "markdown",
   "metadata": {},
   "source": [
    "### 4\n",
    "\n",
    "Now rewrite the `count_letters` function so that instead of traversing the string, it repeatedly calls the `find` method, with the optional third parameter to locate new occurrences of the letter being counted."
   ]
  },
  {
   "cell_type": "code",
   "execution_count": 15,
   "metadata": {},
   "outputs": [],
   "source": [
    "def count_letters(string, letter):\n",
    "    \"\"\"\n",
    "    Count the number of ocurrences of a letter in a string.\n",
    "    \"\"\"\n",
    "    # Initialize the counter and first instance\n",
    "    \n",
    "    count = 0\n",
    "    \n",
    "    if letter:\n",
    "        found = string.find(letter)\n",
    "    else:\n",
    "        found = -1\n",
    "    \n",
    "    # While we still find instances of the letter in the string\n",
    "    while found != -1:\n",
    "        # Update count     \n",
    "        count += 1\n",
    "        \n",
    "        # Search for the next instance\n",
    "        found = string.find(letter, found+1)\n",
    "        \n",
    "        # If there are no more instances\n",
    "        if found == -1:\n",
    "            # We're done\n",
    "            return count\n",
    "\n",
    "    return count\n",
    "\n",
    "\n",
    "assert count_letters('banana', 'a') == 3\n",
    "assert count_letters('abanana', 'a') == 4\n",
    "assert count_letters('BANANA', 'a') == 0\n",
    "assert count_letters('banana', '') == 0"
   ]
  },
  {
   "cell_type": "markdown",
   "metadata": {},
   "source": [
    "### 5\n",
    "\n",
    "Assign to a variable in your program a triple-quoted string that contains your favourite paragraph of text — perhaps a poem, a speech, instructions to bake a cake, some inspirational verses, etc.\n",
    "\n",
    "Write a function which removes all punctuation from the string, breaks the string into a list of words, and counts the number of words in your text that contain the letter “e”. Your program should print an analysis of the text like this:\n",
    "\n",
    "> `Your text contains 243 words, of which 109 (44.8%) contain an \"e\".`"
   ]
  },
  {
   "cell_type": "code",
   "execution_count": 16,
   "metadata": {},
   "outputs": [],
   "source": [
    "import string\n",
    "\n",
    "def remove_punctuation(s):\n",
    "    \"\"\"\n",
    "    Remove punctuation frm a string.\n",
    "    \"\"\"\n",
    "    s_without_punct = \"\"\n",
    "    for letter in s:\n",
    "        if letter not in string.punctuation:\n",
    "            s_without_punct += letter\n",
    "    return s_without_punct\n",
    "\n",
    "assert remove_punctuation(\n",
    "    '\"Well, I never did!\", said Alice.') == \"Well I never did said Alice\"\n",
    "assert remove_punctuation(\n",
    "    \"Are you very, very, sure?\") == \"Are you very very sure\""
   ]
  },
  {
   "cell_type": "code",
   "execution_count": 17,
   "metadata": {},
   "outputs": [],
   "source": [
    "a_specials = ('á', 'à', 'â')\n",
    "e_specials = ('é', 'è', 'ê')\n",
    "i_specials = ('í', 'ì', 'î')\n",
    "o_specials = ('ó', 'ò', 'ô')\n",
    "u_specials = ('ú', 'ù', 'û')\n",
    "\n",
    "def homologate_special_characters(s):\n",
    "    \"\"\"\n",
    "    Remove accents from a string and change it to lower case.\n",
    "    \"\"\"\n",
    "    result = s.lower()\n",
    "    \n",
    "    for special in a_specials:\n",
    "        result = result.replace(special, 'a')\n",
    "    for special in e_specials:\n",
    "        result = result.replace(special, 'e')\n",
    "    for special in i_specials:\n",
    "        result = result.replace(special, 'i')\n",
    "    for special in o_specials:\n",
    "        result = result.replace(special, 'o')\n",
    "    for special in u_specials:\n",
    "        result = result.replace(special, 'u')\n",
    "    \n",
    "    return result\n",
    "\n",
    "assert homologate_special_characters('á') == 'a'\n",
    "assert homologate_special_characters('ê') == 'e'\n",
    "assert homologate_special_characters('ì') == 'i'\n",
    "assert homologate_special_characters('Ó') == 'o'\n",
    "assert homologate_special_characters('Û') == 'u'\n",
    "assert homologate_special_characters('hello') == 'hello'\n",
    "assert homologate_special_characters('heLLo') == 'hello'"
   ]
  },
  {
   "cell_type": "code",
   "execution_count": 18,
   "metadata": {},
   "outputs": [],
   "source": [
    "def analyze_paragraph(paragraph, letter='e'):\n",
    "    \"\"\"\n",
    "    Print an analysis of a paragraph that contains the number of words and \n",
    "    how many contain a letter.\n",
    "    \"\"\"\n",
    "    \n",
    "    # Process the paragraph\n",
    "    processed = homologate_special_characters(remove_punctuation(paragraph))\n",
    "    \n",
    "    # Create the list of words\n",
    "    processed = processed.split()\n",
    "    \n",
    "    # Count number of words\n",
    "    words = len(processed)\n",
    "    \n",
    "    # Count number of words with letter\n",
    "    letter_words = 0\n",
    "    for wor in processed:\n",
    "        if letter in wor:\n",
    "            letter_words += 1\n",
    "    \n",
    "    # Print analysis\n",
    "    print(\n",
    "        f'Your text contains {words:,} words, '\n",
    "        f'of which {letter_words:,} ({letter_words/words:.2%}) '\n",
    "        f'contain an \"{letter}\".'\n",
    "    )"
   ]
  },
  {
   "cell_type": "code",
   "execution_count": 19,
   "metadata": {},
   "outputs": [
    {
     "name": "stdout",
     "output_type": "stream",
     "text": [
      "Your text contains 26 words, of which 10 (38.46%) contain an \"e\".\n"
     ]
    }
   ],
   "source": [
    "paragraph = \"\"\"\n",
    "Las tierras, las tierras, las tierras de España,\n",
    "las grandes, las solas, desiertas llanuras.\n",
    "Galopa, caballo cuatralbo,\n",
    "jinete del pueblo,\n",
    "al sol y a la luna. \n",
    "\"\"\"\n",
    "\n",
    "analyze_paragraph(paragraph)"
   ]
  },
  {
   "cell_type": "markdown",
   "metadata": {},
   "source": [
    "### 6\n",
    "\n",
    "Print a neat looking multiplication table."
   ]
  },
  {
   "cell_type": "code",
   "execution_count": 20,
   "metadata": {},
   "outputs": [
    {
     "name": "stdout",
     "output_type": "stream",
     "text": [
      "    1:     1    2    3    4    5    6    7    8    9   10   11   12\n",
      "\n",
      "     :  -  -  -  -  -  -  -  -  -  -  -  -  -  -  -  -  -  -  -  -  -  -  -  - \n",
      "\n",
      "    1:     1    2    3    4    5    6    7    8    9   10   11   12\n",
      "\n",
      "    2:     2    4    6    8   10   12   14   16   18   20   22   24\n",
      "\n",
      "    3:     3    6    9   12   15   18   21   24   27   30   33   36\n",
      "\n",
      "    4:     4    8   12   16   20   24   28   32   36   40   44   48\n",
      "\n",
      "    5:     5   10   15   20   25   30   35   40   45   50   55   60\n",
      "\n",
      "    6:     6   12   18   24   30   36   42   48   54   60   66   72\n",
      "\n",
      "    7:     7   14   21   28   35   42   49   56   63   70   77   84\n",
      "\n",
      "    8:     8   16   24   32   40   48   56   64   72   80   88   96\n",
      "\n",
      "    9:     9   18   27   36   45   54   63   72   81   90   99  108\n",
      "\n",
      "   10:    10   20   30   40   50   60   70   80   90  100  110  120\n",
      "\n",
      "   11:    11   22   33   44   55   66   77   88   99  110  121  132\n",
      "\n",
      "   12:    12   24   36   48   60   72   84   96  108  120  132  144\n",
      "\n"
     ]
    }
   ],
   "source": [
    "def print_multiples(n, high):\n",
    "    \"\"\"\n",
    "    Print a row of a multiplication table.\n",
    "    \"\"\"\n",
    "    string = f'{n:5}: '\n",
    "    for i in range(1, high+1):\n",
    "        # Build row by multiplying n i times\n",
    "        string += f'{n*i:>5}'\n",
    "    print(string)\n",
    "    print()\n",
    "\n",
    "def print_mult_table(max_num):\n",
    "    \"\"\"\n",
    "    Build a multiplication table.\n",
    "    \"\"\"\n",
    "    print_multiples(1, max_num)\n",
    "    print(f'{\"\":5}: ' + ' - '* max_num * 2)\n",
    "    print('')\n",
    "    for i in range(1, max_num+1):\n",
    "        print_multiples(i, max_num)\n",
    "        \n",
    "print_mult_table(12)"
   ]
  },
  {
   "cell_type": "markdown",
   "metadata": {},
   "source": [
    "### 7\n",
    "\n",
    "Write a function that reverses its string argument, and satisfies these tests:\n",
    "\n",
    "```\n",
    "test(reverse(\"happy\") == \"yppah\")\n",
    "test(reverse(\"Python\") == \"nohtyP\")\n",
    "test(reverse(\"\") == \"\")\n",
    "test(reverse(\"a\") == \"a\")\n",
    "```"
   ]
  },
  {
   "cell_type": "code",
   "execution_count": 21,
   "metadata": {},
   "outputs": [],
   "source": [
    "def reverse(s):\n",
    "    \"\"\"\n",
    "    Reverse the order of a string.\n",
    "    \"\"\"\n",
    "    result = ''\n",
    "    for char in s:\n",
    "        result = char + result\n",
    "    return result\n",
    "    \n",
    "assert reverse(\"happy\") == \"yppah\"\n",
    "assert reverse(\"Python\") == \"nohtyP\"\n",
    "assert reverse(\"\") == \"\"\n",
    "assert reverse(\"a\") == \"a\""
   ]
  },
  {
   "cell_type": "markdown",
   "metadata": {},
   "source": [
    "### 8\n",
    "\n",
    "Write a function that mirrors its argument:\n",
    "\n",
    "```\n",
    "test(mirror(\"good\") == \"gooddoog\")\n",
    "test(mirror(\"Python\") == \"PythonnohtyP\")\n",
    "test(mirror(\"\") == \"\")\n",
    "test(mirror(\"a\") == \"aa\")\n",
    "```"
   ]
  },
  {
   "cell_type": "code",
   "execution_count": 22,
   "metadata": {},
   "outputs": [],
   "source": [
    "def mirror(s):\n",
    "    \"\"\"\n",
    "    Concatenate a string with its mirror image.\n",
    "    \"\"\"\n",
    "    return s + reverse(s)\n",
    "\n",
    "assert mirror(\"good\") == \"gooddoog\"\n",
    "assert mirror(\"Python\") == \"PythonnohtyP\"\n",
    "assert mirror(\"\") == \"\"\n",
    "assert mirror(\"a\") == \"aa\""
   ]
  },
  {
   "cell_type": "markdown",
   "metadata": {},
   "source": [
    "### 9\n",
    "\n",
    "Write a function that removes all occurrences of a given letter from a string:\n",
    "\n",
    "```\n",
    "test(remove_letter(\"a\", \"apple\") == \"pple\")\n",
    "test(remove_letter(\"a\", \"banana\") == \"bnn\")\n",
    "test(remove_letter(\"z\", \"banana\") == \"banana\")\n",
    "test(remove_letter(\"i\", \"Mississippi\") == \"Msssspp\")\n",
    "test(remove_letter(\"b\", \"\") = \"\")\n",
    "test(remove_letter(\"b\", \"c\") = \"c\")\n",
    "\n",
    "```"
   ]
  },
  {
   "cell_type": "code",
   "execution_count": 23,
   "metadata": {},
   "outputs": [],
   "source": [
    "def remove_letter(letter, string):\n",
    "    \"\"\"\n",
    "    Remove all instances of a letter from string.\n",
    "    \"\"\"\n",
    "    result = ''\n",
    "    for char in string:\n",
    "        if char != letter:\n",
    "            result += char\n",
    "    return result\n",
    "\n",
    "assert remove_letter(\"a\", \"apple\") == \"pple\"\n",
    "assert remove_letter(\"a\", \"banana\") == \"bnn\"\n",
    "assert remove_letter(\"z\", \"banana\") == \"banana\"\n",
    "assert remove_letter(\"i\", \"Mississippi\") == \"Msssspp\"\n",
    "assert remove_letter(\"b\", \"\") == \"\"\n",
    "assert remove_letter(\"b\", \"c\") == \"c\""
   ]
  },
  {
   "cell_type": "markdown",
   "metadata": {},
   "source": [
    "### 10\n",
    "\n",
    "Write a function that recognizes palindromes.\n",
    "\n",
    "```\n",
    "test(is_palindrome(\"abba\"))\n",
    "test(not is_palindrome(\"abab\"))\n",
    "test(is_palindrome(\"tenet\"))\n",
    "test(not is_palindrome(\"banana\"))\n",
    "test(is_palindrome(\"straw warts\"))\n",
    "test(is_palindrome(\"a\"))\n",
    "```"
   ]
  },
  {
   "cell_type": "code",
   "execution_count": 24,
   "metadata": {},
   "outputs": [],
   "source": [
    "def is_palindrome(s):\n",
    "    \"\"\"\n",
    "    Return whether a string is a palindrome or not.\n",
    "    \"\"\"\n",
    "    return s == reverse(s)\n",
    "\n",
    "assert is_palindrome(\"abba\")\n",
    "assert not is_palindrome(\"abab\")\n",
    "assert is_palindrome(\"tenet\")\n",
    "assert not is_palindrome(\"banana\")\n",
    "assert is_palindrome(\"straw warts\")\n",
    "assert is_palindrome(\"a\")\n",
    "assert is_palindrome(\"\")"
   ]
  },
  {
   "cell_type": "markdown",
   "metadata": {},
   "source": [
    "### 11\n",
    "\n",
    "Write a function that counts how many times a substring occurs in a string.\n",
    "\n",
    "```\n",
    "test(count(\"is\", \"Mississippi\") == 2)\n",
    "test(count(\"an\", \"banana\") == 2)\n",
    "test(count(\"ana\", \"banana\") == 2)\n",
    "test(count(\"nana\", \"banana\") == 1)\n",
    "test(count(\"nanan\", \"banana\") == 0)\n",
    "test(count(\"aaa\", \"aaaaaa\") == 4)\n",
    "```"
   ]
  },
  {
   "cell_type": "code",
   "execution_count": 25,
   "metadata": {},
   "outputs": [],
   "source": [
    "def count_substrings(sub, string):\n",
    "    \"\"\"\n",
    "    Count the number of occurrences of a substring in a string.\n",
    "    \"\"\"\n",
    "    result = 0\n",
    "    sub_length = len(sub)\n",
    "    for ix in range(len(string)):\n",
    "        if string[ix: ix + sub_length] == sub:\n",
    "            result += 1\n",
    "    return result\n",
    "        \n",
    "\n",
    "assert count_substrings(\"is\", \"Mississippi\") == 2\n",
    "assert count_substrings(\"an\", \"banana\") == 2\n",
    "assert count_substrings(\"ana\", \"banana\") == 2\n",
    "assert count_substrings(\"nana\", \"banana\") == 1\n",
    "assert count_substrings(\"nanan\", \"banana\") == 0\n",
    "assert count_substrings(\"aaa\", \"aaaaaa\") == 4"
   ]
  },
  {
   "cell_type": "markdown",
   "metadata": {},
   "source": [
    "### 12\n",
    "\n",
    "Write a function that removes the first occurrence of a string from another string.\n",
    "\n",
    "```\n",
    "test(remove(\"an\", \"banana\") == \"bana\")\n",
    "test(remove(\"cyc\", \"bicycle\") == \"bile\")\n",
    "test(remove(\"iss\", \"Mississippi\") == \"Missippi\")\n",
    "test(remove(\"eggs\", \"bicycle\") == \"bicycle\")\n",
    "```"
   ]
  },
  {
   "cell_type": "code",
   "execution_count": 26,
   "metadata": {},
   "outputs": [],
   "source": [
    "def remove(sub, string):\n",
    "    \"\"\"\n",
    "    Remove the first occurence of a substring in a string.\n",
    "    \"\"\"\n",
    "    splitted = string.split(sub)\n",
    "    result = splitted[0]\n",
    "\n",
    "    if len(splitted) > 1:\n",
    "        result += splitted[1]\n",
    "        if len(splitted) > 2:\n",
    "            result += sub\n",
    "            final = sub.join([x for x in splitted[2:]])\n",
    "            result += final\n",
    "    return result\n",
    "            \n",
    "\n",
    "assert remove(\"an\", \"banana\") == \"bana\"\n",
    "assert remove(\"cyc\", \"bicycle\") == \"bile\"\n",
    "assert remove(\"iss\", \"Mississippi\") == \"Missippi\"\n",
    "assert remove(\"eggs\", \"bicycle\") == \"bicycle\""
   ]
  },
  {
   "cell_type": "markdown",
   "metadata": {},
   "source": [
    "### 13\n",
    "\n",
    "Write a function that removes all occurrences of a string from another string.\n",
    "\n",
    "```\n",
    "test(remove_all(\"an\", \"banana\") == \"ba\")\n",
    "test(remove_all(\"cyc\", \"bicycle\") == \"bile\")\n",
    "test(remove_all(\"iss\", \"Mississippi\") == \"Mippi\")\n",
    "test(remove_all(\"eggs\", \"bicycle\") == \"bicycle\")\n",
    "```"
   ]
  },
  {
   "cell_type": "code",
   "execution_count": 27,
   "metadata": {},
   "outputs": [],
   "source": [
    "def remove_all(sub, string):\n",
    "    \"\"\"\n",
    "    Remove all insances of sub in string.\n",
    "    \"\"\"\n",
    "    splitted = string.split(sub)\n",
    "    result = splitted[0]\n",
    "\n",
    "    if len(splitted) > 1:\n",
    "            final = ''.join([x for x in splitted[1:]])\n",
    "            result += final\n",
    "    return result\n",
    "            \n",
    "\n",
    "assert remove_all(\"an\", \"banana\") == \"ba\"\n",
    "assert remove_all(\"cyc\", \"bicycle\") == \"bile\"\n",
    "assert remove_all(\"iss\", \"Mississippi\") == \"Mippi\"\n",
    "assert remove_all(\"eggs\", \"bicycle\") == \"bicycle\""
   ]
  }
 ],
 "metadata": {
  "kernelspec": {
   "display_name": "Python 3",
   "language": "python",
   "name": "python3"
  },
  "language_info": {
   "codemirror_mode": {
    "name": "ipython",
    "version": 3
   },
   "file_extension": ".py",
   "mimetype": "text/x-python",
   "name": "python",
   "nbconvert_exporter": "python",
   "pygments_lexer": "ipython3",
   "version": "3.6.4"
  }
 },
 "nbformat": 4,
 "nbformat_minor": 4
}
