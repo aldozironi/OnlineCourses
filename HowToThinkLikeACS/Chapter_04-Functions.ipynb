{
 "cells": [
  {
   "cell_type": "markdown",
   "metadata": {},
   "source": [
    "# Chapter 4: Functions.\n",
    "\n",
    "A **function** is a named sequence of statements that belong together. Their purpose is to organize programs into chunks that match how we think about the problem. The **function definition** has the following syntax:\n",
    "\n",
    "```\n",
    "def <name>(<parameters>):\n",
    "    <content>\n",
    "```\n",
    "\n",
    "With this, you group the contents of the function, but you don't actually execute it yet. In order to execute a function, you need to do a **function call**, which contains the name of the function being exected and its **arguments** (the values it uses as parameters).\n",
    "\n",
    "Once defined, We can call a function any number of times\n",
    "\n",
    "For example, we can write a function to draw squares using turtles:"
   ]
  },
  {
   "cell_type": "code",
   "execution_count": 1,
   "metadata": {},
   "outputs": [],
   "source": [
    "import turtle\n",
    "\n",
    "# Function definitions\n",
    "def draw_square(t, sz):\n",
    "    \"\"\"\n",
    "    Make turtle t draw a square of sz.\n",
    "    \"\"\"\n",
    "    for i in range(4):\n",
    "        t.forward(sz)\n",
    "        t.left(90)\n",
    "\n",
    "\n",
    "def draw_multicolor_square(t, sz):\n",
    "    \"\"\"\n",
    "    Make turtle t draw a multi-color square of sz.\n",
    "    \"\"\"\n",
    "    for i in [\"red\", \"purple\", \"hotpink\", \"blue\"]:\n",
    "        t.color(i)\n",
    "        t.forward(sz)\n",
    "        t.left(90)\n",
    "    \n",
    "wn = turtle.Screen()        # Set up the window and its attributes\n",
    "wn.bgcolor(\"lightgreen\")\n",
    "wn.title(\"Turtles and functions\")\n",
    "\n",
    "alex = turtle.Turtle()      # Create alex\n",
    "tess = turtle.Turtle()      # Create tess and set some attributes\n",
    "\n",
    "# Function call\n",
    "draw_square(alex, 50)       # Alex draws a square\n",
    "\n",
    "size = 20                   # Size of the smallest square\n",
    "for i in range(15):\n",
    "    \n",
    "    # Function call\n",
    "    draw_multicolor_square(tess, size) # Tess draws a multicolor square\n",
    "    size = size + 10        # Increase the size for next time\n",
    "    tess.forward(10)        # Move tess along a little\n",
    "    tess.right(18)          #    and give her some turn\n",
    "\n",
    "wn.mainloop()"
   ]
  },
  {
   "cell_type": "markdown",
   "metadata": {},
   "source": [
    "Additionally, you can make a call to a function _within_ another function. For example, we can create a function that draws a rectangle and use it to define one that draws a square:"
   ]
  },
  {
   "cell_type": "code",
   "execution_count": 1,
   "metadata": {},
   "outputs": [],
   "source": [
    "import turtle\n",
    "\n",
    "def draw_rectangle(t, w, h):\n",
    "    \"\"\"\n",
    "    Make turtle t draw a rectangle of width w and height h.\n",
    "    \"\"\"\n",
    "    for i in range(2):\n",
    "        t.forward(w)\n",
    "        t.left(90)\n",
    "        t.forward(h)\n",
    "        t.left(90)\n",
    "\n",
    "def draw_square(tx, sz):        # A new version of draw_square\n",
    "    \"\"\"\n",
    "    Make turtle t draw a square of sz.\n",
    "    \"\"\"\n",
    "    draw_rectangle(tx, sz, sz)\n",
    "    \n",
    "    \n",
    "wn = turtle.Screen()        # Set up the window and its attributes\n",
    "wn.bgcolor(\"lightgreen\")\n",
    "wn.title(\"Turtles and functions\")\n",
    "\n",
    "alex = turtle.Turtle()      # Create alex\n",
    "draw_square(alex, 50)       # Alex draws a square\n",
    "alex.penup()\n",
    "alex.forward(100)\n",
    "alex.pendown()\n",
    "draw_rectangle(alex, 20, 100) # Alex draws a rectangle\n",
    "\n",
    "wn.mainloop()"
   ]
  },
  {
   "cell_type": "markdown",
   "metadata": {},
   "source": [
    "## Docstrings\n",
    "\n",
    "Note that the preceeding functions are immediately followed by a string that explains what it does. This is called a **docstring**. They are a way to document what each function does, what parameters it takes and what it returns. The goal is to provide enough information to use the function without having to read the code. [PEP-257](https://www.python.org/dev/peps/pep-0257/) contains the conventions used for docstrings.\n",
    "\n",
    "\n",
    "## Flow of Execution\n",
    "\n",
    "The **flow of execution** is the order in which statements are executed in a program. In Python, the flow of execution generally goes from top to bottom.\n",
    "\n",
    "Note, however that statements _within_ a function definition aren't executed. This is because the definition is itself a statement that groups statements instead of executing it.\n",
    "\n",
    "When reading programs, it's important to read them following the flow of execution, instead of from top to bottom and keep track of when each cunction call was made in order to not get lost when there are functions that call other functions.\n",
    "\n",
    "## Functions that Return Values and Functions that Don't\n",
    "\n",
    "A function is said to **return a value** or be **fruitful** if after running it, it provides a value that can be used. For example, the absolute value function from Python is fruitful."
   ]
  },
  {
   "cell_type": "code",
   "execution_count": 1,
   "metadata": {},
   "outputs": [
    {
     "data": {
      "text/plain": [
       "83"
      ]
     },
     "execution_count": 1,
     "metadata": {},
     "output_type": "execute_result"
    }
   ],
   "source": [
    "abs(-83)"
   ]
  },
  {
   "cell_type": "markdown",
   "metadata": {},
   "source": [
    "In order to define a fruitful function, you need to add a `return` statement to it. Keep in mind that\n",
    "\n",
    "* When calling a function, it's execution will stop the moment it finds the return statement, which means that you have to be careful where you place them.\n",
    "\n",
    "* A function can have multiple `return` statements."
   ]
  },
  {
   "cell_type": "code",
   "execution_count": 2,
   "metadata": {},
   "outputs": [
    {
     "name": "stdin",
     "output_type": "stream",
     "text": [
      "How much do you want to invest? 42\n"
     ]
    },
    {
     "name": "stdout",
     "output_type": "stream",
     "text": [
      "At the end of the period you'll have $62.57\n"
     ]
    }
   ],
   "source": [
    "def final_amt(amt, rate, compounded, years):\n",
    "    \"\"\"\n",
    "    Compute the final ammount of an investment compounded\n",
    "    through a number of years.\n",
    "    \"\"\"\n",
    "    a = amt * (1 + rate/compounded) ** (compounded*years)\n",
    "    return a  # return statement to make function fruitful.\n",
    "\n",
    "toInvest = float(input(\"How much do you want to invest?\"))\n",
    "fnl = final_amt(toInvest, 0.08, 12, 5)\n",
    "print(f\"At the end of the period you'll have ${fnl:,.2f}\")"
   ]
  },
  {
   "cell_type": "markdown",
   "metadata": {},
   "source": [
    "**Void** functions are the opposite: they only alter states without returning a value. This types of functions don't contain a `return`statement. For example, the `make_square` function we used previously is void.\n",
    "\n",
    "In strict sense, Python doesn't allow this type of functions. If you define a function without a `return` statement, it will return `None`.\n",
    "\n",
    "## Function Scopes\n",
    "\n",
    "As a general rule, all parameters a function uses have a **local scope**, meaning that they only exist when the function is running. They get destroyed after the function finishes executing.\n",
    "\n",
    "For example, the parameter `rate` in the `final_amt` function above only exists when the function is called:"
   ]
  },
  {
   "cell_type": "code",
   "execution_count": 3,
   "metadata": {},
   "outputs": [
    {
     "name": "stdout",
     "output_type": "stream",
     "text": [
      "Inside the function the variable rate existsand takes the value 0.08\n",
      "Outside the function rate doesn't exist and calling it yields an error\n"
     ]
    },
    {
     "ename": "NameError",
     "evalue": "name 'rate' is not defined",
     "output_type": "error",
     "traceback": [
      "\u001b[0;31m---------------------------------------------------------------------------\u001b[0m",
      "\u001b[0;31mNameError\u001b[0m                                 Traceback (most recent call last)",
      "\u001b[0;32m<ipython-input-3-fc402a161f5a>\u001b[0m in \u001b[0;36m<module>\u001b[0;34m\u001b[0m\n\u001b[1;32m     13\u001b[0m \u001b[0mprint\u001b[0m\u001b[0;34m(\u001b[0m\u001b[0;34m\"Outside the function rate doesn't exist and calling it yields an error\"\u001b[0m\u001b[0;34m)\u001b[0m\u001b[0;34m\u001b[0m\u001b[0m\n\u001b[1;32m     14\u001b[0m \u001b[0;34m\u001b[0m\u001b[0m\n\u001b[0;32m---> 15\u001b[0;31m \u001b[0mrate\u001b[0m\u001b[0;34m\u001b[0m\u001b[0m\n\u001b[0m",
      "\u001b[0;31mNameError\u001b[0m: name 'rate' is not defined"
     ]
    }
   ],
   "source": [
    "def final_amt(amt, rate, compounded, years):\n",
    "    \"\"\"\n",
    "    Compute the final ammount of an investment compounded\n",
    "    through a number of years.\n",
    "    \"\"\"\n",
    "    a = amt * (1 + rate/compounded) ** (compounded*years)\n",
    "    print(f'Inside the function the variable rate exists' \n",
    "          f'and takes the value {rate}')\n",
    "    return a  # return statement to make function fruitful.\n",
    "\n",
    "final_amt(42, .08, 12, 5)\n",
    "\n",
    "print(\"Outside the function rate doesn't exist and calling it yields an error\")\n",
    "\n",
    "rate"
   ]
  },
  {
   "cell_type": "markdown",
   "metadata": {},
   "source": [
    "## Refactoring\n",
    "\n",
    "**Refactoring** is the process of rearranging code to make it more understandable or fit it better into mental chunks.\n",
    "\n",
    "A trick to this process is anticipating what things we are likely to want to change each time we call a function or script. They should become parameters."
   ]
  },
  {
   "cell_type": "markdown",
   "metadata": {},
   "source": [
    "## Excercises\n",
    "\n",
    "### 1\n",
    "\n",
    "Write a void function to draw a square. Use it to draw 5 squares, side by side with a space between them."
   ]
  },
  {
   "cell_type": "code",
   "execution_count": 1,
   "metadata": {},
   "outputs": [],
   "source": [
    "import turtle\n",
    "\n",
    "def draw_square(t, sz):\n",
    "    \"\"\"\n",
    "    Make turtle t draw a square of sz.\n",
    "    \"\"\"\n",
    "    for i in range(4):\n",
    "        t.forward(sz)\n",
    "        t.left(90)\n",
    "\n",
    "\n",
    "wn = turtle.Screen()\n",
    "wn.bgcolor(\"lightgreen\")\n",
    "\n",
    "alex = turtle.Turtle() \n",
    "\n",
    "size = 20  # Square size\n",
    "num_squares = 5  # Number of squares\n",
    "\n",
    "for square in range(num_squares):\n",
    "    # Draw the square\n",
    "    draw_square(alex, size)\n",
    "    \n",
    "    # Move forward and leave a space\n",
    "    alex.penup()\n",
    "    alex.forward(2*size)\n",
    "    alex.pendown()\n",
    "\n",
    "wn.mainloop()"
   ]
  },
  {
   "cell_type": "markdown",
   "metadata": {},
   "source": [
    "### 2\n",
    "\n",
    "Write a program to draw 5 concentric squares, starting with one of 20 units and each consecutive one 20 units larger.\n",
    "\n",
    "#### Answer\n",
    "\n",
    "Note that in order to make the squares concentric, we need to compute how much the turtle needs to move from the ending vertex to the next one.\n",
    "\n",
    "Now,from the Pythagorean Theorem:\n",
    "\n",
    "$$D^2 = \\left(\\frac{s}{2}\\right)^2 + \\left(\\frac{s}{2}\\right)^2,$$\n",
    "\n",
    "where $D$ is the distance from the center to a vertex and $s$ is the length of a side of the square. Simplifying,\n",
    "\n",
    "$$D^2 = \\frac{s^2}{2}$$\n",
    "\n",
    "Therefore, of the $\\sqrt{\\left( \\frac{s_l^2}{2} \\right)}$ units that separate a square from the origin, it's inner square covers $\\sqrt{\\left( \\frac{s_s^2}{2} \\right)}$ units, and the turtle has to move:\n",
    "\n",
    "$$M = \\sqrt{\\left( \\frac{s_l^2}{2} \\right)} - \\sqrt{\\left( \\frac{s_s^2}{2} \\right)} $$"
   ]
  },
  {
   "cell_type": "code",
   "execution_count": 1,
   "metadata": {},
   "outputs": [],
   "source": [
    "import turtle\n",
    "from math import sqrt\n",
    "\n",
    "def draw_square(t, sz):\n",
    "    \"\"\"\n",
    "    Make turtle t draw a square of sz.\n",
    "    \"\"\"\n",
    "    for i in range(4):\n",
    "        t.forward(sz)\n",
    "        t.left(90)\n",
    "\n",
    "def find_distance_between_squares(square_size, increment):\n",
    "    \"\"\"\n",
    "    Compute the distance between two concentric squares when the smaller square\n",
    "    has sides of square_size and the larger has sides that are increment units\n",
    "    larger.\n",
    "    \"\"\"\n",
    "    new_square_size = square_size + increment\n",
    "    small_square_dist = sqrt(square_size**2/2)\n",
    "    large_square_dist = sqrt(new_square_size**2/2)\n",
    "    return large_square_dist - small_square_dist\n",
    "\n",
    "wn = turtle.Screen()\n",
    "wn.bgcolor(\"lightgreen\")\n",
    "\n",
    "alex = turtle.Turtle() \n",
    "\n",
    "size = 20  # Starting size for the squares.\n",
    "num_squares = 5  # Number of squares.\n",
    "size_delta = 20\n",
    "\n",
    "for square in range(num_squares):\n",
    "    # Draw the square\n",
    "    draw_square(alex, size)\n",
    "    \n",
    "    # Move to the next position\n",
    "    alex.penup()\n",
    "    alex.right(135)\n",
    "    alex.forward(find_distance_between_squares(size, size_delta))\n",
    "    alex.pendown()\n",
    "    alex.left(135)\n",
    "    \n",
    "    # Chande square size\n",
    "    size += size_delta\n",
    "\n",
    "wn.mainloop()"
   ]
  },
  {
   "cell_type": "markdown",
   "metadata": {},
   "source": [
    "### 3\n",
    "\n",
    "Write a function to draw a regular polygon of `n` sides and `sz` units of side length. Use it to draw a octagon with 50 length of 50 units per side"
   ]
  },
  {
   "cell_type": "code",
   "execution_count": 1,
   "metadata": {},
   "outputs": [],
   "source": [
    "import turtle\n",
    "\n",
    "def draw_poly(t, n, sz):\n",
    "    \"\"\"\n",
    "    Make turtle t draw a square of sz.\n",
    "    \"\"\"\n",
    "    for i in range(n):\n",
    "        t.forward(sz)\n",
    "        t.left(360/n)\n",
    "\n",
    "wn = turtle.Screen()\n",
    "wn.bgcolor(\"lightgreen\")\n",
    "\n",
    "alex = turtle.Turtle() \n",
    "\n",
    "sides = 8  # Number of sides\n",
    "size = 50  # Side length\n",
    "\n",
    "# Draw the polygon\n",
    "draw_poly(alex, sides, size)\n",
    "\n",
    "wn.mainloop()"
   ]
  },
  {
   "cell_type": "markdown",
   "metadata": {},
   "source": [
    "### 4\n",
    "\n",
    "Draw the pattern\n",
    "\n",
    "![pattern](images/pattern_exercise_4-4.png)"
   ]
  },
  {
   "cell_type": "code",
   "execution_count": 1,
   "metadata": {},
   "outputs": [],
   "source": [
    "import turtle\n",
    "\n",
    "def draw_square(t, sz):\n",
    "    \"\"\"\n",
    "    Make turtle t draw a square of sz.\n",
    "    \"\"\"\n",
    "    for i in range(4):\n",
    "        t.forward(sz)\n",
    "        t.left(90)\n",
    "\n",
    "\n",
    "wn = turtle.Screen()\n",
    "wn.bgcolor(\"lightgreen\")\n",
    "\n",
    "alex = turtle.Turtle() \n",
    "\n",
    "\n",
    "size = 100  # Square size\n",
    "num_squares = 20  # Number of squares\n",
    "rotation = 360 / num_squares  # Amount to roate between iterations\n",
    "\n",
    "for square in range(num_squares):\n",
    "    # Draw the square\n",
    "    draw_square(alex, size)\n",
    "    \n",
    "    # Rotate before next move. \n",
    "    alex.left(rotation)\n",
    "\n",
    "wn.mainloop()"
   ]
  },
  {
   "cell_type": "markdown",
   "metadata": {},
   "source": [
    "### 5\n",
    "\n",
    "Draw two spirals with slightly different turn angles."
   ]
  },
  {
   "cell_type": "code",
   "execution_count": 1,
   "metadata": {},
   "outputs": [],
   "source": [
    "import turtle\n",
    "\n",
    "def draw_side(turtle, side, angle):\n",
    "    \"\"\"\n",
    "    Make a turtle draw a line and turn a number of degrees to the right.\n",
    "    \"\"\"\n",
    "    turtle.forward(side)\n",
    "    turtle.right(angle)\n",
    "\n",
    "def draw_spiral(turtle, num_sides, initial_side, angle):\n",
    "    \"\"\"\n",
    "    Make a turtle draw a spiral with num_sides sides, initial side length \n",
    "    of initial_side and with a rotation of angles degrees.\n",
    "    \"\"\"\n",
    "    length = initial_side\n",
    "    rotation = angle\n",
    "    \n",
    "    for side in range(num_sides):\n",
    "        draw_side(turtle, length, rotation)\n",
    "        length += initial_side"
   ]
  },
  {
   "cell_type": "code",
   "execution_count": 2,
   "metadata": {},
   "outputs": [],
   "source": [
    "wn = turtle.Screen()\n",
    "wn.bgcolor(\"lightgreen\")\n",
    "\n",
    "alex = turtle.Turtle() \n",
    "\n",
    "n_sides = 100\n",
    "i_side = 2\n",
    "ang = 90\n",
    "\n",
    "draw_spiral(alex, num_sides=n_sides, initial_side=i_side, angle=ang)\n",
    "\n",
    "wn.mainloop()"
   ]
  },
  {
   "cell_type": "code",
   "execution_count": 2,
   "metadata": {},
   "outputs": [],
   "source": [
    "wn = turtle.Screen()\n",
    "wn.bgcolor(\"lightgreen\")\n",
    "\n",
    "alex = turtle.Turtle() \n",
    "\n",
    "n_sides = 100\n",
    "i_side = 2\n",
    "ang = 89\n",
    "\n",
    "draw_spiral(alex, num_sides=n_sides, initial_side=i_side, angle=ang)\n",
    "\n",
    "wn.mainloop()"
   ]
  },
  {
   "cell_type": "markdown",
   "metadata": {},
   "source": [
    "### 6\n",
    "\n",
    "Write a void function,`draw_equitriangle` that draws an equilateral triangle and that uses the `draw_poly`function from excercise 3."
   ]
  },
  {
   "cell_type": "code",
   "execution_count": 1,
   "metadata": {},
   "outputs": [],
   "source": [
    "import turtle\n",
    "\n",
    "def draw_poly(t, n, sz):\n",
    "    \"\"\"\n",
    "    Make turtle t draw a square of sz.\n",
    "    \"\"\"\n",
    "    for i in range(n):\n",
    "        t.forward(sz)\n",
    "        t.left(360/n)\n",
    "        \n",
    "def draw_equitriangle(turtle, size):\n",
    "    \"\"\"\n",
    "    Draw an equilateral triangle of side size.\n",
    "    \"\"\"\n",
    "    draw_poly(turtle, 3, size)\n",
    "\n",
    "# Test the function \n",
    "wn = turtle.Screen()\n",
    "wn.bgcolor(\"lightgreen\")\n",
    "\n",
    "alex = turtle.Turtle() \n",
    "\n",
    "draw_equitriangle(alex, size=50)\n",
    "\n",
    "wn.mainloop()"
   ]
  },
  {
   "cell_type": "markdown",
   "metadata": {},
   "source": [
    "### 7\n",
    "\n",
    "Write a fruitful function, `sum_to(n)`, that returns the sum of all integer numbers up to and including n.\n",
    "\n",
    "#### Answer\n",
    "\n",
    "Remember that Gauss Formula states that\n",
    "\n",
    "$$\\sum_{i=1}^{n} i = \\frac{n * (n+1)}{2}$$"
   ]
  },
  {
   "cell_type": "code",
   "execution_count": 4,
   "metadata": {},
   "outputs": [
    {
     "name": "stdout",
     "output_type": "stream",
     "text": [
      "The sum of integers 1 through 10 is 55\n"
     ]
    }
   ],
   "source": [
    "def sum_to(n):\n",
    "    return int(n*(n+1)/2)\n",
    "\n",
    "integer = 10\n",
    "sum_result = sum_to(integer)\n",
    "\n",
    "print(f\"The sum of integers 1 through {integer} is {sum_result}\")"
   ]
  },
  {
   "cell_type": "markdown",
   "metadata": {},
   "source": [
    "### 8\n",
    "\n",
    "Write a function `area_of_circle(r)` which returns the area of a circle of radius r."
   ]
  },
  {
   "cell_type": "code",
   "execution_count": 5,
   "metadata": {},
   "outputs": [
    {
     "name": "stdout",
     "output_type": "stream",
     "text": [
      "The area of a circle with radius 42 is: 5,541.77\n"
     ]
    }
   ],
   "source": [
    "from math import pi\n",
    "\n",
    "def area_of_circle(r):\n",
    "    return pi * (r**2)\n",
    "\n",
    "radius =  42\n",
    "area = area_of_circle(42)\n",
    "\n",
    "print(f\"The area of a circle with radius {radius} is: {area:,.2f}\")"
   ]
  },
  {
   "cell_type": "markdown",
   "metadata": {},
   "source": [
    "### 9\n",
    "\n",
    "Write a void function to draw a star."
   ]
  },
  {
   "cell_type": "code",
   "execution_count": 1,
   "metadata": {},
   "outputs": [],
   "source": [
    "import turtle\n",
    "\n",
    "def draw_star(t, sz):\n",
    "    \"\"\"\n",
    "    Make turtle t draw a square of sz.\n",
    "    \"\"\"\n",
    "    for i in range(5):\n",
    "        t.forward(sz)\n",
    "        t.right(144)\n",
    "\n",
    "# Test the function \n",
    "wn = turtle.Screen()\n",
    "wn.bgcolor(\"lightgreen\")\n",
    "\n",
    "alex = turtle.Turtle() \n",
    "\n",
    "draw_star(alex, sz=100)\n",
    "\n",
    "wn.mainloop()"
   ]
  },
  {
   "cell_type": "markdown",
   "metadata": {},
   "source": [
    "### 10\n",
    "\n",
    "Expand the program in exercise 9 to draw 5 stars, one at each of the points of a pentagon. The do it again without lifting the pen.\n",
    "\n",
    "#### Lifting the pen"
   ]
  },
  {
   "cell_type": "code",
   "execution_count": 1,
   "metadata": {},
   "outputs": [],
   "source": [
    "import turtle\n",
    "\n",
    "def draw_star(t, sz):\n",
    "    \"\"\"\n",
    "    Make turtle t draw a square of sz.\n",
    "    \"\"\"\n",
    "    for i in range(5):\n",
    "        t.forward(sz)\n",
    "        t.right(144)\n",
    "\n",
    "# Test the function \n",
    "wn = turtle.Screen()\n",
    "wn.bgcolor(\"lightgreen\")\n",
    "\n",
    "alex = turtle.Turtle() \n",
    "\n",
    "for star in range(5):\n",
    "    draw_star(alex, sz=100)\n",
    "    alex.penup()\n",
    "    alex.forward(350)\n",
    "    alex.right(144)\n",
    "    alex.pendown()\n",
    "\n",
    "wn.mainloop()"
   ]
  },
  {
   "cell_type": "markdown",
   "metadata": {},
   "source": [
    "#### Without lifting the pen"
   ]
  },
  {
   "cell_type": "code",
   "execution_count": 1,
   "metadata": {},
   "outputs": [],
   "source": [
    "import turtle\n",
    "\n",
    "def draw_star(t, sz):\n",
    "    \"\"\"\n",
    "    Make turtle t draw a square of sz.\n",
    "    \"\"\"\n",
    "    for i in range(5):\n",
    "        t.forward(sz)\n",
    "        t.right(144)\n",
    "\n",
    "# Test the function \n",
    "wn = turtle.Screen()\n",
    "wn.bgcolor(\"lightgreen\")\n",
    "\n",
    "alex = turtle.Turtle() \n",
    "\n",
    "for star in range(5):\n",
    "    draw_star(alex, sz=100)\n",
    "    alex.forward(350)\n",
    "    alex.right(144)\n",
    "\n",
    "wn.mainloop()"
   ]
  }
 ],
 "metadata": {
  "kernelspec": {
   "display_name": "Python 3",
   "language": "python",
   "name": "python3"
  },
  "language_info": {
   "codemirror_mode": {
    "name": "ipython",
    "version": 3
   },
   "file_extension": ".py",
   "mimetype": "text/x-python",
   "name": "python",
   "nbconvert_exporter": "python",
   "pygments_lexer": "ipython3",
   "version": "3.6.4"
  }
 },
 "nbformat": 4,
 "nbformat_minor": 4
}
