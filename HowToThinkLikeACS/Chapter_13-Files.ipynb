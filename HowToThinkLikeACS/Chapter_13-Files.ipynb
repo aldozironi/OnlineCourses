{
 "cells": [
  {
   "cell_type": "markdown",
   "metadata": {},
   "source": [
    "# Chapter 13: Files\n",
    "\n",
    "While a program is running, its data gets stored in **random access memory (RAM)**, which is fast, inexpensive, and **volatile**, meaning that when the program ends or the computer is shut down, it dissappears. In order to make your data available for the next session, you need to store it in a **non-volatile** medium.\n",
    "\n",
    "Non-volatile media store items in objects called **files**, which you can **read** (access data already contained in a pre-existing file) and **write** (create a new file). These files are organized using a set of rules, known as a **file system**, which are collections of files and **directories** (containers for files and other directories).\n",
    "\n",
    "## Paths and directories\n",
    "\n",
    "A **path** is the name of the directory where the file is located. There are two tyes of paths:\n",
    "\n",
    "* **Relative path:** Path to files within the directory in which you're currently working.\n",
    "* **Absolute path:** Path from the system's **root** (default) directory.\n",
    "\n",
    "In Unix-based operating systems, paths are written by delimiting directory and filenames with a forward slash(`/`):\n",
    "\n",
    "```\n",
    "root/MyFiles/SubDir_1/SubDir_2/script.py\n",
    "```\n",
    "\n",
    "In Windows, paths are usually written using double backslashes (`\\\\`):\n",
    "\n",
    "```\n",
    "root/MyFiles/SubDir_1/SubDir_2/script.py\n",
    "```\n",
    "\n",
    "A neat trick with Python is that the `os` library handles writing the correct delimiters for you:\n",
    "\n",
    "\n",
    "```\n",
    "os.path.join(path, path_1, path_2, ...)\n",
    "```"
   ]
  },
  {
   "cell_type": "code",
   "execution_count": 1,
   "metadata": {},
   "outputs": [
    {
     "data": {
      "text/plain": [
       "'root/MyFiles/SubDir_1/SubDir_2/script.py'"
      ]
     },
     "execution_count": 1,
     "metadata": {},
     "output_type": "execute_result"
    }
   ],
   "source": [
    "import os\n",
    "\n",
    "os.path.join('root', 'MyFiles', 'SubDir_1', 'SubDir_2', 'script.py')"
   ]
  },
  {
   "cell_type": "markdown",
   "metadata": {},
   "source": [
    "##  Handles for modifying files\n",
    "\n",
    "The first step for writing a file is to create a **handle** for the file. This is the object that will be called to make changes to the actual file.\n",
    "\n",
    "In Python, handles are created with the `open` function, which receives two parameters:\n",
    "\n",
    "1. file: String with the file to be accessed, including the path (either absolute or relative) and extention.\n",
    "2. mode: String with what you want to do to the file. FOr example, `\"r\"` allows you to read a file, whereas `\"w\"` allows you to write it, and `\"x\"` is used to edit it. If the file is binary (zip, executables, images, etc.) you need to add a `b` at the end of the mode.\n",
    "\n",
    "The basic syntax is:\n",
    "\n",
    "```\n",
    "<name> = open(\"<file_path + file_name + . + file_extension>\", \"<mode>\")\n",
    "```\n",
    "\n",
    "however, the following is prefered:\n",
    "\n",
    "```\n",
    "with open(\"<file_path + file_name + . + file_extension>\", \"<mode>\") as <name>:\n",
    "    <do something>\n",
    "```\n",
    "\n",
    "because it handles errors for you if something goes wrong, and doesn't require you to close the files explicitly.\n",
    "\n",
    "### Handle methods\n",
    "\n",
    "Here are some of the most usual handle methods you'll use in Python:\n",
    "\n",
    "* `write(string)`: Writes the string into the file, as long as it was accessed in write mode.\n",
    "* `readline()`: Read the next line in the file, as long as it was accessed in read mode (it remembers for you which line it's currently at).\n",
    "* `readlines()`: Read all lines into a list.\n",
    "* `read()`: Read the entire file at once, provided it was accessed in read mode.\n",
    "* `close()`: Save progress and stop editing the file.\n",
    "\n",
    "Examples:"
   ]
  },
  {
   "cell_type": "code",
   "execution_count": 2,
   "metadata": {},
   "outputs": [
    {
     "name": "stdout",
     "output_type": "stream",
     "text": [
      "Does the file \"file_tests/test.txt\" exist? False\n",
      "Does the file \"file_tests/test.txt\" exist? True\n"
     ]
    }
   ],
   "source": [
    "# Writing a file\n",
    "print(f'Does the file \"file_tests/test.txt\" exist? {os.path.isfile(\"file_tests/test.txt\")}')\n",
    "\n",
    "with open('file_tests/test.txt', 'w') as file:  # Create handle\n",
    "    # Write some stuff.\n",
    "    file.write('Hello world!\\n')\n",
    "    file.write('This is a file.\\n')\n",
    "    # These lines will be relevant later\n",
    "    file.write('\\n')\n",
    "    file.write('#This line will be ignored in filter.\\n')\n",
    "    file.write('This line contains the word \"snake\".\\n')\n",
    "    file.write('And the final line.')\n",
    "    \n",
    "print(f'Does the file \"file_tests/test.txt\" exist? {os.path.isfile(\"file_tests/test.txt\")}')"
   ]
  },
  {
   "cell_type": "code",
   "execution_count": 3,
   "metadata": {},
   "outputs": [
    {
     "name": "stdout",
     "output_type": "stream",
     "text": [
      "Hello world!\n",
      "This is a file.\n",
      "\n",
      "#This line will be ignored in filter.\n",
      "This line contains the word \"snake\".\n",
      "And the final line."
     ]
    }
   ],
   "source": [
    "# Reading a file\n",
    "\n",
    "with open(\"file_tests/test.txt\", \"r\") as file:\n",
    "    while True:                            # Keep reading forever\n",
    "        theline = file.readline()   # Try to read next line\n",
    "        if len(theline) == 0:              # If there are no more lines\n",
    "            break                          #     leave the loop\n",
    "\n",
    "        # Now process the line we've just read\n",
    "        print(theline, end=\"\")"
   ]
  },
  {
   "cell_type": "markdown",
   "metadata": {},
   "source": [
    "## The `continue` statement\n",
    "\n",
    "Another important statement in flow control is `continue`. When Python reaches this statement inside a loop, it automatically jumps to the next iteration. For example, the following function will write all lines that don't start with '#' in a new file."
   ]
  },
  {
   "cell_type": "code",
   "execution_count": 4,
   "metadata": {},
   "outputs": [
    {
     "name": "stdout",
     "output_type": "stream",
     "text": [
      "Printing: Hello world!\n",
      "\n",
      "Printing: This is a file.\n",
      "\n",
      "Printing: \n",
      "\n",
      "Skipping: #This line will be ignored in filter.\n",
      "\n",
      "Printing: This line contains the word \"snake\".\n",
      "\n",
      "Printing: And the final line.\n"
     ]
    }
   ],
   "source": [
    "def filter_file(oldfile, newfile):\n",
    "    with open(oldfile, \"r\") as infile, open(newfile, \"w\") as outfile:\n",
    "        while True:\n",
    "            text = infile.readline()\n",
    "            if len(text) == 0:\n",
    "                break\n",
    "            if text[0] == \"#\":\n",
    "                print(f'Skipping: {text}')\n",
    "                continue\n",
    "            # Put any more processing logic here\n",
    "            print(f'Printing: {text}')\n",
    "            outfile.write(text)\n",
    "    return None\n",
    "\n",
    "filter_file('file_tests/test.txt', 'file_tests/filtered_test.txt')"
   ]
  },
  {
   "cell_type": "markdown",
   "metadata": {},
   "source": [
    "## Excercises\n",
    "\n",
    "### 1\n",
    "Write a program that reads a file and writes out a new file with the lines in reversed order (i.e. the first line in the old file becomes the last one in the new file.)"
   ]
  },
  {
   "cell_type": "code",
   "execution_count": 5,
   "metadata": {},
   "outputs": [],
   "source": [
    "def reverse_file(oldfile, newfile):\n",
    "    \"\"\"\n",
    "    Reverse the order of lines in oldfile and save it in newfile.\n",
    "    \"\"\"\n",
    "    # Set handles up\n",
    "    with open(oldfile, \"r\") as infile, open(newfile, \"w\") as outfile:\n",
    "        # Read lines into list.\n",
    "        lines = infile.readlines()\n",
    "        # Reverse the order of the lines.\n",
    "        lines.reverse()\n",
    "        # Write lines to new file\n",
    "        for line in lines:\n",
    "            outfile.write(line)\n",
    "    return None\n",
    "\n",
    "# Run the function.\n",
    "reverse_file('file_tests/test.txt', 'file_tests/reversed_test.txt')"
   ]
  },
  {
   "cell_type": "code",
   "execution_count": 6,
   "metadata": {},
   "outputs": [
    {
     "name": "stdout",
     "output_type": "stream",
     "text": [
      "And the final line.This line contains the word \"snake\".\n",
      "#This line will be ignored in filter.\n",
      "\n",
      "This is a file.\n",
      "Hello world!\n"
     ]
    }
   ],
   "source": [
    "# Test\n",
    "with open('file_tests/reversed_test.txt', 'r') as test:\n",
    "    while True:\n",
    "        theline = test.readline()   # Try to read next line\n",
    "        if len(theline) == 0:              # If there are no more lines\n",
    "            break                          #     leave the loop\n",
    "\n",
    "        # Show the line\n",
    "        print(theline, end=\"\")"
   ]
  },
  {
   "cell_type": "markdown",
   "metadata": {},
   "source": [
    "### 2\n",
    "\n",
    "Write a program that reads a file and prints only those lines that contain the substring `snake`."
   ]
  },
  {
   "cell_type": "code",
   "execution_count": 7,
   "metadata": {},
   "outputs": [
    {
     "name": "stdout",
     "output_type": "stream",
     "text": [
      "This line contains the word \"snake\".\n"
     ]
    }
   ],
   "source": [
    "with open('file_tests/test.txt', 'r') as test:\n",
    "    while True:\n",
    "        theline = test.readline()   # Try to read next line\n",
    "        if len(theline) == 0:              # If there are no more lines\n",
    "            break                          #     leave the loop\n",
    "        if 'snake' in theline:\n",
    "            print(theline, end=\"\")"
   ]
  },
  {
   "cell_type": "markdown",
   "metadata": {},
   "source": [
    "### 3\n",
    "\n",
    "Write a program that reads a text file and produces an output file which is a copy of the file, except the first five columns of each line contain a four digit line number, followed by a space. Start numbering the first line in the output file at 1. Ensure that every line number is formatted to the same width in the output file. Use one of your Python programs as test data for this exercise: your output should be a printed and numbered listing of the Python program."
   ]
  },
  {
   "cell_type": "code",
   "execution_count": 8,
   "metadata": {},
   "outputs": [],
   "source": [
    "def add_line_numbers(oldfile, newfile, n=4):\n",
    "    \"\"\"\n",
    "    Add line numbers of length n to oldfile and save it in newfile.\n",
    "    \"\"\"\n",
    "    # Set handles up\n",
    "    with open(oldfile, \"r\") as infile, open(newfile, \"w\") as outfile:\n",
    "        # Read lines into list.\n",
    "        lines = infile.readlines()\n",
    "        # Write lines to new file\n",
    "        for index in range(len(lines)):\n",
    "            outfile.write(str(index+1).zfill(n) + ' ' + lines[index])\n",
    "    return None\n",
    "\n",
    "# Run the function.\n",
    "add_line_numbers('file_tests/test.txt', 'file_tests/lines_test.txt')"
   ]
  },
  {
   "cell_type": "code",
   "execution_count": 9,
   "metadata": {},
   "outputs": [
    {
     "name": "stdout",
     "output_type": "stream",
     "text": [
      "0001 Hello world!\n",
      "\n",
      "0002 This is a file.\n",
      "\n",
      "0003 \n",
      "\n",
      "0004 #This line will be ignored in filter.\n",
      "\n",
      "0005 This line contains the word \"snake\".\n",
      "\n",
      "0006 And the final line.\n"
     ]
    }
   ],
   "source": [
    "# Test\n",
    "with open('file_tests/lines_test.txt', 'r') as test:\n",
    "    while True:\n",
    "        theline = test.readline()   # Try to read next line\n",
    "        if len(theline) == 0:              # If there are no more lines\n",
    "            break                          #     leave the loop\n",
    "\n",
    "        # Show the line\n",
    "        print(theline)"
   ]
  },
  {
   "cell_type": "markdown",
   "metadata": {},
   "source": [
    "### 4\n",
    "\n",
    "Write a program that undoes the numbering of the previous exercise: it should read a file with numbered lines and produce another file without line numbers."
   ]
  },
  {
   "cell_type": "code",
   "execution_count": 10,
   "metadata": {},
   "outputs": [],
   "source": [
    "def add_line_numbers(oldfile, newfile, n=4):\n",
    "    \"\"\"\n",
    "    Remove line numbers of length n to oldfile and save it in newfile.\n",
    "    \"\"\"\n",
    "    # Set handles up\n",
    "    with open(oldfile, \"r\") as infile, open(newfile, \"w\") as outfile:\n",
    "        # Read lines into list.\n",
    "        lines = infile.readlines()\n",
    "        # Write lines to new file\n",
    "        for line in lines:\n",
    "            outfile.write(line[n+1:])\n",
    "    return None\n",
    "\n",
    "# Run the function.\n",
    "add_line_numbers('file_tests/lines_test.txt', 'file_tests/un_lined_test.txt')"
   ]
  },
  {
   "cell_type": "code",
   "execution_count": 11,
   "metadata": {},
   "outputs": [
    {
     "name": "stdout",
     "output_type": "stream",
     "text": [
      "Hello world!\n",
      "\n",
      "This is a file.\n",
      "\n",
      "\n",
      "\n",
      "#This line will be ignored in filter.\n",
      "\n",
      "This line contains the word \"snake\".\n",
      "\n",
      "And the final line.\n"
     ]
    }
   ],
   "source": [
    "# Test\n",
    "with open('file_tests/un_lined_test.txt', 'r') as test:\n",
    "    while True:\n",
    "        theline = test.readline()   # Try to read next line\n",
    "        if len(theline) == 0:              # If there are no more lines\n",
    "            break                          #     leave the loop\n",
    "\n",
    "        # Show the line\n",
    "        print(theline)"
   ]
  }
 ],
 "metadata": {
  "kernelspec": {
   "display_name": "Python 3",
   "language": "python",
   "name": "python3"
  },
  "language_info": {
   "codemirror_mode": {
    "name": "ipython",
    "version": 3
   },
   "file_extension": ".py",
   "mimetype": "text/x-python",
   "name": "python",
   "nbconvert_exporter": "python",
   "pygments_lexer": "ipython3",
   "version": "3.6.4"
  }
 },
 "nbformat": 4,
 "nbformat_minor": 4
}
