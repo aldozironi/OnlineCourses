{
 "cells": [
  {
   "cell_type": "markdown",
   "metadata": {},
   "source": [
    "# Chapter 1: The Way of the Program\n",
    "\n",
    "## Formal languages\n",
    "\n",
    "**Formal languages** are languages destined by people for specific applications. They usually have strict syntax rules. They are unambiguous and literal.\n",
    "\n",
    "**Programming languages** are formal languages that have been designed to express computations.\n",
    "\n",
    "### Elements of languages\n",
    "\n",
    "* **Tokens** are the basic elements of the language (words, numbers, parentheses, etc.).\n",
    "* **Structure** refers to the way tokens are aranged.\n",
    "* **Parsing** is the process of figuring out what the structure of a sentence is.\n",
    "* **Semantics** refers to the meaning of a sentence.\n",
    "\n",
    "## Python itself\n",
    "\n",
    "Pyhton is a high-level language. Low-level languages are the ones that computers can run (machine wise). Most programs are written in high-level languages because they:\n",
    "\n",
    "1. allow us to write code that easier to understand, and\n",
    "2. are portable, meaning that they don't need to be rewritten to different computer specs.\n",
    "\n",
    "For Python, the engine that translate high-level to low level is called **Python Interpreter**, and it allows you to write code from a command line and in text files with the _.py_ extension.\n",
    "\n",
    "## Programs\n",
    "\n",
    "A **program** is a sequence of instructions that specify how to perform a computation. Most all of them have the following elements:\n",
    "\n",
    "1. Inputs: Get data from somewhere.\n",
    "2. Outputs: Results.\n",
    "3. Math: Apply basic mathematcal operations.\n",
    "4. Conditional execution: Check for certain conditions and execute appropriate statements based on them.\n",
    "5. Repetition: Perform some action repeatedly, sometimes with some variation.\n",
    "\n",
    "**Programming** is the process of breaking large, complex tasks into smaller and smaller subtasks, until all subtasks are simple enough to be performed with sequences of the previous instructions.\n",
    "\n",
    "## Debugging\n",
    "\n",
    "Programming errors are called **bugs** and the process of tracking them down is called **debugging**.\n",
    "\n",
    "There are 3 main kinds of errors that can occur in Python: syntactical, runtime and semantic.\n",
    "\n",
    "### Syntax errors\n",
    "\n",
    "**Syntax** refers to the structure of a program and its rules. **Syntax errors** are statements that break said rules.\n",
    "\n",
    "The Python interpreter looks for syntax errors and, if it finds any, it will display an error message and quit.\n",
    "\n",
    "### Runtime errors\n",
    "\n",
    "**Runtime errors**, or **exceptions** are errors that show up when you run the program. They indicate that somethig bad has happened.\n",
    "\n",
    "### Semantic errors\n",
    "\n",
    "**Semantic errors** are the most difficult to find. They happen when the code runs sucessfully but doesn't do what you want it to do. The problem is that the program you wrote isn't the program you needed to write.\n",
    "\n",
    "\n",
    "## Our first program"
   ]
  },
  {
   "cell_type": "code",
   "execution_count": 1,
   "metadata": {},
   "outputs": [
    {
     "name": "stdout",
     "output_type": "stream",
     "text": [
      "Hello, World!\n"
     ]
    }
   ],
   "source": [
    "print('Hello, World!')"
   ]
  },
  {
   "cell_type": "markdown",
   "metadata": {},
   "source": [
    "## Comments\n",
    "\n",
    "Comments are elements of programs that are ignored by the interpreter. They allow you to add text for human readers to understad your code better.\n",
    "\n",
    "In Python, the token to add a comment is #"
   ]
  },
  {
   "cell_type": "code",
   "execution_count": 2,
   "metadata": {},
   "outputs": [
    {
     "name": "stdout",
     "output_type": "stream",
     "text": [
      "Hello, World!\n"
     ]
    }
   ],
   "source": [
    "# This is a comment. It will be ignored by the interpreter.\n",
    "\n",
    "# Print the text 'Hello, World!'\n",
    "print('Hello, World!')"
   ]
  },
  {
   "cell_type": "markdown",
   "metadata": {},
   "source": [
    "## Excercises\n",
    "\n",
    "#### 1\n",
    "\n",
    "Write an english sentence with understandable semantics but incorrect syntax. Then write an english sentence with correct syntax but with semantic errors.\n",
    "\n",
    "1. Do or do not! there is no trY.\n",
    "2. Green hopes dream of chilly heat.\n",
    "\n",
    "#### 2\n",
    "\n",
    "Play around with the +, * and ** operators (sum, multiplication and exponentiation, respectively)."
   ]
  },
  {
   "cell_type": "code",
   "execution_count": 4,
   "metadata": {},
   "outputs": [
    {
     "name": "stdout",
     "output_type": "stream",
     "text": [
      "sum: 5\n",
      "multiplication: 6\n",
      "exponentiation: 9\n"
     ]
    }
   ],
   "source": [
    "print(f'sum: {3+2}')\n",
    "print(f'multiplication: {3*2}')\n",
    "print(f'exponentiation: {3**2}')"
   ]
  },
  {
   "cell_type": "markdown",
   "metadata": {},
   "source": [
    "#### 3\n",
    "\n",
    "Type \n",
    "\n",
    "`1 2`.\n",
    "\n",
    "This will cause an error. Then try to get some more syntax errors."
   ]
  },
  {
   "cell_type": "code",
   "execution_count": 5,
   "metadata": {},
   "outputs": [
    {
     "ename": "SyntaxError",
     "evalue": "invalid syntax (<ipython-input-5-32d3c3db7c81>, line 1)",
     "output_type": "error",
     "traceback": [
      "\u001b[0;36m  File \u001b[0;32m\"<ipython-input-5-32d3c3db7c81>\"\u001b[0;36m, line \u001b[0;32m1\u001b[0m\n\u001b[0;31m    1 2\u001b[0m\n\u001b[0m      ^\u001b[0m\n\u001b[0;31mSyntaxError\u001b[0m\u001b[0;31m:\u001b[0m invalid syntax\n"
     ]
    }
   ],
   "source": [
    "1 2"
   ]
  },
  {
   "cell_type": "code",
   "execution_count": 6,
   "metadata": {},
   "outputs": [
    {
     "ename": "SyntaxError",
     "evalue": "invalid syntax (<ipython-input-6-270c651034cf>, line 1)",
     "output_type": "error",
     "traceback": [
      "\u001b[0;36m  File \u001b[0;32m\"<ipython-input-6-270c651034cf>\"\u001b[0;36m, line \u001b[0;32m1\u001b[0m\n\u001b[0;31m    'holi'..\u001b[0m\n\u001b[0m           ^\u001b[0m\n\u001b[0;31mSyntaxError\u001b[0m\u001b[0;31m:\u001b[0m invalid syntax\n"
     ]
    }
   ],
   "source": [
    "'holi'.."
   ]
  },
  {
   "cell_type": "code",
   "execution_count": 7,
   "metadata": {},
   "outputs": [
    {
     "ename": "SyntaxError",
     "evalue": "invalid syntax (<ipython-input-7-64c1f015158d>, line 1)",
     "output_type": "error",
     "traceback": [
      "\u001b[0;36m  File \u001b[0;32m\"<ipython-input-7-64c1f015158d>\"\u001b[0;36m, line \u001b[0;32m1\u001b[0m\n\u001b[0;31m    2+3$\u001b[0m\n\u001b[0m       ^\u001b[0m\n\u001b[0;31mSyntaxError\u001b[0m\u001b[0;31m:\u001b[0m invalid syntax\n"
     ]
    }
   ],
   "source": [
    "2+3$"
   ]
  },
  {
   "cell_type": "markdown",
   "metadata": {},
   "source": [
    "#### 4\n",
    "\n",
    "Type\n",
    "\n",
    "`print('hello')`\n",
    "\n",
    "and\n",
    "\n",
    "`'hello'`\n",
    "\n",
    "When do you get quotation marks?"
   ]
  },
  {
   "cell_type": "code",
   "execution_count": 8,
   "metadata": {},
   "outputs": [
    {
     "name": "stdout",
     "output_type": "stream",
     "text": [
      "hello\n"
     ]
    }
   ],
   "source": [
    "print('hello')"
   ]
  },
  {
   "cell_type": "code",
   "execution_count": 9,
   "metadata": {},
   "outputs": [
    {
     "data": {
      "text/plain": [
       "'hello'"
      ]
     },
     "execution_count": 9,
     "metadata": {},
     "output_type": "execute_result"
    }
   ],
   "source": [
    "'hello'"
   ]
  },
  {
   "cell_type": "markdown",
   "metadata": {},
   "source": [
    "The difference beteen the two statements is that the first one is an output, whereas the second one is a string.\n",
    "\n",
    "#### 5\n",
    "\n",
    "Type\n",
    "\n",
    "`cheese`\n",
    "\n",
    "without quotation marks. This will give you a runtime error called NameError."
   ]
  },
  {
   "cell_type": "code",
   "execution_count": 10,
   "metadata": {},
   "outputs": [
    {
     "ename": "NameError",
     "evalue": "name 'cheese' is not defined",
     "output_type": "error",
     "traceback": [
      "\u001b[0;31m---------------------------------------------------------------------------\u001b[0m",
      "\u001b[0;31mNameError\u001b[0m                                 Traceback (most recent call last)",
      "\u001b[0;32m<ipython-input-10-84794067738f>\u001b[0m in \u001b[0;36m<module>\u001b[0;34m\u001b[0m\n\u001b[0;32m----> 1\u001b[0;31m \u001b[0mcheese\u001b[0m\u001b[0;34m\u001b[0m\u001b[0m\n\u001b[0m",
      "\u001b[0;31mNameError\u001b[0m: name 'cheese' is not defined"
     ]
    }
   ],
   "source": [
    "cheese"
   ]
  }
 ],
 "metadata": {
  "kernelspec": {
   "display_name": "Python 3",
   "language": "python",
   "name": "python3"
  },
  "language_info": {
   "codemirror_mode": {
    "name": "ipython",
    "version": 3
   },
   "file_extension": ".py",
   "mimetype": "text/x-python",
   "name": "python",
   "nbconvert_exporter": "python",
   "pygments_lexer": "ipython3",
   "version": "3.6.4"
  }
 },
 "nbformat": 4,
 "nbformat_minor": 4
}
