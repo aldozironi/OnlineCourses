{
 "cells": [
  {
   "cell_type": "markdown",
   "metadata": {},
   "source": [
    "# Chapter 2: Variables, Expressions and Statements\n",
    "\n",
    "## Values and data types\n",
    "\n",
    "A **value** is a one of the fundamental things thah a program manipulates.\n",
    "\n",
    "Values are classified into different **classes** or  **data types**.\n",
    "\n",
    "In Python, the `type` method allows you to inspect the type of a value.\n",
    "\n",
    "Everything you put between quitations is a string, even if its a number:"
   ]
  },
  {
   "cell_type": "code",
   "execution_count": 1,
   "metadata": {},
   "outputs": [
    {
     "data": {
      "text/plain": [
       "str"
      ]
     },
     "execution_count": 1,
     "metadata": {},
     "output_type": "execute_result"
    }
   ],
   "source": [
    "type('3.4')"
   ]
  },
  {
   "cell_type": "markdown",
   "metadata": {},
   "source": [
    "Acceptable quotations in Python are:\n",
    "\n",
    "1. Single: 'your string here',\n",
    "2. Double: \"your string here\",\n",
    "3. Triple single: '''your string here''',\n",
    "4. Triple double: \"\"\"your string here\"\"\".\n",
    "\n",
    "The advantages of using triple quotes is that they allow you to write a string across several lines:"
   ]
  },
  {
   "cell_type": "code",
   "execution_count": 2,
   "metadata": {},
   "outputs": [
    {
     "name": "stdout",
     "output_type": "stream",
     "text": [
      "\n",
      "Strings with multiple lines\n",
      "are called multi-line strings.\n",
      "\n"
     ]
    }
   ],
   "source": [
    "print(\"\"\"\n",
    "Strings with multiple lines\n",
    "are called multi-line strings.\n",
    "\"\"\")"
   ]
  },
  {
   "cell_type": "markdown",
   "metadata": {},
   "source": [
    "Internally, Python doesn't do anything different depending on which kinds of quotes you use.\n",
    "\n",
    "When writing large numbers you don't want to separate them by commas because that will create a number pair, called **tuple**. instead, use underscores:"
   ]
  },
  {
   "cell_type": "code",
   "execution_count": 3,
   "metadata": {},
   "outputs": [
    {
     "data": {
      "text/plain": [
       "(42, 0)"
      ]
     },
     "execution_count": 3,
     "metadata": {},
     "output_type": "execute_result"
    }
   ],
   "source": [
    "# A tuple\n",
    "42,000"
   ]
  },
  {
   "cell_type": "code",
   "execution_count": 4,
   "metadata": {},
   "outputs": [
    {
     "data": {
      "text/plain": [
       "42000"
      ]
     },
     "execution_count": 4,
     "metadata": {},
     "output_type": "execute_result"
    }
   ],
   "source": [
    "# A number separated by underscores\n",
    "42_000"
   ]
  },
  {
   "cell_type": "markdown",
   "metadata": {},
   "source": [
    "## Variables\n",
    "\n",
    "A **variable** is a name that refers to a value. They're used to remember things, and they can change values over time.\n",
    "\n",
    "In order to create a variable, use the **assignment statement** to match it to a value. In Python, the assignment statement is given by a single equals sign:"
   ]
  },
  {
   "cell_type": "code",
   "execution_count": 5,
   "metadata": {},
   "outputs": [
    {
     "data": {
      "text/plain": [
       "42"
      ]
     },
     "execution_count": 5,
     "metadata": {},
     "output_type": "execute_result"
    }
   ],
   "source": [
    "n = 42\n",
    "n"
   ]
  },
  {
   "cell_type": "markdown",
   "metadata": {},
   "source": [
    "Note that the assignment works by binding the left-hand side name to the right-hand value. Doing it the other way around results in an error."
   ]
  },
  {
   "cell_type": "code",
   "execution_count": 6,
   "metadata": {},
   "outputs": [
    {
     "ename": "SyntaxError",
     "evalue": "can't assign to literal (<ipython-input-6-f0c37ed646fc>, line 1)",
     "output_type": "error",
     "traceback": [
      "\u001b[0;36m  File \u001b[0;32m\"<ipython-input-6-f0c37ed646fc>\"\u001b[0;36m, line \u001b[0;32m1\u001b[0m\n\u001b[0;31m    42 = n\u001b[0m\n\u001b[0m          ^\u001b[0m\n\u001b[0;31mSyntaxError\u001b[0m\u001b[0;31m:\u001b[0m can't assign to literal\n"
     ]
    }
   ],
   "source": [
    "42 = n"
   ]
  },
  {
   "cell_type": "markdown",
   "metadata": {},
   "source": [
    "A **state snapshot** is a representation of which names have which values assigned to them. They're usually written with arrows:\n",
    "\n",
    "$$n \\rightarrow 42$$\n",
    "\n",
    "## Variable Names and Keywords\n",
    "\n",
    "In Python variable names can be arbitrarily long, and can contain names, digits, and underscores; and must allways start with a letter or underscore. Keep in mind that there are conventions of when to start a variable name with an underscore, so be sure you know about them before starting a variable name with one.\n",
    "\n",
    "They're also case sensitive, which is why we avoid capitalization for variable names.\n",
    "\n",
    "It's a general good practice to use variable names that are meaningful to humans reading the code.\n",
    "\n",
    "There are also a several **keywords** that is, names that can't be used as variables because they're integral to the language. The list changes over time.\n",
    "\n",
    "## Statements and Expressions\n",
    "\n",
    "A **statement** is an instruction that the Python interpreter can execute. They don't produce any result.\n",
    "\n",
    "An **expression** is a combination of values, variables, operators and calls to functions. If you type one, the interpreter **evaluates** it and diplays the result:"
   ]
  },
  {
   "cell_type": "code",
   "execution_count": 7,
   "metadata": {},
   "outputs": [
    {
     "data": {
      "text/plain": [
       "3"
      ]
     },
     "execution_count": 7,
     "metadata": {},
     "output_type": "execute_result"
    }
   ],
   "source": [
    "1+2"
   ]
  },
  {
   "cell_type": "markdown",
   "metadata": {},
   "source": [
    "The evaluation of the expression produces a value, which is why they can only appear on the right-hand side of an assignment statement.\n",
    "\n",
    "## Operators and Operands\n",
    "\n",
    "**Operators** are special tokens that represent computations like addition, multiplication, and division.\n",
    "\n",
    "The values an operator uses are called **operands**. When a variable name appears in the place of an operand, it's replaced by its value before the operation is performed.\n",
    "\n",
    "## Type Converter Functions\n",
    "\n",
    "**Type converter funcions** are functions that transform the type of a value into another:\n",
    "\n",
    "1. `int`: truncate a floating-point number or transforms a string into integer.\n",
    "2. `float`: transform a string or integer into a floating-point number.\n",
    "3. `str`: Transform any type into a string."
   ]
  },
  {
   "cell_type": "code",
   "execution_count": 8,
   "metadata": {},
   "outputs": [
    {
     "data": {
      "text/plain": [
       "17"
      ]
     },
     "execution_count": 8,
     "metadata": {},
     "output_type": "execute_result"
    }
   ],
   "source": [
    "int(17.3)"
   ]
  },
  {
   "cell_type": "code",
   "execution_count": 9,
   "metadata": {},
   "outputs": [
    {
     "data": {
      "text/plain": [
       "12.56"
      ]
     },
     "execution_count": 9,
     "metadata": {},
     "output_type": "execute_result"
    }
   ],
   "source": [
    "float('12.56')"
   ]
  },
  {
   "cell_type": "code",
   "execution_count": 10,
   "metadata": {},
   "outputs": [
    {
     "data": {
      "text/plain": [
       "'3'"
      ]
     },
     "execution_count": 10,
     "metadata": {},
     "output_type": "execute_result"
    }
   ],
   "source": [
    "str(3)"
   ]
  },
  {
   "cell_type": "markdown",
   "metadata": {},
   "source": [
    "### Order of Operations\n",
    "\n",
    "When there are multiple operators in an expression, the order of evaluation depends on **rules of precedence**. Python uses the **PEDMAS** rules:\n",
    "\n",
    "1. Parentheses have the highest precedence and can be used to force an expression to evaluate in the order you want.\n",
    "2. Exponentiation.\n",
    "3. Multiplication and division.\n",
    "4. Addition and subtraction.\n",
    "5. Operators with the same precedence happen left-to-right, except for two exponentiations, which happen the other way around.\n",
    "\n",
    "## Operations on Strings\n",
    "\n",
    "You can use some tokens to operate on strings:\n",
    "\n",
    "1. The plus sign (`+`) concatenates two strings\n",
    "2. Multiplying a string by the integer $n$ yields the string repeated $n$ times.\n",
    "\n",
    "## Input\n",
    "\n",
    "In order to get an input from the user, you can use the input built-in function:"
   ]
  },
  {
   "cell_type": "code",
   "execution_count": 11,
   "metadata": {},
   "outputs": [
    {
     "name": "stdin",
     "output_type": "stream",
     "text": [
      "Please enter a value: Holi\n"
     ]
    },
    {
     "name": "stdout",
     "output_type": "stream",
     "text": [
      "The input value was Holi\n"
     ]
    }
   ],
   "source": [
    "a = input('Please enter a value:')\n",
    "print(f'The input value was {a}')"
   ]
  },
  {
   "cell_type": "markdown",
   "metadata": {},
   "source": [
    "## Composition\n",
    "\n",
    "One of the most useful features of programming languages is their ability to take small building blocks and **compose** them into larger chunks.\n",
    "\n",
    "For example, we'll write a program that computes the area of a circle that has a radius defined by a user input. Remember that the area of a circle of radio r is given by:\n",
    "\n",
    "$$A = \\pi * r^2$$"
   ]
  },
  {
   "cell_type": "code",
   "execution_count": 12,
   "metadata": {},
   "outputs": [
    {
     "name": "stdin",
     "output_type": "stream",
     "text": [
      "Please write the radius:  5\n"
     ]
    },
    {
     "name": "stdout",
     "output_type": "stream",
     "text": [
      "The area is 78.54\n"
     ]
    }
   ],
   "source": [
    "# Receive the radius as user input and store as float\n",
    "r = float(input('Please write the radius: '))\n",
    "\n",
    "# Compute the area\n",
    "area = 3.141592 * r **2\n",
    "\n",
    "# Print the area\n",
    "print(f'The area is {area:,.2f}')"
   ]
  },
  {
   "cell_type": "markdown",
   "metadata": {},
   "source": [
    "Note that while you could write it all in a single statement, the result would be hard to read by a human. It's generally better to write code in small steps.\n",
    "\n",
    "## The Modulus Operator\n",
    "\n",
    "The **modulus operator** returns the remainder when an integer is divided by another. It's written using the `%` token and has the same precedence as multiplication and division:"
   ]
  },
  {
   "cell_type": "code",
   "execution_count": 13,
   "metadata": {},
   "outputs": [
    {
     "data": {
      "text/plain": [
       "1"
      ]
     },
     "execution_count": 13,
     "metadata": {},
     "output_type": "execute_result"
    }
   ],
   "source": [
    "7%2"
   ]
  },
  {
   "cell_type": "markdown",
   "metadata": {},
   "source": [
    "## Excercises\n",
    "\n",
    "#### 1\n",
    "\n",
    "Store each word in\n",
    "\n",
    "> All work and no play makes Jack a dull boy.\n",
    "\n",
    "in a separate variable, then print it in a single line."
   ]
  },
  {
   "cell_type": "code",
   "execution_count": 14,
   "metadata": {},
   "outputs": [
    {
     "name": "stdout",
     "output_type": "stream",
     "text": [
      "All work and no play play makes Jack a dull boy\n"
     ]
    }
   ],
   "source": [
    "a = 'All'\n",
    "b = 'work'\n",
    "c = 'and'\n",
    "d = 'no'\n",
    "e = 'play'\n",
    "f = 'makes'\n",
    "g = 'Jack'\n",
    "h = 'a'\n",
    "i = 'dull'\n",
    "j = 'boy'\n",
    "\n",
    "print(a + ' ' + b + ' ' + c + ' ' +\n",
    "      d + ' ' + e + ' ' + e + ' ' +\n",
    "      f + ' ' + g + ' ' + h + ' ' +\n",
    "      i + ' ' +j)"
   ]
  },
  {
   "cell_type": "markdown",
   "metadata": {},
   "source": [
    "#### 2\n",
    "\n",
    "Add parentheses to make the expression $6 * 1 - 2$ evaluate to -6"
   ]
  },
  {
   "cell_type": "code",
   "execution_count": 15,
   "metadata": {},
   "outputs": [
    {
     "data": {
      "text/plain": [
       "4"
      ]
     },
     "execution_count": 15,
     "metadata": {},
     "output_type": "execute_result"
    }
   ],
   "source": [
    "6 * 1 -2"
   ]
  },
  {
   "cell_type": "code",
   "execution_count": 16,
   "metadata": {},
   "outputs": [
    {
     "data": {
      "text/plain": [
       "-6"
      ]
     },
     "execution_count": 16,
     "metadata": {},
     "output_type": "execute_result"
    }
   ],
   "source": [
    "6 * (1 - 2)"
   ]
  },
  {
   "cell_type": "markdown",
   "metadata": {},
   "source": [
    "#### 3\n",
    "Place a comment before a line of code that previously worked and record what happens when you rerun it."
   ]
  },
  {
   "cell_type": "code",
   "execution_count": 17,
   "metadata": {},
   "outputs": [
    {
     "data": {
      "text/plain": [
       "-6"
      ]
     },
     "execution_count": 17,
     "metadata": {},
     "output_type": "execute_result"
    }
   ],
   "source": [
    "# Compute with parentheses.\n",
    "6 * (1 - 2)"
   ]
  },
  {
   "cell_type": "markdown",
   "metadata": {},
   "source": [
    "The code still works. The comment is ignored.\n",
    "\n",
    "#### 4\n",
    "\n",
    "Note that the code \n",
    "\n",
    "`bruce + 4`\n",
    "\n",
    "gives an error. Assign a value to bruce so that the expression evaluates to 10.\n",
    "\n",
    "**A:**\n",
    "\n",
    "Note that\n",
    "\n",
    "$$\\mbox{bruce} + 4 = 10$$\n",
    "\n",
    "implies\n",
    "\n",
    "$$\\mbox{bruce} = 10 - 4,$$\n",
    "\n",
    "and thus\n",
    "\n",
    "$$\\mbox{bruce} = 6.$$"
   ]
  },
  {
   "cell_type": "code",
   "execution_count": 18,
   "metadata": {},
   "outputs": [
    {
     "ename": "NameError",
     "evalue": "name 'bruce' is not defined",
     "output_type": "error",
     "traceback": [
      "\u001b[0;31m---------------------------------------------------------------------------\u001b[0m",
      "\u001b[0;31mNameError\u001b[0m                                 Traceback (most recent call last)",
      "\u001b[0;32m<ipython-input-18-844326c34960>\u001b[0m in \u001b[0;36m<module>\u001b[0;34m\u001b[0m\n\u001b[0;32m----> 1\u001b[0;31m \u001b[0mbruce\u001b[0m \u001b[0;34m+\u001b[0m \u001b[0;36m4\u001b[0m\u001b[0;34m\u001b[0m\u001b[0m\n\u001b[0m",
      "\u001b[0;31mNameError\u001b[0m: name 'bruce' is not defined"
     ]
    }
   ],
   "source": [
    "bruce + 4"
   ]
  },
  {
   "cell_type": "code",
   "execution_count": 19,
   "metadata": {},
   "outputs": [
    {
     "data": {
      "text/plain": [
       "10"
      ]
     },
     "execution_count": 19,
     "metadata": {},
     "output_type": "execute_result"
    }
   ],
   "source": [
    "bruce = 6\n",
    "\n",
    "bruce + 4"
   ]
  },
  {
   "cell_type": "markdown",
   "metadata": {},
   "source": [
    "#### 5\n",
    "\n",
    "The formula to compute the final amount of an investment under compound interest is given by\n",
    "\n",
    "$$A = P \\left( 1 + \\frac{r}{n} \\right)^{nt},$$\n",
    "\n",
    "where:\n",
    "\n",
    "1. $P$ is the principal amount (initial inestment).\n",
    "2. $r$ is the annual nominal interes rate.\n",
    "3. $n$ is the number of times the interest is compounded per year.\n",
    "4. $t$ is the number of years.\n",
    "\n",
    "Write a Python program that assigns the principal ammount to $\\$10,000$, the value of $n$ as 12, and the interst rate of 8%. Have the computer prompt for the number of years and compute the final amount after t years."
   ]
  },
  {
   "cell_type": "code",
   "execution_count": 20,
   "metadata": {},
   "outputs": [
    {
     "name": "stdin",
     "output_type": "stream",
     "text": [
      "For how many years do you wish to invest? 10\n"
     ]
    },
    {
     "name": "stdout",
     "output_type": "stream",
     "text": [
      "The final amount is 22,196.40\n"
     ]
    }
   ],
   "source": [
    "# Initialization\n",
    "p = 10_000\n",
    "r = 8/100\n",
    "n = 12\n",
    "\n",
    "# Get number of years\n",
    "t = float(input('For how many years do you wish to invest?'))\n",
    "\n",
    "# Compute the final amount\n",
    "a = p * ((1 + r/n)**(n*t))\n",
    "\n",
    "# Print result\n",
    "print(f'The final amount is {a:,.2f}')"
   ]
  },
  {
   "cell_type": "markdown",
   "metadata": {},
   "source": [
    "#### 6\n",
    "\n",
    "Evaluate the following expressions in your head, then in Pyton:\n",
    "\n",
    "1. 5%2\n",
    "2. 9%5\n",
    "3. 15%12\n",
    "4. 12%15\n",
    "5. 6%6\n",
    "6. 0%7\n",
    "7. 7%0"
   ]
  },
  {
   "cell_type": "code",
   "execution_count": 21,
   "metadata": {},
   "outputs": [
    {
     "data": {
      "text/plain": [
       "1"
      ]
     },
     "execution_count": 21,
     "metadata": {},
     "output_type": "execute_result"
    }
   ],
   "source": [
    "5%2"
   ]
  },
  {
   "cell_type": "code",
   "execution_count": 22,
   "metadata": {},
   "outputs": [
    {
     "data": {
      "text/plain": [
       "4"
      ]
     },
     "execution_count": 22,
     "metadata": {},
     "output_type": "execute_result"
    }
   ],
   "source": [
    "9%5"
   ]
  },
  {
   "cell_type": "code",
   "execution_count": 23,
   "metadata": {},
   "outputs": [
    {
     "data": {
      "text/plain": [
       "3"
      ]
     },
     "execution_count": 23,
     "metadata": {},
     "output_type": "execute_result"
    }
   ],
   "source": [
    "15%12"
   ]
  },
  {
   "cell_type": "code",
   "execution_count": 24,
   "metadata": {},
   "outputs": [
    {
     "data": {
      "text/plain": [
       "12"
      ]
     },
     "execution_count": 24,
     "metadata": {},
     "output_type": "execute_result"
    }
   ],
   "source": [
    "12%15"
   ]
  },
  {
   "cell_type": "code",
   "execution_count": 25,
   "metadata": {},
   "outputs": [
    {
     "data": {
      "text/plain": [
       "0"
      ]
     },
     "execution_count": 25,
     "metadata": {},
     "output_type": "execute_result"
    }
   ],
   "source": [
    "6%6"
   ]
  },
  {
   "cell_type": "code",
   "execution_count": 26,
   "metadata": {},
   "outputs": [
    {
     "data": {
      "text/plain": [
       "0"
      ]
     },
     "execution_count": 26,
     "metadata": {},
     "output_type": "execute_result"
    }
   ],
   "source": [
    "0%7"
   ]
  },
  {
   "cell_type": "code",
   "execution_count": 27,
   "metadata": {},
   "outputs": [
    {
     "ename": "ZeroDivisionError",
     "evalue": "integer division or modulo by zero",
     "output_type": "error",
     "traceback": [
      "\u001b[0;31m---------------------------------------------------------------------------\u001b[0m",
      "\u001b[0;31mZeroDivisionError\u001b[0m                         Traceback (most recent call last)",
      "\u001b[0;32m<ipython-input-27-57e481a5c4d4>\u001b[0m in \u001b[0;36m<module>\u001b[0;34m\u001b[0m\n\u001b[0;32m----> 1\u001b[0;31m \u001b[0;36m7\u001b[0m\u001b[0;34m%\u001b[0m\u001b[0;36m0\u001b[0m\u001b[0;34m\u001b[0m\u001b[0m\n\u001b[0m",
      "\u001b[0;31mZeroDivisionError\u001b[0m: integer division or modulo by zero"
     ]
    }
   ],
   "source": [
    "7%0"
   ]
  },
  {
   "cell_type": "markdown",
   "metadata": {},
   "source": [
    "#### 7\n",
    "\n",
    "If it's exactly 2 p.m. and you want to set an alarm to go off in exactly 51 hours. At what time should you set it?"
   ]
  },
  {
   "cell_type": "code",
   "execution_count": 28,
   "metadata": {},
   "outputs": [
    {
     "name": "stdout",
     "output_type": "stream",
     "text": [
      "The alarm should be set at 17 hours in 2 days\n"
     ]
    }
   ],
   "source": [
    "initial_time = 14\n",
    "final_time = 51 + 14\n",
    "\n",
    "final_date = 51 // 24\n",
    "hour_final = final_time % 24\n",
    "\n",
    "print(f'The alarm should be set at {hour_final} hours in {final_date:,} days')"
   ]
  },
  {
   "cell_type": "markdown",
   "metadata": {},
   "source": [
    "#### 8\n",
    "\n",
    "Write a program to solve a general version of the previous problem:\n",
    "\n",
    "1. You receive a time in hours from an user input.\n",
    "2. You receive the number of hours to wait as an user input.\n",
    "3. The program responds when the alarm should be set."
   ]
  },
  {
   "cell_type": "code",
   "execution_count": 29,
   "metadata": {},
   "outputs": [
    {
     "name": "stdin",
     "output_type": "stream",
     "text": [
      "What time is it now (in hours)? 8\n",
      "For how many hours do you wish to wait? 42000\n"
     ]
    },
    {
     "name": "stdout",
     "output_type": "stream",
     "text": [
      "The alarm should be set at 17 hours in 1,750.0 days\n"
     ]
    }
   ],
   "source": [
    "# Get inputs\n",
    "initial_time = int(input('What time is it now (in hours)?'))\n",
    "wait = float(input('For how many hours do you wish to wait?'))\n",
    "\n",
    "# Compute elapsed time\n",
    "final_time = 51 + 14\n",
    "#Compute the number of elapsed days.\n",
    "final_date =  wait// 24\n",
    "# Compute the time of day the alarm goes off\n",
    "hour_final = final_time % 24\n",
    "\n",
    "print(f'The alarm should be set at {hour_final} hours in {final_date:,} days')"
   ]
  }
 ],
 "metadata": {
  "kernelspec": {
   "display_name": "Python 3",
   "language": "python",
   "name": "python3"
  },
  "language_info": {
   "codemirror_mode": {
    "name": "ipython",
    "version": 3
   },
   "file_extension": ".py",
   "mimetype": "text/x-python",
   "name": "python",
   "nbconvert_exporter": "python",
   "pygments_lexer": "ipython3",
   "version": "3.6.4"
  }
 },
 "nbformat": 4,
 "nbformat_minor": 4
}
