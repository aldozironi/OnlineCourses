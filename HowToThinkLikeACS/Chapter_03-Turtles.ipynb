{
 "cells": [
  {
   "cell_type": "markdown",
   "metadata": {},
   "source": [
    "# Chapter 3: Hello Little Turtles\n",
    "\n",
    "**Note: For some reason the turtles graphic screen keeps crashing my kernel, so all the turtles related cells are run in different sessions.** \n",
    "\n",
    "There are many modules in Python that provide powerful features that we can use in our programs. In this chapter we'll use one that allows us to create turtles and use them to draw patterns.\n",
    "\n",
    "## Our First Turtle Program\n",
    "\n",
    "Let's write a couple of lines of Python to start drawing a rectangle."
   ]
  },
  {
   "cell_type": "code",
   "execution_count": 1,
   "metadata": {},
   "outputs": [],
   "source": [
    "# Import the library.\n",
    "import turtle"
   ]
  },
  {
   "cell_type": "code",
   "execution_count": 2,
   "metadata": {},
   "outputs": [],
   "source": [
    "# Create a playground for turtles.\n",
    "wn = turtle.Screen()\n",
    "# Create a turtle named Alex.\n",
    "alex = turtle.Turtle()\n",
    "\n",
    "# Tell Alex to move forward 50 units.\n",
    "alex.forward(50)\n",
    "# Tell Alex to turn by 90 degrees.\n",
    "alex.left(90)\n",
    "# Complete second slide of a rectangle.\n",
    "alex.forward(30)\n",
    "\n",
    "# Wait for user to close window\n",
    "wn.mainloop()"
   ]
  },
  {
   "cell_type": "markdown",
   "metadata": {},
   "source": [
    "Here's what's going on:\n",
    "\n",
    "1. The first line tells Python to load a modeule named turte.\n",
    "2. The dot notation `turtle.Turtle`means _the Turtle type that's defined within the turtle module_\n",
    "3. We create a screen (window) on which we can draw and assign it to wn.\n",
    "4. We instruct the **object** alex to move and to turn by **invoking**, or activating its **methods**, which are the instructions it'll respond to.\n",
    "\n",
    "An object can have various methods -things it can do- and **attributes** -properties. The set of attributes an object has in a given moment in time is called its **state**.\n",
    "\n",
    "We'll change the code a little to allow for user inputs to change tutrle's attributes."
   ]
  },
  {
   "cell_type": "code",
   "execution_count": 2,
   "metadata": {},
   "outputs": [
    {
     "name": "stdin",
     "output_type": "stream",
     "text": [
      "What color do you want the background to be? lightgreen\n",
      "What color do you want your turtle to be? blue\n",
      "What size do you want for your turtle? 3\n"
     ]
    }
   ],
   "source": [
    "# Get input for background color.\n",
    "bg_col = input('What color do you want the background to be?')\n",
    "\n",
    "# Get input for turtle color.\n",
    "turtle_col = input('What color do you want your turtle to be?')\n",
    "\n",
    "# Get input for turtle pen size\n",
    "pen_size = int(input('What size do you want for your turtle?'))\n",
    "\n",
    "# Create a playground for turtles.\n",
    "wn = turtle.Screen()\n",
    "\n",
    "# Set background color.\n",
    "wn.bgcolor(bg_col)\n",
    "# Set the window title.\n",
    "wn.title('Hello')\n",
    "\n",
    "# Create a turtle named Alex.\n",
    "tess = turtle.Turtle()\n",
    "\n",
    "# Change Alex's color.\n",
    "tess.color(turtle_col)\n",
    "# Change Alex's pen size.\n",
    "tess.pensize(pen_size)\n",
    "\n",
    "# Tell Alex to move forward 50 units.\n",
    "tess.forward(50)\n",
    "# Tell Alex to turn by 90 degrees.\n",
    "tess.left(90)\n",
    "# Complete second slide of a rectangle.\n",
    "tess.forward(30)\n",
    "\n",
    "# Wait for user to close window\n",
    "wn.mainloop()"
   ]
  },
  {
   "cell_type": "markdown",
   "metadata": {},
   "source": [
    "## Instances - A Herd of Turtles\n",
    "\n",
    "Just like we can have multiple integers, we can have multiple turtles. Each of them is called an **instance**, with its own attributes and methods:"
   ]
  },
  {
   "cell_type": "code",
   "execution_count": 2,
   "metadata": {},
   "outputs": [],
   "source": [
    "wn = turtle.Screen()         # Set up the window and its attributes\n",
    "wn.bgcolor(\"lightgreen\")\n",
    "wn.title(\"Tess & Alex\")\n",
    "\n",
    "tess = turtle.Turtle()       # Create tess and set some attributes\n",
    "tess.color(\"hotpink\")\n",
    "tess.pensize(5)\n",
    "\n",
    "alex = turtle.Turtle()       # Create alex\n",
    "\n",
    "tess.forward(80)             # Make tess draw equilateral triangle\n",
    "tess.left(120)\n",
    "tess.forward(80)\n",
    "tess.left(120)\n",
    "tess.forward(80)\n",
    "tess.left(120)               # Complete the triangle\n",
    "\n",
    "tess.right(180)              # Turn tess around\n",
    "tess.forward(80)             # Move her away from the origin\n",
    "\n",
    "alex.forward(50)             # Make alex draw a square\n",
    "alex.left(90)\n",
    "alex.forward(50)\n",
    "alex.left(90)\n",
    "alex.forward(50)\n",
    "alex.left(90)\n",
    "alex.forward(50)\n",
    "alex.left(90)\n",
    "\n",
    "wn.mainloop()"
   ]
  },
  {
   "cell_type": "markdown",
   "metadata": {},
   "source": [
    "**Observations:**\n",
    "\n",
    "1. There are 360 degrees in a full circle. If we add up all the turns a turns a turtle makes, we can figure out if it's a multiple of 360 and thus a turtle is facing the same direction it began in.\n",
    "2. If we had left out the final turn for alex and tess in the previous code, it wouldn't _feel_ like the shape is complete.\n",
    "3. The blank line between the triangle and line tess draws gives you an insight that the programmer is chunking the two movements separately. First you draw the triangle, then you move tess away from it.\n",
    "4. Comments can be useful to document the big ideas.\n",
    "5. Each instance of a turtle has its own state and behaviour.\n",
    "\n",
    "## The For Loop\n",
    "\n",
    "In theprevious code, we had to make alex move around several times in the same way. if we had needed to do a polygon with more sides, the code would look terrible. An important part of programing languages is that they allow you to do things over and over again. In Python one of the tools we have for this is the **for loop**:"
   ]
  },
  {
   "cell_type": "code",
   "execution_count": 2,
   "metadata": {},
   "outputs": [
    {
     "name": "stdout",
     "output_type": "stream",
     "text": [
      "Hi Joe.  Please come to my party on Saturday!\n",
      "Hi Zoe.  Please come to my party on Saturday!\n",
      "Hi Brad.  Please come to my party on Saturday!\n",
      "Hi Angelina.  Please come to my party on Saturday!\n",
      "Hi Zuki.  Please come to my party on Saturday!\n",
      "Hi Thandi.  Please come to my party on Saturday!\n",
      "Hi Paris.  Please come to my party on Saturday!\n"
     ]
    }
   ],
   "source": [
    "for f in [\"Joe\",\"Zoe\",\"Brad\",\"Angelina\",\"Zuki\",\"Thandi\",\"Paris\"]:\n",
    "    invite = \"Hi \" + f + \".  Please come to my party on Saturday!\"\n",
    "    print(invite)"
   ]
  },
  {
   "cell_type": "markdown",
   "metadata": {},
   "source": [
    "In the previous code:\n",
    "\n",
    "1. The variable f is called **loop variable**.\n",
    "2. Lines 2 and 3 are the **loop body**. It's always indented.\n",
    "3. On each **iteration**, first a check is made to see if there are still more items to be processed (**terminating condition**).\n",
    "   a) If that's not the case, the process ends.\n",
    "   b) If there are elements left, the loop variable is updated to refer to the next item.\n",
    "4. At the end of each execution, Python returns to the `for`statement.\n",
    "\n",
    "## Flow of Execution of the For Loop\n",
    "\n",
    "As a program executes, the interpreter always keeps track of which statement is abount to be executed. This is called the **control flow** of the **flow of execution** of the program. Wou can keep track of it using a **flowchart**.\n",
    "\n",
    "## The Loop Simplifies our Turtle Program\n",
    "\n",
    "Here's an alternate version that uses a for loop to control the turtles:"
   ]
  },
  {
   "cell_type": "code",
   "execution_count": 2,
   "metadata": {},
   "outputs": [],
   "source": [
    "wn = turtle.Screen()         # Set up the window and its attributes\n",
    "wn.bgcolor(\"lightgreen\")\n",
    "wn.title(\"Tess & Alex\")\n",
    "\n",
    "tess = turtle.Turtle()       # Create tess and set some attributes\n",
    "tess.color(\"hotpink\")\n",
    "tess.pensize(5)\n",
    "\n",
    "alex = turtle.Turtle()       # Create alex\n",
    "\n",
    "for i in [0,1,2]:\n",
    "    tess.forward(80)\n",
    "    tess.left(120)\n",
    "\n",
    "tess.right(180)              # Turn tess around\n",
    "tess.forward(80)             # Move her away from the origin\n",
    "\n",
    "for i in [0,1,2,3]:\n",
    "    alex.forward(50)\n",
    "    alex.left(90)\n",
    "\n",
    "wn.mainloop()"
   ]
  },
  {
   "cell_type": "markdown",
   "metadata": {},
   "source": [
    "Notes:\n",
    "\n",
    "1. The important part isn't that we saved lines of code, but that we found a repeating pattern of statements and reorganized our program to repeat the pattern.\n",
    "2. The values `[0, 1, 2,3]` were provided to make the loop body execute 4 times. The values were chosen by convinience and clarity. This method is so popular that Python provides the `range` method.\n",
    "3. Computer scientists count from 0.\n",
    "\n",
    "We can also iterate through values in lists. Therefore, if we do:"
   ]
  },
  {
   "cell_type": "code",
   "execution_count": 2,
   "metadata": {},
   "outputs": [],
   "source": [
    "wn = turtle.Screen()         # Set up the window and its attributes\n",
    "wn.bgcolor(\"lightgreen\")\n",
    "wn.title(\"Multicolored Alex\")\n",
    "\n",
    "alex = turtle.Turtle()       # Create alex\n",
    "\n",
    "for c in[\"yellow\", \"red\", \"purple\", \"blue\"]:\n",
    "    alex.color(c)\n",
    "    alex.forward(50)\n",
    "    alex.left(90)\n",
    "\n",
    "wn.mainloop()"
   ]
  },
  {
   "cell_type": "markdown",
   "metadata": {},
   "source": [
    "we'll change alex's state in each iteration.\n",
    "\n",
    "## A Few More Turtle Methods and Tricks\n",
    "\n",
    "### Negative values.\n",
    "\n",
    "Turtle methdos allow for negative values in angles and distances, meaning \"in the opposite direction\".\n",
    "\n",
    "This means that although we could have both a method for moving forwards and backwards, it's unnecessary. Part of thinking like a scientist is to understand more of the structure and relationships in our field.\n",
    "\n",
    "### Moving without drawing a line.\n",
    "\n",
    "We can avoid making a line with the `penup` method. To have the turtle start drawing lines again, we can use  `pendown`.\n",
    "\n",
    "### Turtle shapes\n",
    "\n",
    "So far, our turtles have looked lke arrows, but we can change their form by modifying their `shape` attribute. Some options include:\n",
    "\n",
    "* arrow\n",
    "* blank\n",
    "* circle\n",
    "* classic\n",
    "* square\n",
    "* triangle\n",
    "* turtle\n",
    "\n",
    "### Speed\n",
    "\n",
    "You can change the turtle's animation speed with the `speed` method. Settings go from 0 to 10, where:\n",
    "\n",
    "1. 1 is the slowest value.\n",
    "2. 10 is the fastest value.\n",
    "3. 0 means skip animations.\n",
    "\n",
    "### Stamps\n",
    "\n",
    "A turtle can stamp its footprint onto the canvas, leaving an impression at a moment in their passage."
   ]
  },
  {
   "cell_type": "code",
   "execution_count": 2,
   "metadata": {},
   "outputs": [],
   "source": [
    "wn = turtle.Screen()\n",
    "wn.bgcolor(\"lightgreen\")\n",
    "tess = turtle.Turtle()\n",
    "tess.shape(\"turtle\")\n",
    "tess.color(\"blue\")\n",
    "\n",
    "tess.penup()                # This is new\n",
    "size = 20\n",
    "for i in range(30):\n",
    "    tess.stamp()             # Leave an impression on the canvas\n",
    "    size = size + 3          # Increase the size on every iteration\n",
    "    tess.forward(size)       # Move tess along\n",
    "    tess.right(24)           #  ...  and turn her\n",
    "\n",
    "wn.mainloop()"
   ]
  },
  {
   "cell_type": "markdown",
   "metadata": {},
   "source": [
    "## Excercises\n",
    "\n",
    "### 1\n",
    "\n",
    "Write a program that prints\n",
    "\n",
    "> We like Python's turtles!\n",
    "\n",
    "1,000 times."
   ]
  },
  {
   "cell_type": "code",
   "execution_count": null,
   "metadata": {},
   "outputs": [],
   "source": [
    "for time in range(1000):\n",
    "    print(\"We like Python's turtles!\")"
   ]
  },
  {
   "cell_type": "markdown",
   "metadata": {},
   "source": [
    "### 2\n",
    "\n",
    "Name 3 attributes and 3 methods of your cellphone.\n",
    "\n",
    "**Answer:**\n",
    "\n",
    "* Attributes:\n",
    "  1. Color.\n",
    "  2. Sreen size.\n",
    "  3. RAM.\n",
    "* Methods:\n",
    "  1. Making a call.\n",
    "  2. Sending a text.\n",
    "  3. Installing apps.\n",
    "  \n",
    "### 3\n",
    "\n",
    "Write a program that uses a loop to print \n",
    "\n",
    "> One of the months of the year is January.\n",
    "\n",
    "> One of the months of the year is February.\n",
    "\n",
    "and so on for each of the months."
   ]
  },
  {
   "cell_type": "code",
   "execution_count": 3,
   "metadata": {},
   "outputs": [
    {
     "name": "stdout",
     "output_type": "stream",
     "text": [
      "One of the months of the year is January.\n",
      "One of the months of the year is February.\n",
      "One of the months of the year is March.\n",
      "One of the months of the year is April.\n",
      "One of the months of the year is May.\n",
      "One of the months of the year is June.\n",
      "One of the months of the year is July.\n",
      "One of the months of the year is August.\n",
      "One of the months of the year is September.\n",
      "One of the months of the year is October.\n",
      "One of the months of the year is November.\n",
      "One of the months of the year is December.\n"
     ]
    }
   ],
   "source": [
    "months = [\n",
    "    'January',\n",
    "    'February',\n",
    "    'March',\n",
    "    'April',\n",
    "    'May',\n",
    "    'June',\n",
    "    'July',\n",
    "    'August',\n",
    "    'September',\n",
    "    'October',\n",
    "    'November',\n",
    "    'December'\n",
    "]\n",
    "\n",
    "for month in months:\n",
    "    print(f'One of the months of the year is {month}.')"
   ]
  },
  {
   "cell_type": "markdown",
   "metadata": {},
   "source": [
    "### 4\n",
    "\n",
    "Suppose our turtle tess is at heading 0 — facing east. We execute the statement \n",
    "\n",
    "`tess.left(3645)`.\n",
    "\n",
    "What does tess do, and what is her final heading?\n",
    "\n",
    "**Answer:**\n",
    "\n",
    "Tess will turn 3,645 degrees (10 full turns), and end up facing at 45 degrees.\n",
    "\n",
    "### 5\n",
    "\n",
    "Assume you have the assignment \n",
    "\n",
    "`xs = [12, 10, 32, 3, 66, 17, 42, 99, 20]`\n",
    "\n",
    "1. Write a loop that prints each of the numbers on a new line.\n",
    "2. Write a loop that prints each number and its square on a new line.\n",
    "3. Write a loop that adds all the numbers from the list into a variable called total. You should set the total variable to have the value 0 before you start adding them up, and print the value in total after the loop has completed.\n",
    "4. Print the product of all the numbers in the list. (product means all multiplied together)"
   ]
  },
  {
   "cell_type": "code",
   "execution_count": 4,
   "metadata": {},
   "outputs": [
    {
     "name": "stdout",
     "output_type": "stream",
     "text": [
      "12\n",
      "10\n",
      "32\n",
      "3\n",
      "66\n",
      "17\n",
      "42\n",
      "99\n",
      "20\n",
      "The square of 12 is 144\n",
      "The square of 10 is 100\n",
      "The square of 32 is 1024\n",
      "The square of 3 is 9\n",
      "The square of 66 is 4356\n",
      "The square of 17 is 289\n",
      "The square of 42 is 1764\n",
      "The square of 99 is 9801\n",
      "The square of 20 is 400\n",
      "The sum of numbers in the xs list is 301\n",
      "The product of numbers in the xs list is 1074879590400\n"
     ]
    }
   ],
   "source": [
    "xs = [12, 10, 32, 3, 66, 17, 42, 99, 20]\n",
    "\n",
    "# 1: Print each number in a new line.\n",
    "for num in xs:\n",
    "    print(num)\n",
    "    \n",
    "# 2: Print each number and its square in a new line.\n",
    "for num in xs:\n",
    "    print(f'The square of {num} is {num**2}')\n",
    "\n",
    "# 3: Adding all numbers.\n",
    "running_sum = 0\n",
    "for num in xs:\n",
    "    running_sum += num\n",
    "print(f'The sum of numbers in the xs list is {running_sum}')\n",
    "\n",
    "# 4: Product of the numbers\n",
    "running_prod = 1\n",
    "for num in xs:\n",
    "    running_prod *= num\n",
    "print(f'The product of numbers in the xs list is {running_prod}')"
   ]
  },
  {
   "cell_type": "markdown",
   "metadata": {},
   "source": [
    "### 6\n",
    "\n",
    "Use `for` loops to make a turtle draw the following regular polygons:\n",
    "\n",
    "* Equilateral triangle.\n",
    "* Square.\n",
    "* Hexagon.\n",
    "* Octagon."
   ]
  },
  {
   "cell_type": "code",
   "execution_count": 2,
   "metadata": {},
   "outputs": [],
   "source": [
    "num_sides = [3, 4, 6, 8]\n",
    "side_length = 40\n",
    "\n",
    "# Initialize the screen.\n",
    "wn = turtle.Screen()\n",
    "\n",
    "# Initialize turtle.\n",
    "tess = turtle.Turtle()\n",
    "\n",
    "# For each desired polygon.\n",
    "for num_side in num_sides:\n",
    "    \n",
    "    # Compute the angle of rotation.\n",
    "    angle = 360 / num_side\n",
    "    \n",
    "    # Draw the polygon.\n",
    "    for i in range(num_side):\n",
    "        tess.forward(side_length)\n",
    "        tess.left(angle)\n",
    "    \n",
    "    # Move away to avoid polygon overlap\n",
    "    tess.forward(3 * side_length)\n",
    "\n",
    "wn.mainloop()"
   ]
  },
  {
   "cell_type": "markdown",
   "metadata": {},
   "source": [
    "### 7, 8\n",
    "\n",
    "#### 7\n",
    "Use a turtle to draw a walk where every 100 steps the direction changes in the following angles:\n",
    "\n",
    "`[160, -43, 270, -97, -43, 200, -940, 17, -86]`\n",
    "\n",
    "#### 8\n",
    "Print what direction the walk ends at."
   ]
  },
  {
   "cell_type": "code",
   "execution_count": 5,
   "metadata": {},
   "outputs": [],
   "source": [
    "angles = [\n",
    "    160,\n",
    "    -43,\n",
    "    270,\n",
    "    -97,\n",
    "    -43,\n",
    "    200,\n",
    "    -940,\n",
    "    17,\n",
    "    -86\n",
    "]"
   ]
  },
  {
   "cell_type": "code",
   "execution_count": 2,
   "metadata": {},
   "outputs": [
    {
     "name": "stdout",
     "output_type": "stream",
     "text": [
      "The final angle is -562.\n"
     ]
    }
   ],
   "source": [
    "step_length = 100\n",
    "\n",
    "# Initialize the screen.\n",
    "wn = turtle.Screen()\n",
    "\n",
    "# Initialize turtle.\n",
    "tess = turtle.Turtle()\n",
    "\n",
    "# Do the walk\n",
    "for angle in angles:\n",
    "    tess.forward(step_length)\n",
    "    tess.left(angle)\n",
    "    "
   ]
  },
  {
   "cell_type": "code",
   "execution_count": 6,
   "metadata": {},
   "outputs": [
    {
     "name": "stdout",
     "output_type": "stream",
     "text": [
      "The final angle is 158 degrees.\n"
     ]
    }
   ],
   "source": [
    "print(f'The final angle is {sum(angles)%360} degrees.')"
   ]
  },
  {
   "cell_type": "markdown",
   "metadata": {},
   "source": [
    "### 9\n",
    "\n",
    "If you were going to draw a regular polygon with 18 sides, what angle would you need to turn the turtle at each corner?"
   ]
  },
  {
   "cell_type": "code",
   "execution_count": 7,
   "metadata": {},
   "outputs": [
    {
     "name": "stdout",
     "output_type": "stream",
     "text": [
      "In order to build a regular 18-sided polygon, you must turn 20.00 degrees.\n"
     ]
    }
   ],
   "source": [
    "sides = 18\n",
    "\n",
    "print(f'In order to build a regular {sides}-sided polygon, you must turn {360 / sides:,.2f} degrees.')"
   ]
  },
  {
   "cell_type": "markdown",
   "metadata": {},
   "source": [
    "### 10\n",
    "\n",
    "Anticipate what each of the following lines will do and then execute to see if your predictions were correct."
   ]
  },
  {
   "cell_type": "code",
   "execution_count": 2,
   "metadata": {},
   "outputs": [],
   "source": [
    "wn = turtle.Screen()  # Instance a window.\n",
    "tess = turtle.Turtle()  # Instance a Turtle\n",
    "tess.right(90)  # Turn right (clockwise) 90 degrees.\n",
    "tess.left(3600) # Turn left (counter-clockwise) 3600 degrees.\n",
    "                # (10 full turns, end up facing straight down).\n",
    "tess.right(-90)  # Turn left (counter-clockwise) 90 degrees,\n",
    "                 #end up at starting position.\n",
    "tess.speed(10)  # Set speed to maximum.\n",
    "tess.left(3600) # Turn left (counter-clockwise) 3600 degrees.\n",
    "                # (10 full turns, end up facing to the right).\n",
    "tess.speed(0)  # Skip animations\n",
    "tess.left(3645) # Turn left (counter-clockwise) 3645 degrees.\n",
    "                # (10 full turns, end up facing at a 45 degree angle).\n",
    "tess.forward(-100) # Move backward (at a 225 degree angle) 100 units."
   ]
  },
  {
   "cell_type": "markdown",
   "metadata": {},
   "source": [
    "### 11\n",
    "\n",
    "Draw a star.\n"
   ]
  },
  {
   "cell_type": "code",
   "execution_count": 2,
   "metadata": {},
   "outputs": [],
   "source": [
    "# Create a playground for turtles.\n",
    "wn = turtle.Screen()\n",
    "\n",
    "# Instance a turtle.\n",
    "tess = turtle.Turtle()\n",
    "\n",
    "# Variable to switch between angles\n",
    "direction = 1\n",
    "\n",
    "sides = 4\n",
    "\n",
    "angle = 72\n",
    "marker_size = 100\n",
    "\n",
    "tess.left(angle)\n",
    "tess.forward(marker_size)\n",
    "# Turn angle degrees\n",
    "new_angle = 180 - (72*2)\n",
    "\n",
    "for side in range(sides):\n",
    "    \n",
    "    angle = new_angle\n",
    "    marker_size *= -1\n",
    "    \n",
    "    tess.left(angle)\n",
    "    tess.forward(marker_size) \n",
    "    \n",
    "    \n",
    "# Wait for user to close window\n",
    "tess.hideturtle()\n",
    "wn.mainloop()"
   ]
  },
  {
   "cell_type": "markdown",
   "metadata": {},
   "source": [
    "### 12\n",
    "\n",
    "Write a program to draw the face of a clock."
   ]
  },
  {
   "cell_type": "code",
   "execution_count": 2,
   "metadata": {},
   "outputs": [],
   "source": [
    "# Create a playground for turtles.\n",
    "wn = turtle.Screen()\n",
    "wn.bgcolor(\"lightgreen\")\n",
    "\n",
    "# Instance a turtle.\n",
    "tess = turtle.Turtle()\n",
    "tess.shape(\"turtle\")\n",
    "tess.color('blue')\n",
    "tess.pensize(3)\n",
    "\n",
    "diameter = 100\n",
    "marker_size = 10\n",
    "space_to_turtle = 10\n",
    "sides = 12 # Number of positions in the clock.\n",
    "# Compute the angle to turn in each iteration.\n",
    "angle = 360 / sides\n",
    "\n",
    "for side in range(sides):\n",
    "    \n",
    "    # Turn angle degrees\n",
    "    tess.right(angle)\n",
    "    \n",
    "    # Lift the pen.\n",
    "    tess.penup()\n",
    "    # Move to the start of the marker.\n",
    "    tess.forward(diameter) \n",
    "    \n",
    "    # Write the marker\n",
    "    tess.pendown()\n",
    "    tess.forward(marker_size)\n",
    "    \n",
    "    # Lift the pen.\n",
    "    tess.penup()\n",
    "    \n",
    "    # Move to the next position.\n",
    "    tess.forward(space_to_turtle)\n",
    "    \n",
    "    # Stamp the position.\n",
    "    tess.stamp()\n",
    "    \n",
    "    # Go back to starting position.\n",
    "    tess.forward(diameter + marker_size + space_to_turtle)\n",
    "\n",
    "# Wait for user to close window\n",
    "wn.mainloop()"
   ]
  },
  {
   "cell_type": "markdown",
   "metadata": {},
   "source": [
    "### 13\n",
    "\n",
    "What's the type of a turtle?"
   ]
  },
  {
   "cell_type": "code",
   "execution_count": 8,
   "metadata": {},
   "outputs": [
    {
     "data": {
      "text/plain": [
       "turtle.Turtle"
      ]
     },
     "execution_count": 8,
     "metadata": {},
     "output_type": "execute_result"
    }
   ],
   "source": [
    "tess = turtle.Turtle()\n",
    "type(tess)"
   ]
  },
  {
   "cell_type": "markdown",
   "metadata": {},
   "source": [
    "### 14\n",
    "\n",
    "What's the collective noun for turtles?\n",
    "\n",
    "**Answer:**\n",
    "\n",
    "A group of turtles is a **bale**.\n",
    "\n",
    "### 15\n",
    "\n",
    "1. What's the collective noun for pythons?\n",
    "2. Are they vipers?\n",
    "3. Are they venomous?\n",
    "\n",
    "**Answer:**\n",
    "\n",
    "1. There doesn't seem to be a collective noun for pythons in specific. The ones for snakes are **pit** and **den**.\n",
    "2. No.\n",
    "3. No."
   ]
  }
 ],
 "metadata": {
  "kernelspec": {
   "display_name": "Python 3",
   "language": "python",
   "name": "python3"
  },
  "language_info": {
   "codemirror_mode": {
    "name": "ipython",
    "version": 3
   },
   "file_extension": ".py",
   "mimetype": "text/x-python",
   "name": "python",
   "nbconvert_exporter": "python",
   "pygments_lexer": "ipython3",
   "version": "3.6.4"
  }
 },
 "nbformat": 4,
 "nbformat_minor": 4
}
